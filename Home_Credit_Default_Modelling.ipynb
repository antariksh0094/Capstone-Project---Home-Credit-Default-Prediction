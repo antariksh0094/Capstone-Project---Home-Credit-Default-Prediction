{
  "nbformat": 4,
  "nbformat_minor": 0,
  "metadata": {
    "colab": {
      "name": "Home Credit Default - Modelling.ipynb",
      "provenance": [],
      "collapsed_sections": []
    },
    "kernelspec": {
      "name": "python3",
      "display_name": "Python 3"
    }
  },
  "cells": [
    {
      "cell_type": "code",
      "metadata": {
        "id": "Kmuu_MJwg23C",
        "colab_type": "code",
        "colab": {
          "base_uri": "https://localhost:8080/",
          "height": 128
        },
        "outputId": "29151186-1b96-4171-eb08-9e668e3e948b"
      },
      "source": [
        "from google.colab import drive\n",
        "drive.mount('/content/drive')"
      ],
      "execution_count": 1,
      "outputs": [
        {
          "output_type": "stream",
          "text": [
            "Go to this URL in a browser: https://accounts.google.com/o/oauth2/auth?client_id=947318989803-6bn6qk8qdgf4n4g3pfee6491hc0brc4i.apps.googleusercontent.com&redirect_uri=urn%3aietf%3awg%3aoauth%3a2.0%3aoob&response_type=code&scope=email%20https%3a%2f%2fwww.googleapis.com%2fauth%2fdocs.test%20https%3a%2f%2fwww.googleapis.com%2fauth%2fdrive%20https%3a%2f%2fwww.googleapis.com%2fauth%2fdrive.photos.readonly%20https%3a%2f%2fwww.googleapis.com%2fauth%2fpeopleapi.readonly\n",
            "\n",
            "Enter your authorization code:\n",
            "··········\n",
            "Mounted at /content/drive\n"
          ],
          "name": "stdout"
        }
      ]
    },
    {
      "cell_type": "code",
      "metadata": {
        "id": "XPUWkd55wbYX",
        "colab_type": "code",
        "colab": {}
      },
      "source": [
        "import numpy as np\n",
        "import pandas as pd\n",
        "import matplotlib.pyplot as plt"
      ],
      "execution_count": null,
      "outputs": []
    },
    {
      "cell_type": "code",
      "metadata": {
        "id": "utNMu8xaefYq",
        "colab_type": "code",
        "colab": {}
      },
      "source": [
        "pd.max_rows = 200\n",
        "pd.max_columns = 200\n",
        "plt.rcParams['figure.figsize'] = (12,10)"
      ],
      "execution_count": null,
      "outputs": []
    },
    {
      "cell_type": "code",
      "metadata": {
        "id": "JWd9dz3ujwR8",
        "colab_type": "code",
        "colab": {}
      },
      "source": [
        "df = pd.read_csv('/content/drive/My Drive/Colab Notebooks/Home Credit Default/application_train.csv')"
      ],
      "execution_count": null,
      "outputs": []
    },
    {
      "cell_type": "code",
      "metadata": {
        "id": "_kV8d_U79BLi",
        "colab_type": "code",
        "colab": {}
      },
      "source": [
        "df_copy = df.copy()"
      ],
      "execution_count": null,
      "outputs": []
    },
    {
      "cell_type": "code",
      "metadata": {
        "id": "4bs2rvgpy_Fk",
        "colab_type": "code",
        "colab": {
          "base_uri": "https://localhost:8080/",
          "height": 1000
        },
        "outputId": "75d4830a-fa24-4369-ffc2-82fbb829bf7d"
      },
      "source": [
        "df.info(verbose=True)"
      ],
      "execution_count": null,
      "outputs": [
        {
          "output_type": "stream",
          "text": [
            "<class 'pandas.core.frame.DataFrame'>\n",
            "RangeIndex: 307511 entries, 0 to 307510\n",
            "Data columns (total 122 columns):\n",
            " #   Column                        Dtype  \n",
            "---  ------                        -----  \n",
            " 0   SK_ID_CURR                    int64  \n",
            " 1   TARGET                        int64  \n",
            " 2   NAME_CONTRACT_TYPE            object \n",
            " 3   CODE_GENDER                   object \n",
            " 4   FLAG_OWN_CAR                  object \n",
            " 5   FLAG_OWN_REALTY               object \n",
            " 6   CNT_CHILDREN                  int64  \n",
            " 7   AMT_INCOME_TOTAL              float64\n",
            " 8   AMT_CREDIT                    float64\n",
            " 9   AMT_ANNUITY                   float64\n",
            " 10  AMT_GOODS_PRICE               float64\n",
            " 11  NAME_TYPE_SUITE               object \n",
            " 12  NAME_INCOME_TYPE              object \n",
            " 13  NAME_EDUCATION_TYPE           object \n",
            " 14  NAME_FAMILY_STATUS            object \n",
            " 15  NAME_HOUSING_TYPE             object \n",
            " 16  REGION_POPULATION_RELATIVE    float64\n",
            " 17  DAYS_BIRTH                    int64  \n",
            " 18  DAYS_EMPLOYED                 int64  \n",
            " 19  DAYS_REGISTRATION             float64\n",
            " 20  DAYS_ID_PUBLISH               int64  \n",
            " 21  OWN_CAR_AGE                   float64\n",
            " 22  FLAG_MOBIL                    int64  \n",
            " 23  FLAG_EMP_PHONE                int64  \n",
            " 24  FLAG_WORK_PHONE               int64  \n",
            " 25  FLAG_CONT_MOBILE              int64  \n",
            " 26  FLAG_PHONE                    int64  \n",
            " 27  FLAG_EMAIL                    int64  \n",
            " 28  OCCUPATION_TYPE               object \n",
            " 29  CNT_FAM_MEMBERS               float64\n",
            " 30  REGION_RATING_CLIENT          int64  \n",
            " 31  REGION_RATING_CLIENT_W_CITY   int64  \n",
            " 32  WEEKDAY_APPR_PROCESS_START    object \n",
            " 33  HOUR_APPR_PROCESS_START       int64  \n",
            " 34  REG_REGION_NOT_LIVE_REGION    int64  \n",
            " 35  REG_REGION_NOT_WORK_REGION    int64  \n",
            " 36  LIVE_REGION_NOT_WORK_REGION   int64  \n",
            " 37  REG_CITY_NOT_LIVE_CITY        int64  \n",
            " 38  REG_CITY_NOT_WORK_CITY        int64  \n",
            " 39  LIVE_CITY_NOT_WORK_CITY       int64  \n",
            " 40  ORGANIZATION_TYPE             object \n",
            " 41  EXT_SOURCE_1                  float64\n",
            " 42  EXT_SOURCE_2                  float64\n",
            " 43  EXT_SOURCE_3                  float64\n",
            " 44  APARTMENTS_AVG                float64\n",
            " 45  BASEMENTAREA_AVG              float64\n",
            " 46  YEARS_BEGINEXPLUATATION_AVG   float64\n",
            " 47  YEARS_BUILD_AVG               float64\n",
            " 48  COMMONAREA_AVG                float64\n",
            " 49  ELEVATORS_AVG                 float64\n",
            " 50  ENTRANCES_AVG                 float64\n",
            " 51  FLOORSMAX_AVG                 float64\n",
            " 52  FLOORSMIN_AVG                 float64\n",
            " 53  LANDAREA_AVG                  float64\n",
            " 54  LIVINGAPARTMENTS_AVG          float64\n",
            " 55  LIVINGAREA_AVG                float64\n",
            " 56  NONLIVINGAPARTMENTS_AVG       float64\n",
            " 57  NONLIVINGAREA_AVG             float64\n",
            " 58  APARTMENTS_MODE               float64\n",
            " 59  BASEMENTAREA_MODE             float64\n",
            " 60  YEARS_BEGINEXPLUATATION_MODE  float64\n",
            " 61  YEARS_BUILD_MODE              float64\n",
            " 62  COMMONAREA_MODE               float64\n",
            " 63  ELEVATORS_MODE                float64\n",
            " 64  ENTRANCES_MODE                float64\n",
            " 65  FLOORSMAX_MODE                float64\n",
            " 66  FLOORSMIN_MODE                float64\n",
            " 67  LANDAREA_MODE                 float64\n",
            " 68  LIVINGAPARTMENTS_MODE         float64\n",
            " 69  LIVINGAREA_MODE               float64\n",
            " 70  NONLIVINGAPARTMENTS_MODE      float64\n",
            " 71  NONLIVINGAREA_MODE            float64\n",
            " 72  APARTMENTS_MEDI               float64\n",
            " 73  BASEMENTAREA_MEDI             float64\n",
            " 74  YEARS_BEGINEXPLUATATION_MEDI  float64\n",
            " 75  YEARS_BUILD_MEDI              float64\n",
            " 76  COMMONAREA_MEDI               float64\n",
            " 77  ELEVATORS_MEDI                float64\n",
            " 78  ENTRANCES_MEDI                float64\n",
            " 79  FLOORSMAX_MEDI                float64\n",
            " 80  FLOORSMIN_MEDI                float64\n",
            " 81  LANDAREA_MEDI                 float64\n",
            " 82  LIVINGAPARTMENTS_MEDI         float64\n",
            " 83  LIVINGAREA_MEDI               float64\n",
            " 84  NONLIVINGAPARTMENTS_MEDI      float64\n",
            " 85  NONLIVINGAREA_MEDI            float64\n",
            " 86  FONDKAPREMONT_MODE            object \n",
            " 87  HOUSETYPE_MODE                object \n",
            " 88  TOTALAREA_MODE                float64\n",
            " 89  WALLSMATERIAL_MODE            object \n",
            " 90  EMERGENCYSTATE_MODE           object \n",
            " 91  OBS_30_CNT_SOCIAL_CIRCLE      float64\n",
            " 92  DEF_30_CNT_SOCIAL_CIRCLE      float64\n",
            " 93  OBS_60_CNT_SOCIAL_CIRCLE      float64\n",
            " 94  DEF_60_CNT_SOCIAL_CIRCLE      float64\n",
            " 95  DAYS_LAST_PHONE_CHANGE        float64\n",
            " 96  FLAG_DOCUMENT_2               int64  \n",
            " 97  FLAG_DOCUMENT_3               int64  \n",
            " 98  FLAG_DOCUMENT_4               int64  \n",
            " 99  FLAG_DOCUMENT_5               int64  \n",
            " 100 FLAG_DOCUMENT_6               int64  \n",
            " 101 FLAG_DOCUMENT_7               int64  \n",
            " 102 FLAG_DOCUMENT_8               int64  \n",
            " 103 FLAG_DOCUMENT_9               int64  \n",
            " 104 FLAG_DOCUMENT_10              int64  \n",
            " 105 FLAG_DOCUMENT_11              int64  \n",
            " 106 FLAG_DOCUMENT_12              int64  \n",
            " 107 FLAG_DOCUMENT_13              int64  \n",
            " 108 FLAG_DOCUMENT_14              int64  \n",
            " 109 FLAG_DOCUMENT_15              int64  \n",
            " 110 FLAG_DOCUMENT_16              int64  \n",
            " 111 FLAG_DOCUMENT_17              int64  \n",
            " 112 FLAG_DOCUMENT_18              int64  \n",
            " 113 FLAG_DOCUMENT_19              int64  \n",
            " 114 FLAG_DOCUMENT_20              int64  \n",
            " 115 FLAG_DOCUMENT_21              int64  \n",
            " 116 AMT_REQ_CREDIT_BUREAU_HOUR    float64\n",
            " 117 AMT_REQ_CREDIT_BUREAU_DAY     float64\n",
            " 118 AMT_REQ_CREDIT_BUREAU_WEEK    float64\n",
            " 119 AMT_REQ_CREDIT_BUREAU_MON     float64\n",
            " 120 AMT_REQ_CREDIT_BUREAU_QRT     float64\n",
            " 121 AMT_REQ_CREDIT_BUREAU_YEAR    float64\n",
            "dtypes: float64(65), int64(41), object(16)\n",
            "memory usage: 286.2+ MB\n"
          ],
          "name": "stdout"
        }
      ]
    },
    {
      "cell_type": "code",
      "metadata": {
        "id": "lBrbcNi1kgqK",
        "colab_type": "code",
        "colab": {}
      },
      "source": [
        "target = df['TARGET']\n",
        "sk_id_curr = df['SK_ID_CURR']"
      ],
      "execution_count": null,
      "outputs": []
    },
    {
      "cell_type": "code",
      "metadata": {
        "id": "aMgtBFYr3EQV",
        "colab_type": "code",
        "colab": {}
      },
      "source": [
        "list(df.columns)"
      ],
      "execution_count": null,
      "outputs": []
    },
    {
      "cell_type": "markdown",
      "metadata": {
        "id": "gk6XcxZ89rnc",
        "colab_type": "text"
      },
      "source": [
        "At the outset, lets just remove null values, fit a classification model, and see how it performs."
      ]
    },
    {
      "cell_type": "markdown",
      "metadata": {
        "id": "kEh7C9hJwYoO",
        "colab_type": "text"
      },
      "source": [
        "Separate out the categorical and numerical features."
      ]
    },
    {
      "cell_type": "code",
      "metadata": {
        "id": "gaIJj3YkLKNM",
        "colab_type": "code",
        "colab": {}
      },
      "source": [
        "numerical = [\n",
        " 'AMT_INCOME_TOTAL',\n",
        " 'AMT_CREDIT',\n",
        " 'AMT_ANNUITY',\n",
        " 'AMT_GOODS_PRICE',\n",
        " 'REGION_POPULATION_RELATIVE',\n",
        " 'DAYS_BIRTH',\n",
        " 'DAYS_EMPLOYED',\n",
        " 'DAYS_REGISTRATION',\n",
        " 'DAYS_ID_PUBLISH',\n",
        " 'OWN_CAR_AGE',\n",
        " 'EXT_SOURCE_1',\n",
        " 'EXT_SOURCE_2',\n",
        " 'EXT_SOURCE_3',\n",
        " 'APARTMENTS_AVG',\n",
        " 'BASEMENTAREA_AVG',\n",
        " 'YEARS_BEGINEXPLUATATION_AVG',\n",
        " 'YEARS_BUILD_AVG',\n",
        " 'COMMONAREA_AVG',\n",
        " 'ELEVATORS_AVG',\n",
        " 'ENTRANCES_AVG',\n",
        " 'FLOORSMAX_AVG',\n",
        " 'FLOORSMIN_AVG',\n",
        " 'LANDAREA_AVG',\n",
        " 'LIVINGAPARTMENTS_AVG',\n",
        " 'LIVINGAREA_AVG',\n",
        " 'NONLIVINGAPARTMENTS_AVG',\n",
        " 'NONLIVINGAREA_AVG',\n",
        " 'APARTMENTS_MODE',\n",
        " 'BASEMENTAREA_MODE',\n",
        " 'YEARS_BEGINEXPLUATATION_MODE',\n",
        " 'YEARS_BUILD_MODE',\n",
        " 'COMMONAREA_MODE',\n",
        " 'ELEVATORS_MODE',\n",
        " 'ENTRANCES_MODE',\n",
        " 'FLOORSMAX_MODE',\n",
        " 'FLOORSMIN_MODE',\n",
        " 'LANDAREA_MODE',\n",
        " 'LIVINGAPARTMENTS_MODE',\n",
        " 'LIVINGAREA_MODE',\n",
        " 'NONLIVINGAPARTMENTS_MODE',\n",
        " 'NONLIVINGAREA_MODE',\n",
        " 'APARTMENTS_MEDI',\n",
        " 'BASEMENTAREA_MEDI',\n",
        " 'YEARS_BEGINEXPLUATATION_MEDI',\n",
        " 'YEARS_BUILD_MEDI',\n",
        " 'COMMONAREA_MEDI',\n",
        " 'ELEVATORS_MEDI',\n",
        " 'ENTRANCES_MEDI',\n",
        " 'FLOORSMAX_MEDI',\n",
        " 'FLOORSMIN_MEDI',\n",
        " 'LANDAREA_MEDI',\n",
        " 'LIVINGAPARTMENTS_MEDI',\n",
        " 'LIVINGAREA_MEDI',\n",
        " 'NONLIVINGAPARTMENTS_MEDI',\n",
        " 'NONLIVINGAREA_MEDI',\n",
        " 'TOTALAREA_MODE',\n",
        " 'OBS_30_CNT_SOCIAL_CIRCLE',\n",
        " 'DEF_30_CNT_SOCIAL_CIRCLE',\n",
        " 'OBS_60_CNT_SOCIAL_CIRCLE',\n",
        " 'DEF_60_CNT_SOCIAL_CIRCLE',\n",
        " 'DAYS_LAST_PHONE_CHANGE', \n",
        "]"
      ],
      "execution_count": null,
      "outputs": []
    },
    {
      "cell_type": "code",
      "metadata": {
        "id": "PNrhoChuzOHR",
        "colab_type": "code",
        "colab": {
          "base_uri": "https://localhost:8080/",
          "height": 35
        },
        "outputId": "72bec19a-496e-449e-afa2-fefec8894605"
      },
      "source": [
        "len(numerical)"
      ],
      "execution_count": null,
      "outputs": [
        {
          "output_type": "execute_result",
          "data": {
            "text/plain": [
              "61"
            ]
          },
          "metadata": {
            "tags": []
          },
          "execution_count": 97
        }
      ]
    },
    {
      "cell_type": "code",
      "metadata": {
        "id": "5Oc4k6o_JNzk",
        "colab_type": "code",
        "colab": {}
      },
      "source": [
        "df_numerical = df.loc[:, numerical]"
      ],
      "execution_count": null,
      "outputs": []
    },
    {
      "cell_type": "code",
      "metadata": {
        "id": "77XW_YdNZFuO",
        "colab_type": "code",
        "colab": {}
      },
      "source": [
        "\n",
        "df_categorical = df.drop(numerical, axis=1)"
      ],
      "execution_count": null,
      "outputs": []
    },
    {
      "cell_type": "markdown",
      "metadata": {
        "id": "0YCp4-_GFkTv",
        "colab_type": "text"
      },
      "source": [
        "# Lets deal with numerical columns"
      ]
    },
    {
      "cell_type": "code",
      "metadata": {
        "id": "usIGCox6y2vd",
        "colab_type": "code",
        "colab": {}
      },
      "source": [
        "df_numerical.info(verbose=True)"
      ],
      "execution_count": null,
      "outputs": []
    },
    {
      "cell_type": "code",
      "metadata": {
        "id": "1Y5wqZ6qMr2X",
        "colab_type": "code",
        "colab": {
          "base_uri": "https://localhost:8080/",
          "height": 235
        },
        "outputId": "df520465-9830-4022-a1c9-c232595cf05a"
      },
      "source": [
        "df_numerical.isnull().sum()"
      ],
      "execution_count": null,
      "outputs": [
        {
          "output_type": "execute_result",
          "data": {
            "text/plain": [
              "AMT_INCOME_TOTAL                 0\n",
              "AMT_CREDIT                       0\n",
              "AMT_ANNUITY                     12\n",
              "AMT_GOODS_PRICE                278\n",
              "REGION_POPULATION_RELATIVE       0\n",
              "                              ... \n",
              "OBS_30_CNT_SOCIAL_CIRCLE      1021\n",
              "DEF_30_CNT_SOCIAL_CIRCLE      1021\n",
              "OBS_60_CNT_SOCIAL_CIRCLE      1021\n",
              "DEF_60_CNT_SOCIAL_CIRCLE      1021\n",
              "DAYS_LAST_PHONE_CHANGE           1\n",
              "Length: 61, dtype: int64"
            ]
          },
          "metadata": {
            "tags": []
          },
          "execution_count": 79
        }
      ]
    },
    {
      "cell_type": "markdown",
      "metadata": {
        "id": "sjk1RXBR0-pq",
        "colab_type": "text"
      },
      "source": [
        "Lets drop the features having high number of NULL values for now (features with more than 1,00,000 null values)."
      ]
    },
    {
      "cell_type": "markdown",
      "metadata": {
        "id": "GLebp_wlwnil",
        "colab_type": "text"
      },
      "source": [
        "Some columns have high number of null values. Lets list out those columns"
      ]
    },
    {
      "cell_type": "code",
      "metadata": {
        "id": "CHyjm-pZMh8f",
        "colab_type": "code",
        "colab": {}
      },
      "source": [
        "list_high_nulls_numerical = ['OWN_CAR_AGE',\n",
        " 'APARTMENTS_AVG',\n",
        " 'BASEMENTAREA_AVG',\n",
        " 'YEARS_BEGINEXPLUATATION_AVG',\n",
        " 'YEARS_BUILD_AVG',\n",
        " 'COMMONAREA_AVG',\n",
        " 'ELEVATORS_AVG',\n",
        " 'ENTRANCES_AVG',\n",
        " 'FLOORSMAX_AVG',\n",
        " 'FLOORSMIN_AVG',\n",
        " 'LANDAREA_AVG',\n",
        " 'LIVINGAPARTMENTS_AVG',\n",
        " 'LIVINGAREA_AVG',\n",
        " 'NONLIVINGAPARTMENTS_AVG',\n",
        " 'NONLIVINGAREA_AVG',\n",
        " 'APARTMENTS_MODE',\n",
        " 'BASEMENTAREA_MODE',\n",
        " 'YEARS_BEGINEXPLUATATION_MODE',\n",
        " 'YEARS_BUILD_MODE',\n",
        " 'COMMONAREA_MODE',\n",
        " 'ELEVATORS_MODE',\n",
        " 'ENTRANCES_MODE',\n",
        " 'FLOORSMAX_MODE',\n",
        " 'FLOORSMIN_MODE',\n",
        " 'LANDAREA_MODE',\n",
        " 'LIVINGAPARTMENTS_MODE',\n",
        " 'LIVINGAREA_MODE',\n",
        " 'NONLIVINGAPARTMENTS_MODE',\n",
        " 'NONLIVINGAREA_MODE',\n",
        " 'APARTMENTS_MEDI',\n",
        " 'BASEMENTAREA_MEDI',\n",
        " 'YEARS_BEGINEXPLUATATION_MEDI',\n",
        " 'YEARS_BUILD_MEDI',\n",
        " 'COMMONAREA_MEDI',\n",
        " 'ELEVATORS_MEDI',\n",
        " 'ENTRANCES_MEDI',\n",
        " 'FLOORSMAX_MEDI',\n",
        " 'FLOORSMIN_MEDI',\n",
        " 'LANDAREA_MEDI',\n",
        " 'LIVINGAPARTMENTS_MEDI',\n",
        " 'LIVINGAREA_MEDI',\n",
        " 'NONLIVINGAPARTMENTS_MEDI',\n",
        " 'NONLIVINGAREA_MEDI',\n",
        " 'TOTALAREA_MODE']"
      ],
      "execution_count": null,
      "outputs": []
    },
    {
      "cell_type": "code",
      "metadata": {
        "id": "n4i4JnrnMpX6",
        "colab_type": "code",
        "colab": {}
      },
      "source": [
        "df_numerical = df_numerical.drop(list_high_nulls_numerical, axis=1)\n",
        "df_numerical.head()"
      ],
      "execution_count": null,
      "outputs": []
    },
    {
      "cell_type": "markdown",
      "metadata": {
        "id": "0swsdG99xZxs",
        "colab_type": "text"
      },
      "source": [
        "Lets confirm the absence of NULLS"
      ]
    },
    {
      "cell_type": "code",
      "metadata": {
        "id": "jA7ldcE9n3e6",
        "colab_type": "code",
        "colab": {
          "base_uri": "https://localhost:8080/",
          "height": 235
        },
        "outputId": "eddc2eae-2c98-4e68-94cd-d5d77afb9f20"
      },
      "source": [
        "df_numerical.isnull().sum()"
      ],
      "execution_count": null,
      "outputs": [
        {
          "output_type": "execute_result",
          "data": {
            "text/plain": [
              "AMT_INCOME_TOTAL                 0\n",
              "AMT_CREDIT                       0\n",
              "AMT_ANNUITY                     12\n",
              "AMT_GOODS_PRICE                278\n",
              "REGION_POPULATION_RELATIVE       0\n",
              "                              ... \n",
              "OBS_30_CNT_SOCIAL_CIRCLE      1021\n",
              "DEF_30_CNT_SOCIAL_CIRCLE      1021\n",
              "OBS_60_CNT_SOCIAL_CIRCLE      1021\n",
              "DEF_60_CNT_SOCIAL_CIRCLE      1021\n",
              "DAYS_LAST_PHONE_CHANGE           1\n",
              "Length: 61, dtype: int64"
            ]
          },
          "metadata": {
            "tags": []
          },
          "execution_count": 98
        }
      ]
    },
    {
      "cell_type": "markdown",
      "metadata": {
        "id": "Z7AJtgWDzaaH",
        "colab_type": "text"
      },
      "source": [
        "External ratings columns are very important as predictors. Hence, we will not drop these columns."
      ]
    },
    {
      "cell_type": "markdown",
      "metadata": {
        "id": "UGmdKaYh57M4",
        "colab_type": "text"
      },
      "source": [
        "Lets list the columns having less number of NULLS, and drop them. We will add them later to the dataset."
      ]
    },
    {
      "cell_type": "code",
      "metadata": {
        "id": "qijwvhgi6COK",
        "colab_type": "code",
        "colab": {}
      },
      "source": [
        "# dropping columns with even one NULL value\n",
        "list_low_nulls_numerical = ['AMT_ANNUITY','AMT_GOODS_PRICE','OBS_30_CNT_SOCIAL_CIRCLE','OBS_60_CNT_SOCIAL_CIRCLE',\n",
        "                            'DEF_30_CNT_SOCIAL_CIRCLE','DEF_60_CNT_SOCIAL_CIRCLE']"
      ],
      "execution_count": null,
      "outputs": []
    },
    {
      "cell_type": "code",
      "metadata": {
        "id": "yueoqXdb6oH7",
        "colab_type": "code",
        "colab": {}
      },
      "source": [
        "df_numerical = df_numerical.drop(list_low_nulls_numerical, axis=1)"
      ],
      "execution_count": null,
      "outputs": []
    },
    {
      "cell_type": "code",
      "metadata": {
        "id": "PiDOsTCh613y",
        "colab_type": "code",
        "colab": {
          "base_uri": "https://localhost:8080/",
          "height": 235
        },
        "outputId": "81aa058a-6aab-4d5a-8690-c98f0a5b6d5e"
      },
      "source": [
        "df_numerical.isnull().sum()"
      ],
      "execution_count": null,
      "outputs": [
        {
          "output_type": "execute_result",
          "data": {
            "text/plain": [
              "AMT_INCOME_TOTAL                   0\n",
              "AMT_CREDIT                         0\n",
              "REGION_POPULATION_RELATIVE         0\n",
              "DAYS_BIRTH                         0\n",
              "DAYS_EMPLOYED                      0\n",
              "DAYS_REGISTRATION                  0\n",
              "DAYS_ID_PUBLISH                    0\n",
              "EXT_SOURCE_1                  173378\n",
              "EXT_SOURCE_2                     660\n",
              "EXT_SOURCE_3                   60965\n",
              "DAYS_LAST_PHONE_CHANGE             1\n",
              "dtype: int64"
            ]
          },
          "metadata": {
            "tags": []
          },
          "execution_count": 17
        }
      ]
    },
    {
      "cell_type": "markdown",
      "metadata": {
        "id": "GZaF4_5v7Q9K",
        "colab_type": "text"
      },
      "source": [
        "The columns \"DAYS...\" represent the days passed since an event. They have negative values, to represent time passed. Lets make them postive."
      ]
    },
    {
      "cell_type": "code",
      "metadata": {
        "id": "jqIXUIb38cXU",
        "colab_type": "code",
        "colab": {}
      },
      "source": [
        "df_numerical['DAYS_BIRTH'] = -df_numerical['DAYS_BIRTH']"
      ],
      "execution_count": null,
      "outputs": []
    },
    {
      "cell_type": "code",
      "metadata": {
        "id": "U3_47YrL8yYh",
        "colab_type": "code",
        "colab": {
          "base_uri": "https://localhost:8080/",
          "height": 35
        },
        "outputId": "a80410bd-fb91-4594-d001-4c9439d07939"
      },
      "source": [
        "(df_numerical['DAYS_BIRTH'] < 0).sum()"
      ],
      "execution_count": null,
      "outputs": [
        {
          "output_type": "execute_result",
          "data": {
            "text/plain": [
              "0"
            ]
          },
          "metadata": {
            "tags": []
          },
          "execution_count": 99
        }
      ]
    },
    {
      "cell_type": "code",
      "metadata": {
        "id": "mnKq7clI8_VW",
        "colab_type": "code",
        "colab": {}
      },
      "source": [
        "df_numerical['DAYS_EMPLOYED'] = -df_numerical['DAYS_EMPLOYED']"
      ],
      "execution_count": null,
      "outputs": []
    },
    {
      "cell_type": "code",
      "metadata": {
        "id": "ntqWjpCd-XCF",
        "colab_type": "code",
        "colab": {
          "base_uri": "https://localhost:8080/",
          "height": 35
        },
        "outputId": "fc87b749-b8ec-4621-976c-4afcbacf9c3e"
      },
      "source": [
        "(df_numerical['DAYS_EMPLOYED'] < 0).sum()"
      ],
      "execution_count": null,
      "outputs": [
        {
          "output_type": "execute_result",
          "data": {
            "text/plain": [
              "55374"
            ]
          },
          "metadata": {
            "tags": []
          },
          "execution_count": 88
        }
      ]
    },
    {
      "cell_type": "code",
      "metadata": {
        "id": "9TlDw3iz-yZq",
        "colab_type": "code",
        "colab": {
          "base_uri": "https://localhost:8080/",
          "height": 54
        },
        "outputId": "2a5c42d5-1b72-425f-f583-608b41c8361c"
      },
      "source": [
        "df_numerical[df_numerical['DAYS_EMPLOYED'] < 0]['DAYS_EMPLOYED'].value_counts()"
      ],
      "execution_count": null,
      "outputs": [
        {
          "output_type": "execute_result",
          "data": {
            "text/plain": [
              "-365243    55374\n",
              "Name: DAYS_EMPLOYED, dtype: int64"
            ]
          },
          "metadata": {
            "tags": []
          },
          "execution_count": 15
        }
      ]
    },
    {
      "cell_type": "code",
      "metadata": {
        "id": "8uaV6mJmHEuU",
        "colab_type": "code",
        "colab": {
          "base_uri": "https://localhost:8080/",
          "height": 35
        },
        "outputId": "6be0cf29-d6cf-4ef1-c324-4d0b13b339d5"
      },
      "source": [
        "print(365243/365.0)"
      ],
      "execution_count": null,
      "outputs": [
        {
          "output_type": "stream",
          "text": [
            "1000.6657534246575\n"
          ],
          "name": "stdout"
        }
      ]
    },
    {
      "cell_type": "markdown",
      "metadata": {
        "id": "k1O9fdAFHI2f",
        "colab_type": "text"
      },
      "source": [
        "365243 days means 1000 years!!!\n",
        "This is impossible, hence these values are garbage values. We will replace the null values with the mean of the column and analyse the difference in modelling."
      ]
    },
    {
      "cell_type": "code",
      "metadata": {
        "id": "Z_9mFoEx_hs2",
        "colab_type": "code",
        "colab": {}
      },
      "source": [
        "df_numerical.loc[df_numerical['DAYS_EMPLOYED'] < 0,'DAYS_EMPLOYED'] = np.nan"
      ],
      "execution_count": null,
      "outputs": []
    },
    {
      "cell_type": "code",
      "metadata": {
        "id": "Ls8MLGOVAQMX",
        "colab_type": "code",
        "colab": {}
      },
      "source": [
        "df_numerical['DAYS_REGISTRATION'] = -df_numerical['DAYS_REGISTRATION'] # checking for negative values"
      ],
      "execution_count": null,
      "outputs": []
    },
    {
      "cell_type": "code",
      "metadata": {
        "id": "SirSMob_G-CV",
        "colab_type": "code",
        "colab": {
          "base_uri": "https://localhost:8080/",
          "height": 35
        },
        "outputId": "7457ba7c-9e0b-491b-8068-479d38e99dcf"
      },
      "source": [
        "(df_numerical['DAYS_REGISTRATION'] < 0).sum()"
      ],
      "execution_count": null,
      "outputs": [
        {
          "output_type": "execute_result",
          "data": {
            "text/plain": [
              "0"
            ]
          },
          "metadata": {
            "tags": []
          },
          "execution_count": 104
        }
      ]
    },
    {
      "cell_type": "markdown",
      "metadata": {
        "id": "uxuXNSQhH5fK",
        "colab_type": "text"
      },
      "source": [
        "There is no postive value. Lets convert all negative values to positive."
      ]
    },
    {
      "cell_type": "code",
      "metadata": {
        "id": "JgLjW3CaGmI6",
        "colab_type": "code",
        "colab": {}
      },
      "source": [
        "df_numerical['DAYS_ID_PUBLISH'] = -df_numerical['DAYS_ID_PUBLISH']"
      ],
      "execution_count": null,
      "outputs": []
    },
    {
      "cell_type": "code",
      "metadata": {
        "id": "6I3AuRSe4qa6",
        "colab_type": "code",
        "colab": {
          "base_uri": "https://localhost:8080/",
          "height": 35
        },
        "outputId": "b37c1d47-2c54-4d13-a7fa-b976fae582a8"
      },
      "source": [
        "(df_numerical['DAYS_ID_PUBLISH'] < 0).sum()"
      ],
      "execution_count": null,
      "outputs": [
        {
          "output_type": "execute_result",
          "data": {
            "text/plain": [
              "0"
            ]
          },
          "metadata": {
            "tags": []
          },
          "execution_count": 94
        }
      ]
    },
    {
      "cell_type": "code",
      "metadata": {
        "id": "wqpZCJw-Jxa8",
        "colab_type": "code",
        "colab": {}
      },
      "source": [
        "df_numerical['DAYS_LAST_PHONE_CHANGE'] = -df_numerical['DAYS_LAST_PHONE_CHANGE']"
      ],
      "execution_count": null,
      "outputs": []
    },
    {
      "cell_type": "code",
      "metadata": {
        "id": "wuo1eLvAKMFZ",
        "colab_type": "code",
        "colab": {
          "base_uri": "https://localhost:8080/",
          "height": 35
        },
        "outputId": "9e213a19-deb6-4471-94f7-488df1af23fa"
      },
      "source": [
        "(df_numerical['DAYS_LAST_PHONE_CHANGE'] < 0).sum()  # checking for negative values"
      ],
      "execution_count": null,
      "outputs": [
        {
          "output_type": "execute_result",
          "data": {
            "text/plain": [
              "0"
            ]
          },
          "metadata": {
            "tags": []
          },
          "execution_count": 110
        }
      ]
    },
    {
      "cell_type": "markdown",
      "metadata": {
        "id": "vI4GtX94KsNb",
        "colab_type": "text"
      },
      "source": [
        "The final step is to impute the few null values in these columns. We will use SimpleImputer with strategy = 'mean' (since, there son't seem to be outliers, 'mean' will work fine here)."
      ]
    },
    {
      "cell_type": "code",
      "metadata": {
        "id": "EDEX3HwLKrc4",
        "colab_type": "code",
        "colab": {}
      },
      "source": [
        "# imputing with mean, using Simple Imputer\n",
        "\n",
        "from sklearn.impute import SimpleImputer\n",
        "imputer_mean = SimpleImputer(strategy= 'mean')"
      ],
      "execution_count": null,
      "outputs": []
    },
    {
      "cell_type": "code",
      "metadata": {
        "id": "d1Y_6wSNLGf2",
        "colab_type": "code",
        "colab": {}
      },
      "source": [
        "df_numerical = pd.DataFrame(imputer_mean.fit_transform(df_numerical), columns=df_numerical.columns)"
      ],
      "execution_count": null,
      "outputs": []
    },
    {
      "cell_type": "code",
      "metadata": {
        "id": "ctaVV5jSLov7",
        "colab_type": "code",
        "colab": {
          "base_uri": "https://localhost:8080/",
          "height": 35
        },
        "outputId": "83d8b95c-e3e0-47d0-eea4-2a9d048f7892"
      },
      "source": [
        "(df_numerical.isnull().sum() > 0).sum() # checking for presence of NULL values in columns"
      ],
      "execution_count": null,
      "outputs": [
        {
          "output_type": "execute_result",
          "data": {
            "text/plain": [
              "0"
            ]
          },
          "metadata": {
            "tags": []
          },
          "execution_count": 127
        }
      ]
    },
    {
      "cell_type": "code",
      "metadata": {
        "id": "uKJ8W5hXDSrJ",
        "colab_type": "code",
        "colab": {}
      },
      "source": [
        "# scaling\n",
        "from sklearn.preprocessing import StandardScaler\n",
        "scaler = StandardScaler()\n",
        "scaled_numerical = scaler.fit_transform(df_numerical)"
      ],
      "execution_count": null,
      "outputs": []
    },
    {
      "cell_type": "code",
      "metadata": {
        "id": "SAHtU1G_ElVt",
        "colab_type": "code",
        "colab": {}
      },
      "source": [
        "# converting the numpy array returned by \"scaler\" back to a dataframe\n",
        "\n",
        "df_numerical = pd.DataFrame(scaled_numerical, columns= df_numerical.columns)"
      ],
      "execution_count": null,
      "outputs": []
    },
    {
      "cell_type": "code",
      "metadata": {
        "id": "dOH-pkwqFGib",
        "colab_type": "code",
        "colab": {
          "base_uri": "https://localhost:8080/",
          "height": 427
        },
        "outputId": "23c23885-73fe-4ed1-8657-b2b1689e4627"
      },
      "source": [
        "df_numerical"
      ],
      "execution_count": null,
      "outputs": [
        {
          "output_type": "execute_result",
          "data": {
            "text/html": [
              "<div>\n",
              "<style scoped>\n",
              "    .dataframe tbody tr th:only-of-type {\n",
              "        vertical-align: middle;\n",
              "    }\n",
              "\n",
              "    .dataframe tbody tr th {\n",
              "        vertical-align: top;\n",
              "    }\n",
              "\n",
              "    .dataframe thead th {\n",
              "        text-align: right;\n",
              "    }\n",
              "</style>\n",
              "<table border=\"1\" class=\"dataframe\">\n",
              "  <thead>\n",
              "    <tr style=\"text-align: right;\">\n",
              "      <th></th>\n",
              "      <th>AMT_INCOME_TOTAL</th>\n",
              "      <th>AMT_CREDIT</th>\n",
              "      <th>AMT_ANNUITY</th>\n",
              "      <th>AMT_GOODS_PRICE</th>\n",
              "      <th>REGION_POPULATION_RELATIVE</th>\n",
              "      <th>DAYS_BIRTH</th>\n",
              "      <th>DAYS_EMPLOYED</th>\n",
              "      <th>DAYS_REGISTRATION</th>\n",
              "      <th>DAYS_ID_PUBLISH</th>\n",
              "      <th>OWN_CAR_AGE</th>\n",
              "      <th>EXT_SOURCE_1</th>\n",
              "      <th>EXT_SOURCE_2</th>\n",
              "      <th>EXT_SOURCE_3</th>\n",
              "      <th>APARTMENTS_AVG</th>\n",
              "      <th>BASEMENTAREA_AVG</th>\n",
              "      <th>YEARS_BEGINEXPLUATATION_AVG</th>\n",
              "      <th>YEARS_BUILD_AVG</th>\n",
              "      <th>COMMONAREA_AVG</th>\n",
              "      <th>ELEVATORS_AVG</th>\n",
              "      <th>ENTRANCES_AVG</th>\n",
              "      <th>FLOORSMAX_AVG</th>\n",
              "      <th>FLOORSMIN_AVG</th>\n",
              "      <th>LANDAREA_AVG</th>\n",
              "      <th>LIVINGAPARTMENTS_AVG</th>\n",
              "      <th>LIVINGAREA_AVG</th>\n",
              "      <th>NONLIVINGAPARTMENTS_AVG</th>\n",
              "      <th>NONLIVINGAREA_AVG</th>\n",
              "      <th>APARTMENTS_MODE</th>\n",
              "      <th>BASEMENTAREA_MODE</th>\n",
              "      <th>YEARS_BEGINEXPLUATATION_MODE</th>\n",
              "      <th>YEARS_BUILD_MODE</th>\n",
              "      <th>COMMONAREA_MODE</th>\n",
              "      <th>ELEVATORS_MODE</th>\n",
              "      <th>ENTRANCES_MODE</th>\n",
              "      <th>FLOORSMAX_MODE</th>\n",
              "      <th>FLOORSMIN_MODE</th>\n",
              "      <th>LANDAREA_MODE</th>\n",
              "      <th>LIVINGAPARTMENTS_MODE</th>\n",
              "      <th>LIVINGAREA_MODE</th>\n",
              "      <th>NONLIVINGAPARTMENTS_MODE</th>\n",
              "      <th>NONLIVINGAREA_MODE</th>\n",
              "      <th>APARTMENTS_MEDI</th>\n",
              "      <th>BASEMENTAREA_MEDI</th>\n",
              "      <th>YEARS_BEGINEXPLUATATION_MEDI</th>\n",
              "      <th>YEARS_BUILD_MEDI</th>\n",
              "      <th>COMMONAREA_MEDI</th>\n",
              "      <th>ELEVATORS_MEDI</th>\n",
              "      <th>ENTRANCES_MEDI</th>\n",
              "      <th>FLOORSMAX_MEDI</th>\n",
              "      <th>FLOORSMIN_MEDI</th>\n",
              "      <th>LANDAREA_MEDI</th>\n",
              "      <th>LIVINGAPARTMENTS_MEDI</th>\n",
              "      <th>LIVINGAREA_MEDI</th>\n",
              "      <th>NONLIVINGAPARTMENTS_MEDI</th>\n",
              "      <th>NONLIVINGAREA_MEDI</th>\n",
              "      <th>TOTALAREA_MODE</th>\n",
              "      <th>OBS_30_CNT_SOCIAL_CIRCLE</th>\n",
              "      <th>DEF_30_CNT_SOCIAL_CIRCLE</th>\n",
              "      <th>OBS_60_CNT_SOCIAL_CIRCLE</th>\n",
              "      <th>DEF_60_CNT_SOCIAL_CIRCLE</th>\n",
              "      <th>DAYS_LAST_PHONE_CHANGE</th>\n",
              "    </tr>\n",
              "  </thead>\n",
              "  <tbody>\n",
              "    <tr>\n",
              "      <th>0</th>\n",
              "      <td>0.142129</td>\n",
              "      <td>-0.478095</td>\n",
              "      <td>-0.166146</td>\n",
              "      <td>-0.507236</td>\n",
              "      <td>-0.149452</td>\n",
              "      <td>-1.506880</td>\n",
              "      <td>-0.747179</td>\n",
              "      <td>-0.379837</td>\n",
              "      <td>-0.579154</td>\n",
              "      <td>NaN</td>\n",
              "      <td>-1.985644</td>\n",
              "      <td>-1.316049</td>\n",
              "      <td>-1.906536</td>\n",
              "      <td>-0.856805</td>\n",
              "      <td>-0.625225</td>\n",
              "      <td>-0.093458</td>\n",
              "      <td>-1.176485</td>\n",
              "      <td>-0.398771</td>\n",
              "      <td>-0.586596</td>\n",
              "      <td>-0.806853</td>\n",
              "      <td>-0.988535</td>\n",
              "      <td>-0.662374</td>\n",
              "      <td>-0.362552</td>\n",
              "      <td>-0.870367</td>\n",
              "      <td>-0.799527</td>\n",
              "      <td>-0.184547</td>\n",
              "      <td>-0.407891</td>\n",
              "      <td>-0.824852</td>\n",
              "      <td>-0.584095</td>\n",
              "      <td>-0.075344</td>\n",
              "      <td>-1.140103</td>\n",
              "      <td>-0.378178</td>\n",
              "      <td>-0.563225</td>\n",
              "      <td>-0.754557</td>\n",
              "      <td>-0.967337</td>\n",
              "      <td>-0.639483</td>\n",
              "      <td>-0.333428</td>\n",
              "      <td>-0.854566</td>\n",
              "      <td>-0.770487</td>\n",
              "      <td>-0.174526</td>\n",
              "      <td>-0.384640</td>\n",
              "      <td>-0.851244</td>\n",
              "      <td>-0.621268</td>\n",
              "      <td>-0.092697</td>\n",
              "      <td>-1.172939</td>\n",
              "      <td>-0.396553</td>\n",
              "      <td>-0.580648</td>\n",
              "      <td>-0.799186</td>\n",
              "      <td>-0.982974</td>\n",
              "      <td>-0.658452</td>\n",
              "      <td>-0.361080</td>\n",
              "      <td>-0.869851</td>\n",
              "      <td>-0.795536</td>\n",
              "      <td>-0.182455</td>\n",
              "      <td>-0.402415</td>\n",
              "      <td>-0.815606</td>\n",
              "      <td>0.240632</td>\n",
              "      <td>4.156232</td>\n",
              "      <td>0.249898</td>\n",
              "      <td>5.244279</td>\n",
              "      <td>0.206990</td>\n",
              "    </tr>\n",
              "    <tr>\n",
              "      <th>1</th>\n",
              "      <td>0.426792</td>\n",
              "      <td>1.725450</td>\n",
              "      <td>0.592666</td>\n",
              "      <td>1.599974</td>\n",
              "      <td>-1.252750</td>\n",
              "      <td>0.166821</td>\n",
              "      <td>-0.511543</td>\n",
              "      <td>-1.078697</td>\n",
              "      <td>-1.790855</td>\n",
              "      <td>NaN</td>\n",
              "      <td>-0.904298</td>\n",
              "      <td>0.564499</td>\n",
              "      <td>NaN</td>\n",
              "      <td>-0.199007</td>\n",
              "      <td>-0.431140</td>\n",
              "      <td>0.124363</td>\n",
              "      <td>0.384259</td>\n",
              "      <td>0.208841</td>\n",
              "      <td>0.007865</td>\n",
              "      <td>-1.151685</td>\n",
              "      <td>0.452281</td>\n",
              "      <td>0.628373</td>\n",
              "      <td>-0.656948</td>\n",
              "      <td>-0.253574</td>\n",
              "      <td>-0.474829</td>\n",
              "      <td>-0.102839</td>\n",
              "      <td>-0.266930</td>\n",
              "      <td>-0.202259</td>\n",
              "      <td>-0.400243</td>\n",
              "      <td>0.124423</td>\n",
              "      <td>0.402892</td>\n",
              "      <td>0.096003</td>\n",
              "      <td>0.046200</td>\n",
              "      <td>-1.096220</td>\n",
              "      <td>0.482816</td>\n",
              "      <td>0.653029</td>\n",
              "      <td>-0.638015</td>\n",
              "      <td>-0.272220</td>\n",
              "      <td>-0.452189</td>\n",
              "      <td>-0.174526</td>\n",
              "      <td>-0.384640</td>\n",
              "      <td>-0.192985</td>\n",
              "      <td>-0.426570</td>\n",
              "      <td>0.122673</td>\n",
              "      <td>0.383290</td>\n",
              "      <td>0.212820</td>\n",
              "      <td>0.014295</td>\n",
              "      <td>-1.142921</td>\n",
              "      <td>0.453608</td>\n",
              "      <td>0.627885</td>\n",
              "      <td>-0.656820</td>\n",
              "      <td>-0.248334</td>\n",
              "      <td>-0.470397</td>\n",
              "      <td>-0.100202</td>\n",
              "      <td>-0.259896</td>\n",
              "      <td>-0.289839</td>\n",
              "      <td>-0.175863</td>\n",
              "      <td>-0.321069</td>\n",
              "      <td>-0.170305</td>\n",
              "      <td>-0.276157</td>\n",
              "      <td>-0.163108</td>\n",
              "    </tr>\n",
              "    <tr>\n",
              "      <th>2</th>\n",
              "      <td>-0.427196</td>\n",
              "      <td>-1.152888</td>\n",
              "      <td>-1.404649</td>\n",
              "      <td>-1.091895</td>\n",
              "      <td>-0.783451</td>\n",
              "      <td>0.689509</td>\n",
              "      <td>-0.923371</td>\n",
              "      <td>-0.206116</td>\n",
              "      <td>-0.306869</td>\n",
              "      <td>1.166948</td>\n",
              "      <td>NaN</td>\n",
              "      <td>0.217311</td>\n",
              "      <td>1.122507</td>\n",
              "      <td>NaN</td>\n",
              "      <td>NaN</td>\n",
              "      <td>NaN</td>\n",
              "      <td>NaN</td>\n",
              "      <td>NaN</td>\n",
              "      <td>NaN</td>\n",
              "      <td>NaN</td>\n",
              "      <td>NaN</td>\n",
              "      <td>NaN</td>\n",
              "      <td>NaN</td>\n",
              "      <td>NaN</td>\n",
              "      <td>NaN</td>\n",
              "      <td>NaN</td>\n",
              "      <td>NaN</td>\n",
              "      <td>NaN</td>\n",
              "      <td>NaN</td>\n",
              "      <td>NaN</td>\n",
              "      <td>NaN</td>\n",
              "      <td>NaN</td>\n",
              "      <td>NaN</td>\n",
              "      <td>NaN</td>\n",
              "      <td>NaN</td>\n",
              "      <td>NaN</td>\n",
              "      <td>NaN</td>\n",
              "      <td>NaN</td>\n",
              "      <td>NaN</td>\n",
              "      <td>NaN</td>\n",
              "      <td>NaN</td>\n",
              "      <td>NaN</td>\n",
              "      <td>NaN</td>\n",
              "      <td>NaN</td>\n",
              "      <td>NaN</td>\n",
              "      <td>NaN</td>\n",
              "      <td>NaN</td>\n",
              "      <td>NaN</td>\n",
              "      <td>NaN</td>\n",
              "      <td>NaN</td>\n",
              "      <td>NaN</td>\n",
              "      <td>NaN</td>\n",
              "      <td>NaN</td>\n",
              "      <td>NaN</td>\n",
              "      <td>NaN</td>\n",
              "      <td>NaN</td>\n",
              "      <td>-0.592359</td>\n",
              "      <td>-0.321069</td>\n",
              "      <td>-0.590509</td>\n",
              "      <td>-0.276157</td>\n",
              "      <td>-0.178831</td>\n",
              "    </tr>\n",
              "    <tr>\n",
              "      <th>3</th>\n",
              "      <td>-0.142533</td>\n",
              "      <td>-0.711430</td>\n",
              "      <td>0.177865</td>\n",
              "      <td>-0.653401</td>\n",
              "      <td>-0.928991</td>\n",
              "      <td>0.680114</td>\n",
              "      <td>0.280039</td>\n",
              "      <td>1.375829</td>\n",
              "      <td>-0.369143</td>\n",
              "      <td>NaN</td>\n",
              "      <td>NaN</td>\n",
              "      <td>0.712075</td>\n",
              "      <td>NaN</td>\n",
              "      <td>NaN</td>\n",
              "      <td>NaN</td>\n",
              "      <td>NaN</td>\n",
              "      <td>NaN</td>\n",
              "      <td>NaN</td>\n",
              "      <td>NaN</td>\n",
              "      <td>NaN</td>\n",
              "      <td>NaN</td>\n",
              "      <td>NaN</td>\n",
              "      <td>NaN</td>\n",
              "      <td>NaN</td>\n",
              "      <td>NaN</td>\n",
              "      <td>NaN</td>\n",
              "      <td>NaN</td>\n",
              "      <td>NaN</td>\n",
              "      <td>NaN</td>\n",
              "      <td>NaN</td>\n",
              "      <td>NaN</td>\n",
              "      <td>NaN</td>\n",
              "      <td>NaN</td>\n",
              "      <td>NaN</td>\n",
              "      <td>NaN</td>\n",
              "      <td>NaN</td>\n",
              "      <td>NaN</td>\n",
              "      <td>NaN</td>\n",
              "      <td>NaN</td>\n",
              "      <td>NaN</td>\n",
              "      <td>NaN</td>\n",
              "      <td>NaN</td>\n",
              "      <td>NaN</td>\n",
              "      <td>NaN</td>\n",
              "      <td>NaN</td>\n",
              "      <td>NaN</td>\n",
              "      <td>NaN</td>\n",
              "      <td>NaN</td>\n",
              "      <td>NaN</td>\n",
              "      <td>NaN</td>\n",
              "      <td>NaN</td>\n",
              "      <td>NaN</td>\n",
              "      <td>NaN</td>\n",
              "      <td>NaN</td>\n",
              "      <td>NaN</td>\n",
              "      <td>NaN</td>\n",
              "      <td>0.240632</td>\n",
              "      <td>-0.321069</td>\n",
              "      <td>0.249898</td>\n",
              "      <td>-0.276157</td>\n",
              "      <td>-0.418306</td>\n",
              "    </tr>\n",
              "    <tr>\n",
              "      <th>4</th>\n",
              "      <td>-0.199466</td>\n",
              "      <td>-0.213734</td>\n",
              "      <td>-0.361748</td>\n",
              "      <td>-0.068741</td>\n",
              "      <td>0.563570</td>\n",
              "      <td>0.892535</td>\n",
              "      <td>0.279611</td>\n",
              "      <td>-0.191639</td>\n",
              "      <td>0.307263</td>\n",
              "      <td>NaN</td>\n",
              "      <td>NaN</td>\n",
              "      <td>-1.003112</td>\n",
              "      <td>NaN</td>\n",
              "      <td>NaN</td>\n",
              "      <td>NaN</td>\n",
              "      <td>NaN</td>\n",
              "      <td>NaN</td>\n",
              "      <td>NaN</td>\n",
              "      <td>NaN</td>\n",
              "      <td>NaN</td>\n",
              "      <td>NaN</td>\n",
              "      <td>NaN</td>\n",
              "      <td>NaN</td>\n",
              "      <td>NaN</td>\n",
              "      <td>NaN</td>\n",
              "      <td>NaN</td>\n",
              "      <td>NaN</td>\n",
              "      <td>NaN</td>\n",
              "      <td>NaN</td>\n",
              "      <td>NaN</td>\n",
              "      <td>NaN</td>\n",
              "      <td>NaN</td>\n",
              "      <td>NaN</td>\n",
              "      <td>NaN</td>\n",
              "      <td>NaN</td>\n",
              "      <td>NaN</td>\n",
              "      <td>NaN</td>\n",
              "      <td>NaN</td>\n",
              "      <td>NaN</td>\n",
              "      <td>NaN</td>\n",
              "      <td>NaN</td>\n",
              "      <td>NaN</td>\n",
              "      <td>NaN</td>\n",
              "      <td>NaN</td>\n",
              "      <td>NaN</td>\n",
              "      <td>NaN</td>\n",
              "      <td>NaN</td>\n",
              "      <td>NaN</td>\n",
              "      <td>NaN</td>\n",
              "      <td>NaN</td>\n",
              "      <td>NaN</td>\n",
              "      <td>NaN</td>\n",
              "      <td>NaN</td>\n",
              "      <td>NaN</td>\n",
              "      <td>NaN</td>\n",
              "      <td>NaN</td>\n",
              "      <td>-0.592359</td>\n",
              "      <td>-0.321069</td>\n",
              "      <td>-0.590509</td>\n",
              "      <td>-0.276157</td>\n",
              "      <td>0.173125</td>\n",
              "    </tr>\n",
              "    <tr>\n",
              "      <th>...</th>\n",
              "      <td>...</td>\n",
              "      <td>...</td>\n",
              "      <td>...</td>\n",
              "      <td>...</td>\n",
              "      <td>...</td>\n",
              "      <td>...</td>\n",
              "      <td>...</td>\n",
              "      <td>...</td>\n",
              "      <td>...</td>\n",
              "      <td>...</td>\n",
              "      <td>...</td>\n",
              "      <td>...</td>\n",
              "      <td>...</td>\n",
              "      <td>...</td>\n",
              "      <td>...</td>\n",
              "      <td>...</td>\n",
              "      <td>...</td>\n",
              "      <td>...</td>\n",
              "      <td>...</td>\n",
              "      <td>...</td>\n",
              "      <td>...</td>\n",
              "      <td>...</td>\n",
              "      <td>...</td>\n",
              "      <td>...</td>\n",
              "      <td>...</td>\n",
              "      <td>...</td>\n",
              "      <td>...</td>\n",
              "      <td>...</td>\n",
              "      <td>...</td>\n",
              "      <td>...</td>\n",
              "      <td>...</td>\n",
              "      <td>...</td>\n",
              "      <td>...</td>\n",
              "      <td>...</td>\n",
              "      <td>...</td>\n",
              "      <td>...</td>\n",
              "      <td>...</td>\n",
              "      <td>...</td>\n",
              "      <td>...</td>\n",
              "      <td>...</td>\n",
              "      <td>...</td>\n",
              "      <td>...</td>\n",
              "      <td>...</td>\n",
              "      <td>...</td>\n",
              "      <td>...</td>\n",
              "      <td>...</td>\n",
              "      <td>...</td>\n",
              "      <td>...</td>\n",
              "      <td>...</td>\n",
              "      <td>...</td>\n",
              "      <td>...</td>\n",
              "      <td>...</td>\n",
              "      <td>...</td>\n",
              "      <td>...</td>\n",
              "      <td>...</td>\n",
              "      <td>...</td>\n",
              "      <td>...</td>\n",
              "      <td>...</td>\n",
              "      <td>...</td>\n",
              "      <td>...</td>\n",
              "      <td>...</td>\n",
              "    </tr>\n",
              "    <tr>\n",
              "      <th>307506</th>\n",
              "      <td>-0.047646</td>\n",
              "      <td>-0.855489</td>\n",
              "      <td>0.031008</td>\n",
              "      <td>-0.848287</td>\n",
              "      <td>0.845396</td>\n",
              "      <td>-1.537586</td>\n",
              "      <td>-0.918667</td>\n",
              "      <td>0.984955</td>\n",
              "      <td>-0.670578</td>\n",
              "      <td>NaN</td>\n",
              "      <td>-1.689363</td>\n",
              "      <td>0.875326</td>\n",
              "      <td>NaN</td>\n",
              "      <td>0.782147</td>\n",
              "      <td>0.003127</td>\n",
              "      <td>0.166576</td>\n",
              "      <td>0.684401</td>\n",
              "      <td>-0.321176</td>\n",
              "      <td>1.048173</td>\n",
              "      <td>-0.463021</td>\n",
              "      <td>2.612814</td>\n",
              "      <td>0.241087</td>\n",
              "      <td>-0.085402</td>\n",
              "      <td>0.514447</td>\n",
              "      <td>0.805876</td>\n",
              "      <td>1.393031</td>\n",
              "      <td>1.167129</td>\n",
              "      <td>-0.124435</td>\n",
              "      <td>-0.834371</td>\n",
              "      <td>0.017571</td>\n",
              "      <td>-0.428091</td>\n",
              "      <td>-0.340566</td>\n",
              "      <td>0.046200</td>\n",
              "      <td>-1.096220</td>\n",
              "      <td>1.642103</td>\n",
              "      <td>-1.156364</td>\n",
              "      <td>-0.679605</td>\n",
              "      <td>-0.178227</td>\n",
              "      <td>-0.184855</td>\n",
              "      <td>-0.174526</td>\n",
              "      <td>-0.206713</td>\n",
              "      <td>0.789820</td>\n",
              "      <td>0.009067</td>\n",
              "      <td>0.164411</td>\n",
              "      <td>0.683114</td>\n",
              "      <td>-0.319068</td>\n",
              "      <td>1.055445</td>\n",
              "      <td>-0.456448</td>\n",
              "      <td>2.607792</td>\n",
              "      <td>0.241922</td>\n",
              "      <td>-0.081161</td>\n",
              "      <td>0.522689</td>\n",
              "      <td>0.815013</td>\n",
              "      <td>1.414104</td>\n",
              "      <td>1.190944</td>\n",
              "      <td>1.742508</td>\n",
              "      <td>-0.592359</td>\n",
              "      <td>-0.321069</td>\n",
              "      <td>-0.590509</td>\n",
              "      <td>-0.276157</td>\n",
              "      <td>-0.834365</td>\n",
              "    </tr>\n",
              "    <tr>\n",
              "      <th>307507</th>\n",
              "      <td>-0.408219</td>\n",
              "      <td>-0.818594</td>\n",
              "      <td>-1.042319</td>\n",
              "      <td>-0.848287</td>\n",
              "      <td>0.310593</td>\n",
              "      <td>1.085707</td>\n",
              "      <td>NaN</td>\n",
              "      <td>-0.169782</td>\n",
              "      <td>0.725959</td>\n",
              "      <td>NaN</td>\n",
              "      <td>NaN</td>\n",
              "      <td>-2.085214</td>\n",
              "      <td>NaN</td>\n",
              "      <td>-0.856805</td>\n",
              "      <td>-0.545165</td>\n",
              "      <td>-0.085015</td>\n",
              "      <td>-1.116456</td>\n",
              "      <td>-0.557908</td>\n",
              "      <td>-0.586596</td>\n",
              "      <td>-0.463021</td>\n",
              "      <td>-0.988535</td>\n",
              "      <td>-0.662374</td>\n",
              "      <td>-0.103878</td>\n",
              "      <td>-0.870367</td>\n",
              "      <td>-0.738929</td>\n",
              "      <td>-0.184547</td>\n",
              "      <td>-0.407891</td>\n",
              "      <td>-0.824852</td>\n",
              "      <td>-0.503437</td>\n",
              "      <td>-0.067601</td>\n",
              "      <td>-1.081072</td>\n",
              "      <td>-0.542059</td>\n",
              "      <td>-0.563225</td>\n",
              "      <td>-0.413884</td>\n",
              "      <td>-0.967337</td>\n",
              "      <td>-0.639483</td>\n",
              "      <td>-0.070430</td>\n",
              "      <td>-0.854566</td>\n",
              "      <td>-0.708794</td>\n",
              "      <td>-0.174526</td>\n",
              "      <td>-0.384640</td>\n",
              "      <td>-0.851244</td>\n",
              "      <td>-0.540955</td>\n",
              "      <td>-0.084349</td>\n",
              "      <td>-1.113152</td>\n",
              "      <td>-0.556776</td>\n",
              "      <td>-0.580648</td>\n",
              "      <td>-0.456448</td>\n",
              "      <td>-0.982974</td>\n",
              "      <td>-0.658452</td>\n",
              "      <td>-0.100634</td>\n",
              "      <td>-0.869851</td>\n",
              "      <td>-0.734962</td>\n",
              "      <td>-0.182455</td>\n",
              "      <td>-0.402415</td>\n",
              "      <td>-0.755120</td>\n",
              "      <td>-0.592359</td>\n",
              "      <td>-0.321069</td>\n",
              "      <td>-0.590509</td>\n",
              "      <td>-0.276157</td>\n",
              "      <td>-1.164551</td>\n",
              "    </tr>\n",
              "    <tr>\n",
              "      <th>307508</th>\n",
              "      <td>-0.066623</td>\n",
              "      <td>0.195379</td>\n",
              "      <td>0.198046</td>\n",
              "      <td>0.126145</td>\n",
              "      <td>-1.147120</td>\n",
              "      <td>-0.245417</td>\n",
              "      <td>2.367831</td>\n",
              "      <td>0.497002</td>\n",
              "      <td>1.428203</td>\n",
              "      <td>NaN</td>\n",
              "      <td>1.146096</td>\n",
              "      <td>0.111636</td>\n",
              "      <td>-1.498603</td>\n",
              "      <td>-0.132488</td>\n",
              "      <td>-0.027199</td>\n",
              "      <td>0.065264</td>\n",
              "      <td>-0.035942</td>\n",
              "      <td>-0.425075</td>\n",
              "      <td>-0.586596</td>\n",
              "      <td>0.571474</td>\n",
              "      <td>-0.411932</td>\n",
              "      <td>-0.146199</td>\n",
              "      <td>NaN</td>\n",
              "      <td>-0.180121</td>\n",
              "      <td>7.421039</td>\n",
              "      <td>-0.184547</td>\n",
              "      <td>-0.407891</td>\n",
              "      <td>-0.085523</td>\n",
              "      <td>0.022024</td>\n",
              "      <td>0.070222</td>\n",
              "      <td>-0.012145</td>\n",
              "      <td>-0.405044</td>\n",
              "      <td>-0.563225</td>\n",
              "      <td>0.611105</td>\n",
              "      <td>-0.386998</td>\n",
              "      <td>-0.122603</td>\n",
              "      <td>NaN</td>\n",
              "      <td>-0.141447</td>\n",
              "      <td>7.695701</td>\n",
              "      <td>-0.174526</td>\n",
              "      <td>-0.384640</td>\n",
              "      <td>-0.126059</td>\n",
              "      <td>-0.021354</td>\n",
              "      <td>0.064239</td>\n",
              "      <td>-0.035214</td>\n",
              "      <td>-0.422819</td>\n",
              "      <td>-0.580648</td>\n",
              "      <td>0.574757</td>\n",
              "      <td>-0.408065</td>\n",
              "      <td>-0.144041</td>\n",
              "      <td>NaN</td>\n",
              "      <td>-0.175717</td>\n",
              "      <td>7.446054</td>\n",
              "      <td>-0.182455</td>\n",
              "      <td>-0.402415</td>\n",
              "      <td>6.462316</td>\n",
              "      <td>1.906615</td>\n",
              "      <td>-0.321069</td>\n",
              "      <td>1.930712</td>\n",
              "      <td>-0.276157</td>\n",
              "      <td>1.144331</td>\n",
              "    </tr>\n",
              "    <tr>\n",
              "      <th>307509</th>\n",
              "      <td>0.009287</td>\n",
              "      <td>-0.568757</td>\n",
              "      <td>-0.476315</td>\n",
              "      <td>-0.592499</td>\n",
              "      <td>-1.124635</td>\n",
              "      <td>-0.934008</td>\n",
              "      <td>1.027145</td>\n",
              "      <td>-0.688107</td>\n",
              "      <td>-1.366859</td>\n",
              "      <td>NaN</td>\n",
              "      <td>NaN</td>\n",
              "      <td>-0.001203</td>\n",
              "      <td>0.770723</td>\n",
              "      <td>-0.970441</td>\n",
              "      <td>NaN</td>\n",
              "      <td>-0.010720</td>\n",
              "      <td>NaN</td>\n",
              "      <td>NaN</td>\n",
              "      <td>NaN</td>\n",
              "      <td>-0.806853</td>\n",
              "      <td>-1.276145</td>\n",
              "      <td>NaN</td>\n",
              "      <td>NaN</td>\n",
              "      <td>NaN</td>\n",
              "      <td>-0.916201</td>\n",
              "      <td>NaN</td>\n",
              "      <td>NaN</td>\n",
              "      <td>-0.941589</td>\n",
              "      <td>NaN</td>\n",
              "      <td>0.002085</td>\n",
              "      <td>NaN</td>\n",
              "      <td>NaN</td>\n",
              "      <td>NaN</td>\n",
              "      <td>-0.754557</td>\n",
              "      <td>-1.256811</td>\n",
              "      <td>NaN</td>\n",
              "      <td>NaN</td>\n",
              "      <td>NaN</td>\n",
              "      <td>-0.891190</td>\n",
              "      <td>NaN</td>\n",
              "      <td>NaN</td>\n",
              "      <td>-0.965844</td>\n",
              "      <td>NaN</td>\n",
              "      <td>-0.010890</td>\n",
              "      <td>NaN</td>\n",
              "      <td>NaN</td>\n",
              "      <td>NaN</td>\n",
              "      <td>-0.799186</td>\n",
              "      <td>-1.269738</td>\n",
              "      <td>NaN</td>\n",
              "      <td>NaN</td>\n",
              "      <td>NaN</td>\n",
              "      <td>-0.912229</td>\n",
              "      <td>NaN</td>\n",
              "      <td>NaN</td>\n",
              "      <td>-0.874232</td>\n",
              "      <td>-0.592359</td>\n",
              "      <td>-0.321069</td>\n",
              "      <td>-0.590509</td>\n",
              "      <td>-0.276157</td>\n",
              "      <td>-0.775101</td>\n",
              "    </tr>\n",
              "    <tr>\n",
              "      <th>307510</th>\n",
              "      <td>-0.047646</td>\n",
              "      <td>0.188760</td>\n",
              "      <td>1.518515</td>\n",
              "      <td>0.369753</td>\n",
              "      <td>1.832942</td>\n",
              "      <td>0.187674</td>\n",
              "      <td>-0.479897</td>\n",
              "      <td>0.040274</td>\n",
              "      <td>-1.712018</td>\n",
              "      <td>NaN</td>\n",
              "      <td>1.100769</td>\n",
              "      <td>1.016311</td>\n",
              "      <td>-2.037171</td>\n",
              "      <td>-0.399487</td>\n",
              "      <td>-0.434779</td>\n",
              "      <td>0.175018</td>\n",
              "      <td>NaN</td>\n",
              "      <td>-0.355371</td>\n",
              "      <td>0.007865</td>\n",
              "      <td>-0.806853</td>\n",
              "      <td>1.028193</td>\n",
              "      <td>NaN</td>\n",
              "      <td>NaN</td>\n",
              "      <td>NaN</td>\n",
              "      <td>-0.255951</td>\n",
              "      <td>NaN</td>\n",
              "      <td>-0.407891</td>\n",
              "      <td>-0.357908</td>\n",
              "      <td>-0.390754</td>\n",
              "      <td>0.170880</td>\n",
              "      <td>NaN</td>\n",
              "      <td>-0.332506</td>\n",
              "      <td>0.046200</td>\n",
              "      <td>-0.754557</td>\n",
              "      <td>1.062460</td>\n",
              "      <td>NaN</td>\n",
              "      <td>NaN</td>\n",
              "      <td>NaN</td>\n",
              "      <td>-0.210783</td>\n",
              "      <td>NaN</td>\n",
              "      <td>-0.384640</td>\n",
              "      <td>-0.393763</td>\n",
              "      <td>-0.430221</td>\n",
              "      <td>0.172758</td>\n",
              "      <td>NaN</td>\n",
              "      <td>-0.353214</td>\n",
              "      <td>0.014295</td>\n",
              "      <td>-0.799186</td>\n",
              "      <td>1.027828</td>\n",
              "      <td>NaN</td>\n",
              "      <td>NaN</td>\n",
              "      <td>NaN</td>\n",
              "      <td>-0.250372</td>\n",
              "      <td>NaN</td>\n",
              "      <td>-0.402415</td>\n",
              "      <td>-0.286117</td>\n",
              "      <td>-0.592359</td>\n",
              "      <td>-0.321069</td>\n",
              "      <td>-0.590509</td>\n",
              "      <td>-0.276157</td>\n",
              "      <td>-0.212696</td>\n",
              "    </tr>\n",
              "  </tbody>\n",
              "</table>\n",
              "<p>307511 rows × 61 columns</p>\n",
              "</div>"
            ],
            "text/plain": [
              "        AMT_INCOME_TOTAL  ...  DAYS_LAST_PHONE_CHANGE\n",
              "0               0.142129  ...                0.206990\n",
              "1               0.426792  ...               -0.163108\n",
              "2              -0.427196  ...               -0.178831\n",
              "3              -0.142533  ...               -0.418306\n",
              "4              -0.199466  ...                0.173125\n",
              "...                  ...  ...                     ...\n",
              "307506         -0.047646  ...               -0.834365\n",
              "307507         -0.408219  ...               -1.164551\n",
              "307508         -0.066623  ...                1.144331\n",
              "307509          0.009287  ...               -0.775101\n",
              "307510         -0.047646  ...               -0.212696\n",
              "\n",
              "[307511 rows x 61 columns]"
            ]
          },
          "metadata": {
            "tags": []
          },
          "execution_count": 115
        }
      ]
    },
    {
      "cell_type": "markdown",
      "metadata": {
        "id": "AWCRIBuox5EU",
        "colab_type": "text"
      },
      "source": [
        "We have prepared a basic numerical DataFrame having no nulls."
      ]
    },
    {
      "cell_type": "markdown",
      "metadata": {
        "id": "eDU6iETWydzx",
        "colab_type": "text"
      },
      "source": [
        "# Lets have a look at the categorical columns"
      ]
    },
    {
      "cell_type": "code",
      "metadata": {
        "id": "9avqoBevyiLz",
        "colab_type": "code",
        "colab": {}
      },
      "source": [
        "df_categorical = df_categorical.drop('SK_ID_CURR', axis=1)"
      ],
      "execution_count": null,
      "outputs": []
    },
    {
      "cell_type": "code",
      "metadata": {
        "id": "XVkbuzqAoWDJ",
        "colab_type": "code",
        "colab": {}
      },
      "source": [
        "# do NOT drop \"TARGET\"\n",
        "# df_categorical = df_categorical.drop(['SK_ID_CURR'], axis=1)\n",
        "#  drop TARGET, and add it at the end. It will be used for chi-square calculation.\n",
        "categorical_null_series = df_categorical.isnull().sum()\n",
        "categorical_null_series"
      ],
      "execution_count": null,
      "outputs": []
    },
    {
      "cell_type": "code",
      "metadata": {
        "id": "P3C0Cyfn0LPv",
        "colab_type": "code",
        "colab": {
          "base_uri": "https://localhost:8080/",
          "height": 163
        },
        "outputId": "259b46a7-56c3-4d26-d37b-e9120759b54e"
      },
      "source": [
        "categorical_null_values = categorical_null_series.values\n",
        "categorical_null_values"
      ],
      "execution_count": null,
      "outputs": [
        {
          "output_type": "execute_result",
          "data": {
            "text/plain": [
              "array([     0,      0,      0,      0,      0,      0,   1292,      0,\n",
              "            0,      0,      0,      0,      0,      0,      0,      0,\n",
              "            0,  96391,      2,      0,      0,      0,      0,      0,\n",
              "            0,      0,      0,      0,      0,      0, 210295, 154297,\n",
              "       156341, 145755,      0,      0,      0,      0,      0,      0,\n",
              "            0,      0,      0,      0,      0,      0,      0,      0,\n",
              "            0,      0,      0,      0,      0,      0,  41519,  41519,\n",
              "        41519,  41519,  41519,  41519])"
            ]
          },
          "metadata": {
            "tags": []
          },
          "execution_count": 44
        }
      ]
    },
    {
      "cell_type": "code",
      "metadata": {
        "id": "UgNSSQFlIKUQ",
        "colab_type": "code",
        "colab": {}
      },
      "source": [
        "df_categorical.columns"
      ],
      "execution_count": null,
      "outputs": []
    },
    {
      "cell_type": "code",
      "metadata": {
        "id": "qWa8NJDI9nXV",
        "colab_type": "code",
        "colab": {
          "base_uri": "https://localhost:8080/",
          "height": 35
        },
        "outputId": "835865a9-cec6-4ee7-f41a-662ff34b8f57"
      },
      "source": [
        "# getting the number of columns\n",
        "len(categorical_null_values)"
      ],
      "execution_count": null,
      "outputs": [
        {
          "output_type": "execute_result",
          "data": {
            "text/plain": [
              "60"
            ]
          },
          "metadata": {
            "tags": []
          },
          "execution_count": 45
        }
      ]
    },
    {
      "cell_type": "markdown",
      "metadata": {
        "id": "IW18q_AK15_2",
        "colab_type": "text"
      },
      "source": [
        "Lets first convert all these columns to \"category\" dtype"
      ]
    },
    {
      "cell_type": "code",
      "metadata": {
        "id": "Al2RGXy1HWqW",
        "colab_type": "code",
        "colab": {}
      },
      "source": [
        "df_categorical = df_categorical.astype('category')"
      ],
      "execution_count": null,
      "outputs": []
    },
    {
      "cell_type": "code",
      "metadata": {
        "id": "Oy21Ho0tHMqa",
        "colab_type": "code",
        "colab": {
          "base_uri": "https://localhost:8080/",
          "height": 1000
        },
        "outputId": "1dcbf1d0-8df1-462f-da41-61a6470d5fb6"
      },
      "source": [
        "df_categorical.dtypes"
      ],
      "execution_count": null,
      "outputs": [
        {
          "output_type": "execute_result",
          "data": {
            "text/plain": [
              "TARGET                         category\n",
              "NAME_CONTRACT_TYPE             category\n",
              "CODE_GENDER                    category\n",
              "FLAG_OWN_CAR                   category\n",
              "FLAG_OWN_REALTY                category\n",
              "CNT_CHILDREN                   category\n",
              "NAME_TYPE_SUITE                category\n",
              "NAME_INCOME_TYPE               category\n",
              "NAME_EDUCATION_TYPE            category\n",
              "NAME_FAMILY_STATUS             category\n",
              "NAME_HOUSING_TYPE              category\n",
              "FLAG_MOBIL                     category\n",
              "FLAG_EMP_PHONE                 category\n",
              "FLAG_WORK_PHONE                category\n",
              "FLAG_CONT_MOBILE               category\n",
              "FLAG_PHONE                     category\n",
              "FLAG_EMAIL                     category\n",
              "OCCUPATION_TYPE                category\n",
              "CNT_FAM_MEMBERS                category\n",
              "REGION_RATING_CLIENT           category\n",
              "REGION_RATING_CLIENT_W_CITY    category\n",
              "WEEKDAY_APPR_PROCESS_START     category\n",
              "HOUR_APPR_PROCESS_START        category\n",
              "REG_REGION_NOT_LIVE_REGION     category\n",
              "REG_REGION_NOT_WORK_REGION     category\n",
              "LIVE_REGION_NOT_WORK_REGION    category\n",
              "REG_CITY_NOT_LIVE_CITY         category\n",
              "REG_CITY_NOT_WORK_CITY         category\n",
              "LIVE_CITY_NOT_WORK_CITY        category\n",
              "ORGANIZATION_TYPE              category\n",
              "FONDKAPREMONT_MODE             category\n",
              "HOUSETYPE_MODE                 category\n",
              "WALLSMATERIAL_MODE             category\n",
              "EMERGENCYSTATE_MODE            category\n",
              "FLAG_DOCUMENT_2                category\n",
              "FLAG_DOCUMENT_3                category\n",
              "FLAG_DOCUMENT_4                category\n",
              "FLAG_DOCUMENT_5                category\n",
              "FLAG_DOCUMENT_6                category\n",
              "FLAG_DOCUMENT_7                category\n",
              "FLAG_DOCUMENT_8                category\n",
              "FLAG_DOCUMENT_9                category\n",
              "FLAG_DOCUMENT_10               category\n",
              "FLAG_DOCUMENT_11               category\n",
              "FLAG_DOCUMENT_12               category\n",
              "FLAG_DOCUMENT_13               category\n",
              "FLAG_DOCUMENT_14               category\n",
              "FLAG_DOCUMENT_15               category\n",
              "FLAG_DOCUMENT_16               category\n",
              "FLAG_DOCUMENT_17               category\n",
              "FLAG_DOCUMENT_18               category\n",
              "FLAG_DOCUMENT_19               category\n",
              "FLAG_DOCUMENT_20               category\n",
              "FLAG_DOCUMENT_21               category\n",
              "AMT_REQ_CREDIT_BUREAU_HOUR     category\n",
              "AMT_REQ_CREDIT_BUREAU_DAY      category\n",
              "AMT_REQ_CREDIT_BUREAU_WEEK     category\n",
              "AMT_REQ_CREDIT_BUREAU_MON      category\n",
              "AMT_REQ_CREDIT_BUREAU_QRT      category\n",
              "AMT_REQ_CREDIT_BUREAU_YEAR     category\n",
              "dtype: object"
            ]
          },
          "metadata": {
            "tags": []
          },
          "execution_count": 48
        }
      ]
    },
    {
      "cell_type": "markdown",
      "metadata": {
        "id": "3e6cwhc2LoYI",
        "colab_type": "text"
      },
      "source": [
        "lets perform chi-square test for all variables, to see which columns are significant."
      ]
    },
    {
      "cell_type": "code",
      "metadata": {
        "id": "d8fFddqZKqqQ",
        "colab_type": "code",
        "colab": {}
      },
      "source": [
        "from scipy import stats"
      ],
      "execution_count": null,
      "outputs": []
    },
    {
      "cell_type": "code",
      "metadata": {
        "id": "T_Js1b5xrUIm",
        "colab_type": "code",
        "colab": {
          "base_uri": "https://localhost:8080/",
          "height": 35
        },
        "outputId": "fa2eb7b0-9255-47ef-f4e6-7df8ff05c028"
      },
      "source": [
        "categorical = list(df_categorical.columns)\n",
        "len(categorical)"
      ],
      "execution_count": null,
      "outputs": [
        {
          "output_type": "execute_result",
          "data": {
            "text/plain": [
              "60"
            ]
          },
          "metadata": {
            "tags": []
          },
          "execution_count": 49
        }
      ]
    },
    {
      "cell_type": "code",
      "metadata": {
        "id": "WnnaeBrmPAJa",
        "colab_type": "code",
        "colab": {}
      },
      "source": [
        "categorical.remove('TARGET')\n",
        "# because we don't want to take the chi-square of TARGET with itself\n",
        "categorical\n",
        "\n",
        "# now 'categorical' list has 59 elements, but df_categorical has 60 columns.\n",
        "# we have not dropped 'TARGET' from the dataframe because we need it for chi-square calculation"
      ],
      "execution_count": null,
      "outputs": []
    },
    {
      "cell_type": "code",
      "metadata": {
        "id": "wK0K9taZK3c8",
        "colab_type": "code",
        "colab": {}
      },
      "source": [
        "chi_square_values = []\n",
        "p_values = []\n",
        "for col in list(df_categorical.columns):\n",
        "  contingency_table = pd.crosstab(df_categorical[col], df_categorical['TARGET'])\n",
        "  chi_square_stat, p_val, dof, expected = stats.chi2_contingency(contingency_table)\n",
        "  chi_square_values.append(chi_square_stat)\n",
        "  p_values.append(p_val)"
      ],
      "execution_count": null,
      "outputs": []
    },
    {
      "cell_type": "code",
      "metadata": {
        "id": "zl7-SmW3zu4U",
        "colab_type": "code",
        "colab": {}
      },
      "source": [
        "# 'categorical' has 59 elements, but 'chi_square_values' and 'p_values' have 60 elements. We will add 'TARGET' to 'categorical'\n",
        "\n",
        "# add either at the end or the beginning\n",
        "categorical.append('TARGET')\n",
        "\n",
        "#categorical.insert(0, 'TARGET')\n",
        "\n",
        "categorical"
      ],
      "execution_count": null,
      "outputs": []
    },
    {
      "cell_type": "code",
      "metadata": {
        "id": "98Z1CiEbM0Mq",
        "colab_type": "code",
        "colab": {}
      },
      "source": [
        "df_categorical_chi_square = pd.DataFrame({\"column\" : categorical, \"chi-square\": chi_square_values, \"p-value\":p_values})"
      ],
      "execution_count": null,
      "outputs": []
    },
    {
      "cell_type": "code",
      "metadata": {
        "id": "uHwSGI3ESVQx",
        "colab_type": "code",
        "colab": {
          "base_uri": "https://localhost:8080/",
          "height": 1000
        },
        "outputId": "7b26de5f-4e38-44c5-d343-8a1ed75cb02a"
      },
      "source": [
        "df_categorical_chi_square"
      ],
      "execution_count": null,
      "outputs": [
        {
          "output_type": "execute_result",
          "data": {
            "text/html": [
              "<div>\n",
              "<style scoped>\n",
              "    .dataframe tbody tr th:only-of-type {\n",
              "        vertical-align: middle;\n",
              "    }\n",
              "\n",
              "    .dataframe tbody tr th {\n",
              "        vertical-align: top;\n",
              "    }\n",
              "\n",
              "    .dataframe thead th {\n",
              "        text-align: right;\n",
              "    }\n",
              "</style>\n",
              "<table border=\"1\" class=\"dataframe\">\n",
              "  <thead>\n",
              "    <tr style=\"text-align: right;\">\n",
              "      <th></th>\n",
              "      <th>column</th>\n",
              "      <th>chi-square</th>\n",
              "      <th>p-value</th>\n",
              "    </tr>\n",
              "  </thead>\n",
              "  <tbody>\n",
              "    <tr>\n",
              "      <th>0</th>\n",
              "      <td>NAME_CONTRACT_TYPE</td>\n",
              "      <td>293.150542</td>\n",
              "      <td>1.023515e-65</td>\n",
              "    </tr>\n",
              "    <tr>\n",
              "      <th>1</th>\n",
              "      <td>CODE_GENDER</td>\n",
              "      <td>920.791334</td>\n",
              "      <td>1.129022e-200</td>\n",
              "    </tr>\n",
              "    <tr>\n",
              "      <th>2</th>\n",
              "      <td>FLAG_OWN_CAR</td>\n",
              "      <td>146.656018</td>\n",
              "      <td>9.330994e-34</td>\n",
              "    </tr>\n",
              "    <tr>\n",
              "      <th>3</th>\n",
              "      <td>FLAG_OWN_REALTY</td>\n",
              "      <td>11.575827</td>\n",
              "      <td>6.681470e-04</td>\n",
              "    </tr>\n",
              "    <tr>\n",
              "      <th>4</th>\n",
              "      <td>CNT_CHILDREN</td>\n",
              "      <td>185.451787</td>\n",
              "      <td>5.061089e-32</td>\n",
              "    </tr>\n",
              "    <tr>\n",
              "      <th>5</th>\n",
              "      <td>NAME_TYPE_SUITE</td>\n",
              "      <td>32.825315</td>\n",
              "      <td>1.132931e-05</td>\n",
              "    </tr>\n",
              "    <tr>\n",
              "      <th>6</th>\n",
              "      <td>NAME_INCOME_TYPE</td>\n",
              "      <td>1253.470808</td>\n",
              "      <td>1.928146e-266</td>\n",
              "    </tr>\n",
              "    <tr>\n",
              "      <th>7</th>\n",
              "      <td>NAME_EDUCATION_TYPE</td>\n",
              "      <td>1019.213187</td>\n",
              "      <td>2.447681e-219</td>\n",
              "    </tr>\n",
              "    <tr>\n",
              "      <th>8</th>\n",
              "      <td>NAME_FAMILY_STATUS</td>\n",
              "      <td>504.694083</td>\n",
              "      <td>7.744842e-107</td>\n",
              "    </tr>\n",
              "    <tr>\n",
              "      <th>9</th>\n",
              "      <td>NAME_HOUSING_TYPE</td>\n",
              "      <td>420.556190</td>\n",
              "      <td>1.099089e-88</td>\n",
              "    </tr>\n",
              "    <tr>\n",
              "      <th>10</th>\n",
              "      <td>FLAG_MOBIL</td>\n",
              "      <td>2.368750</td>\n",
              "      <td>1.237862e-01</td>\n",
              "    </tr>\n",
              "    <tr>\n",
              "      <th>11</th>\n",
              "      <td>FLAG_EMP_PHONE</td>\n",
              "      <td>649.751181</td>\n",
              "      <td>2.530606e-143</td>\n",
              "    </tr>\n",
              "    <tr>\n",
              "      <th>12</th>\n",
              "      <td>FLAG_WORK_PHONE</td>\n",
              "      <td>249.940305</td>\n",
              "      <td>2.675800e-56</td>\n",
              "    </tr>\n",
              "    <tr>\n",
              "      <th>13</th>\n",
              "      <td>FLAG_CONT_MOBILE</td>\n",
              "      <td>0.016530</td>\n",
              "      <td>8.976990e-01</td>\n",
              "    </tr>\n",
              "    <tr>\n",
              "      <th>14</th>\n",
              "      <td>FLAG_PHONE</td>\n",
              "      <td>174.084004</td>\n",
              "      <td>9.489418e-40</td>\n",
              "    </tr>\n",
              "    <tr>\n",
              "      <th>15</th>\n",
              "      <td>FLAG_EMAIL</td>\n",
              "      <td>0.923096</td>\n",
              "      <td>3.366633e-01</td>\n",
              "    </tr>\n",
              "    <tr>\n",
              "      <th>16</th>\n",
              "      <td>OCCUPATION_TYPE</td>\n",
              "      <td>1402.846796</td>\n",
              "      <td>3.784500e-288</td>\n",
              "    </tr>\n",
              "    <tr>\n",
              "      <th>17</th>\n",
              "      <td>CNT_FAM_MEMBERS</td>\n",
              "      <td>167.437323</td>\n",
              "      <td>2.730183e-27</td>\n",
              "    </tr>\n",
              "    <tr>\n",
              "      <th>18</th>\n",
              "      <td>REGION_RATING_CLIENT</td>\n",
              "      <td>1067.192692</td>\n",
              "      <td>1.828316e-232</td>\n",
              "    </tr>\n",
              "    <tr>\n",
              "      <th>19</th>\n",
              "      <td>REGION_RATING_CLIENT_W_CITY</td>\n",
              "      <td>1143.446338</td>\n",
              "      <td>5.055715e-249</td>\n",
              "    </tr>\n",
              "    <tr>\n",
              "      <th>20</th>\n",
              "      <td>WEEKDAY_APPR_PROCESS_START</td>\n",
              "      <td>15.387557</td>\n",
              "      <td>1.744737e-02</td>\n",
              "    </tr>\n",
              "    <tr>\n",
              "      <th>21</th>\n",
              "      <td>HOUR_APPR_PROCESS_START</td>\n",
              "      <td>271.527707</td>\n",
              "      <td>2.465404e-44</td>\n",
              "    </tr>\n",
              "    <tr>\n",
              "      <th>22</th>\n",
              "      <td>REG_REGION_NOT_LIVE_REGION</td>\n",
              "      <td>9.394008</td>\n",
              "      <td>2.176958e-03</td>\n",
              "    </tr>\n",
              "    <tr>\n",
              "      <th>23</th>\n",
              "      <td>REG_REGION_NOT_WORK_REGION</td>\n",
              "      <td>14.703127</td>\n",
              "      <td>1.258375e-04</td>\n",
              "    </tr>\n",
              "    <tr>\n",
              "      <th>24</th>\n",
              "      <td>LIVE_REGION_NOT_WORK_REGION</td>\n",
              "      <td>2.392424</td>\n",
              "      <td>1.219245e-01</td>\n",
              "    </tr>\n",
              "    <tr>\n",
              "      <th>25</th>\n",
              "      <td>REG_CITY_NOT_LIVE_CITY</td>\n",
              "      <td>605.481659</td>\n",
              "      <td>1.075235e-133</td>\n",
              "    </tr>\n",
              "    <tr>\n",
              "      <th>26</th>\n",
              "      <td>REG_CITY_NOT_WORK_CITY</td>\n",
              "      <td>799.218045</td>\n",
              "      <td>7.981277e-176</td>\n",
              "    </tr>\n",
              "    <tr>\n",
              "      <th>27</th>\n",
              "      <td>LIVE_CITY_NOT_WORK_CITY</td>\n",
              "      <td>324.864271</td>\n",
              "      <td>1.262939e-72</td>\n",
              "    </tr>\n",
              "    <tr>\n",
              "      <th>28</th>\n",
              "      <td>ORGANIZATION_TYPE</td>\n",
              "      <td>1609.240636</td>\n",
              "      <td>5.224541e-299</td>\n",
              "    </tr>\n",
              "    <tr>\n",
              "      <th>29</th>\n",
              "      <td>FONDKAPREMONT_MODE</td>\n",
              "      <td>16.809897</td>\n",
              "      <td>7.732982e-04</td>\n",
              "    </tr>\n",
              "    <tr>\n",
              "      <th>30</th>\n",
              "      <td>HOUSETYPE_MODE</td>\n",
              "      <td>27.632556</td>\n",
              "      <td>9.992328e-07</td>\n",
              "    </tr>\n",
              "    <tr>\n",
              "      <th>31</th>\n",
              "      <td>WALLSMATERIAL_MODE</td>\n",
              "      <td>139.235314</td>\n",
              "      <td>1.453180e-27</td>\n",
              "    </tr>\n",
              "    <tr>\n",
              "      <th>32</th>\n",
              "      <td>EMERGENCYSTATE_MODE</td>\n",
              "      <td>23.678150</td>\n",
              "      <td>1.138680e-06</td>\n",
              "    </tr>\n",
              "    <tr>\n",
              "      <th>33</th>\n",
              "      <td>FLAG_DOCUMENT_2</td>\n",
              "      <td>6.224739</td>\n",
              "      <td>1.259775e-02</td>\n",
              "    </tr>\n",
              "    <tr>\n",
              "      <th>34</th>\n",
              "      <td>FLAG_DOCUMENT_3</td>\n",
              "      <td>604.391958</td>\n",
              "      <td>1.855748e-133</td>\n",
              "    </tr>\n",
              "    <tr>\n",
              "      <th>35</th>\n",
              "      <td>FLAG_DOCUMENT_4</td>\n",
              "      <td>1.242490</td>\n",
              "      <td>2.649918e-01</td>\n",
              "    </tr>\n",
              "    <tr>\n",
              "      <th>36</th>\n",
              "      <td>FLAG_DOCUMENT_5</td>\n",
              "      <td>0.021899</td>\n",
              "      <td>8.823564e-01</td>\n",
              "    </tr>\n",
              "    <tr>\n",
              "      <th>37</th>\n",
              "      <td>FLAG_DOCUMENT_6</td>\n",
              "      <td>251.194642</td>\n",
              "      <td>1.425605e-56</td>\n",
              "    </tr>\n",
              "    <tr>\n",
              "      <th>38</th>\n",
              "      <td>FLAG_DOCUMENT_7</td>\n",
              "      <td>0.364390</td>\n",
              "      <td>5.460784e-01</td>\n",
              "    </tr>\n",
              "    <tr>\n",
              "      <th>39</th>\n",
              "      <td>FLAG_DOCUMENT_8</td>\n",
              "      <td>19.772100</td>\n",
              "      <td>8.724696e-06</td>\n",
              "    </tr>\n",
              "    <tr>\n",
              "      <th>40</th>\n",
              "      <td>FLAG_DOCUMENT_9</td>\n",
              "      <td>5.571672</td>\n",
              "      <td>1.825333e-02</td>\n",
              "    </tr>\n",
              "    <tr>\n",
              "      <th>41</th>\n",
              "      <td>FLAG_DOCUMENT_10</td>\n",
              "      <td>0.008159</td>\n",
              "      <td>9.280282e-01</td>\n",
              "    </tr>\n",
              "    <tr>\n",
              "      <th>42</th>\n",
              "      <td>FLAG_DOCUMENT_11</td>\n",
              "      <td>5.254677</td>\n",
              "      <td>2.188786e-02</td>\n",
              "    </tr>\n",
              "    <tr>\n",
              "      <th>43</th>\n",
              "      <td>FLAG_DOCUMENT_12</td>\n",
              "      <td>0.772194</td>\n",
              "      <td>3.795391e-01</td>\n",
              "    </tr>\n",
              "    <tr>\n",
              "      <th>44</th>\n",
              "      <td>FLAG_DOCUMENT_13</td>\n",
              "      <td>40.544766</td>\n",
              "      <td>1.921626e-10</td>\n",
              "    </tr>\n",
              "    <tr>\n",
              "      <th>45</th>\n",
              "      <td>FLAG_DOCUMENT_14</td>\n",
              "      <td>26.903604</td>\n",
              "      <td>2.138598e-07</td>\n",
              "    </tr>\n",
              "    <tr>\n",
              "      <th>46</th>\n",
              "      <td>FLAG_DOCUMENT_15</td>\n",
              "      <td>12.454144</td>\n",
              "      <td>4.170655e-04</td>\n",
              "    </tr>\n",
              "    <tr>\n",
              "      <th>47</th>\n",
              "      <td>FLAG_DOCUMENT_16</td>\n",
              "      <td>41.054496</td>\n",
              "      <td>1.480432e-10</td>\n",
              "    </tr>\n",
              "    <tr>\n",
              "      <th>48</th>\n",
              "      <td>FLAG_DOCUMENT_17</td>\n",
              "      <td>2.789807</td>\n",
              "      <td>9.486563e-02</td>\n",
              "    </tr>\n",
              "    <tr>\n",
              "      <th>49</th>\n",
              "      <td>FLAG_DOCUMENT_18</td>\n",
              "      <td>19.123403</td>\n",
              "      <td>1.225331e-05</td>\n",
              "    </tr>\n",
              "    <tr>\n",
              "      <th>50</th>\n",
              "      <td>FLAG_DOCUMENT_19</td>\n",
              "      <td>0.380782</td>\n",
              "      <td>5.371848e-01</td>\n",
              "    </tr>\n",
              "    <tr>\n",
              "      <th>51</th>\n",
              "      <td>FLAG_DOCUMENT_20</td>\n",
              "      <td>0.000759</td>\n",
              "      <td>9.780256e-01</td>\n",
              "    </tr>\n",
              "    <tr>\n",
              "      <th>52</th>\n",
              "      <td>FLAG_DOCUMENT_21</td>\n",
              "      <td>3.518213</td>\n",
              "      <td>6.069787e-02</td>\n",
              "    </tr>\n",
              "    <tr>\n",
              "      <th>53</th>\n",
              "      <td>AMT_REQ_CREDIT_BUREAU_HOUR</td>\n",
              "      <td>1.731751</td>\n",
              "      <td>7.849423e-01</td>\n",
              "    </tr>\n",
              "    <tr>\n",
              "      <th>54</th>\n",
              "      <td>AMT_REQ_CREDIT_BUREAU_DAY</td>\n",
              "      <td>10.905916</td>\n",
              "      <td>2.070873e-01</td>\n",
              "    </tr>\n",
              "    <tr>\n",
              "      <th>55</th>\n",
              "      <td>AMT_REQ_CREDIT_BUREAU_WEEK</td>\n",
              "      <td>3.257560</td>\n",
              "      <td>9.171701e-01</td>\n",
              "    </tr>\n",
              "    <tr>\n",
              "      <th>56</th>\n",
              "      <td>AMT_REQ_CREDIT_BUREAU_MON</td>\n",
              "      <td>56.557215</td>\n",
              "      <td>1.182582e-04</td>\n",
              "    </tr>\n",
              "    <tr>\n",
              "      <th>57</th>\n",
              "      <td>AMT_REQ_CREDIT_BUREAU_QRT</td>\n",
              "      <td>112.494071</td>\n",
              "      <td>1.674314e-19</td>\n",
              "    </tr>\n",
              "    <tr>\n",
              "      <th>58</th>\n",
              "      <td>AMT_REQ_CREDIT_BUREAU_YEAR</td>\n",
              "      <td>147.734585</td>\n",
              "      <td>8.720141e-20</td>\n",
              "    </tr>\n",
              "    <tr>\n",
              "      <th>59</th>\n",
              "      <td>TARGET</td>\n",
              "      <td>307497.525179</td>\n",
              "      <td>0.000000e+00</td>\n",
              "    </tr>\n",
              "  </tbody>\n",
              "</table>\n",
              "</div>"
            ],
            "text/plain": [
              "                         column     chi-square        p-value\n",
              "0            NAME_CONTRACT_TYPE     293.150542   1.023515e-65\n",
              "1                   CODE_GENDER     920.791334  1.129022e-200\n",
              "2                  FLAG_OWN_CAR     146.656018   9.330994e-34\n",
              "3               FLAG_OWN_REALTY      11.575827   6.681470e-04\n",
              "4                  CNT_CHILDREN     185.451787   5.061089e-32\n",
              "5               NAME_TYPE_SUITE      32.825315   1.132931e-05\n",
              "6              NAME_INCOME_TYPE    1253.470808  1.928146e-266\n",
              "7           NAME_EDUCATION_TYPE    1019.213187  2.447681e-219\n",
              "8            NAME_FAMILY_STATUS     504.694083  7.744842e-107\n",
              "9             NAME_HOUSING_TYPE     420.556190   1.099089e-88\n",
              "10                   FLAG_MOBIL       2.368750   1.237862e-01\n",
              "11               FLAG_EMP_PHONE     649.751181  2.530606e-143\n",
              "12              FLAG_WORK_PHONE     249.940305   2.675800e-56\n",
              "13             FLAG_CONT_MOBILE       0.016530   8.976990e-01\n",
              "14                   FLAG_PHONE     174.084004   9.489418e-40\n",
              "15                   FLAG_EMAIL       0.923096   3.366633e-01\n",
              "16              OCCUPATION_TYPE    1402.846796  3.784500e-288\n",
              "17              CNT_FAM_MEMBERS     167.437323   2.730183e-27\n",
              "18         REGION_RATING_CLIENT    1067.192692  1.828316e-232\n",
              "19  REGION_RATING_CLIENT_W_CITY    1143.446338  5.055715e-249\n",
              "20   WEEKDAY_APPR_PROCESS_START      15.387557   1.744737e-02\n",
              "21      HOUR_APPR_PROCESS_START     271.527707   2.465404e-44\n",
              "22   REG_REGION_NOT_LIVE_REGION       9.394008   2.176958e-03\n",
              "23   REG_REGION_NOT_WORK_REGION      14.703127   1.258375e-04\n",
              "24  LIVE_REGION_NOT_WORK_REGION       2.392424   1.219245e-01\n",
              "25       REG_CITY_NOT_LIVE_CITY     605.481659  1.075235e-133\n",
              "26       REG_CITY_NOT_WORK_CITY     799.218045  7.981277e-176\n",
              "27      LIVE_CITY_NOT_WORK_CITY     324.864271   1.262939e-72\n",
              "28            ORGANIZATION_TYPE    1609.240636  5.224541e-299\n",
              "29           FONDKAPREMONT_MODE      16.809897   7.732982e-04\n",
              "30               HOUSETYPE_MODE      27.632556   9.992328e-07\n",
              "31           WALLSMATERIAL_MODE     139.235314   1.453180e-27\n",
              "32          EMERGENCYSTATE_MODE      23.678150   1.138680e-06\n",
              "33              FLAG_DOCUMENT_2       6.224739   1.259775e-02\n",
              "34              FLAG_DOCUMENT_3     604.391958  1.855748e-133\n",
              "35              FLAG_DOCUMENT_4       1.242490   2.649918e-01\n",
              "36              FLAG_DOCUMENT_5       0.021899   8.823564e-01\n",
              "37              FLAG_DOCUMENT_6     251.194642   1.425605e-56\n",
              "38              FLAG_DOCUMENT_7       0.364390   5.460784e-01\n",
              "39              FLAG_DOCUMENT_8      19.772100   8.724696e-06\n",
              "40              FLAG_DOCUMENT_9       5.571672   1.825333e-02\n",
              "41             FLAG_DOCUMENT_10       0.008159   9.280282e-01\n",
              "42             FLAG_DOCUMENT_11       5.254677   2.188786e-02\n",
              "43             FLAG_DOCUMENT_12       0.772194   3.795391e-01\n",
              "44             FLAG_DOCUMENT_13      40.544766   1.921626e-10\n",
              "45             FLAG_DOCUMENT_14      26.903604   2.138598e-07\n",
              "46             FLAG_DOCUMENT_15      12.454144   4.170655e-04\n",
              "47             FLAG_DOCUMENT_16      41.054496   1.480432e-10\n",
              "48             FLAG_DOCUMENT_17       2.789807   9.486563e-02\n",
              "49             FLAG_DOCUMENT_18      19.123403   1.225331e-05\n",
              "50             FLAG_DOCUMENT_19       0.380782   5.371848e-01\n",
              "51             FLAG_DOCUMENT_20       0.000759   9.780256e-01\n",
              "52             FLAG_DOCUMENT_21       3.518213   6.069787e-02\n",
              "53   AMT_REQ_CREDIT_BUREAU_HOUR       1.731751   7.849423e-01\n",
              "54    AMT_REQ_CREDIT_BUREAU_DAY      10.905916   2.070873e-01\n",
              "55   AMT_REQ_CREDIT_BUREAU_WEEK       3.257560   9.171701e-01\n",
              "56    AMT_REQ_CREDIT_BUREAU_MON      56.557215   1.182582e-04\n",
              "57    AMT_REQ_CREDIT_BUREAU_QRT     112.494071   1.674314e-19\n",
              "58   AMT_REQ_CREDIT_BUREAU_YEAR     147.734585   8.720141e-20\n",
              "59                       TARGET  307497.525179   0.000000e+00"
            ]
          },
          "metadata": {
            "tags": []
          },
          "execution_count": 66
        }
      ]
    },
    {
      "cell_type": "code",
      "metadata": {
        "id": "WMdQfMENHCYx",
        "colab_type": "code",
        "colab": {}
      },
      "source": [
        "df_categorical_chi_square['null values'] = df_categorical.isnull().sum().values"
      ],
      "execution_count": null,
      "outputs": []
    },
    {
      "cell_type": "code",
      "metadata": {
        "id": "bR_Xk_jEHWQU",
        "colab_type": "code",
        "colab": {
          "base_uri": "https://localhost:8080/",
          "height": 1000
        },
        "outputId": "c29dade9-db1d-4b00-b960-0050d5f7e0da"
      },
      "source": [
        "df_categorical_chi_square"
      ],
      "execution_count": null,
      "outputs": [
        {
          "output_type": "execute_result",
          "data": {
            "text/html": [
              "<div>\n",
              "<style scoped>\n",
              "    .dataframe tbody tr th:only-of-type {\n",
              "        vertical-align: middle;\n",
              "    }\n",
              "\n",
              "    .dataframe tbody tr th {\n",
              "        vertical-align: top;\n",
              "    }\n",
              "\n",
              "    .dataframe thead th {\n",
              "        text-align: right;\n",
              "    }\n",
              "</style>\n",
              "<table border=\"1\" class=\"dataframe\">\n",
              "  <thead>\n",
              "    <tr style=\"text-align: right;\">\n",
              "      <th></th>\n",
              "      <th>column</th>\n",
              "      <th>chi-square</th>\n",
              "      <th>p-value</th>\n",
              "      <th>null values</th>\n",
              "    </tr>\n",
              "  </thead>\n",
              "  <tbody>\n",
              "    <tr>\n",
              "      <th>0</th>\n",
              "      <td>NAME_CONTRACT_TYPE</td>\n",
              "      <td>293.150542</td>\n",
              "      <td>1.023515e-65</td>\n",
              "      <td>0</td>\n",
              "    </tr>\n",
              "    <tr>\n",
              "      <th>1</th>\n",
              "      <td>CODE_GENDER</td>\n",
              "      <td>920.791334</td>\n",
              "      <td>1.129022e-200</td>\n",
              "      <td>0</td>\n",
              "    </tr>\n",
              "    <tr>\n",
              "      <th>2</th>\n",
              "      <td>FLAG_OWN_CAR</td>\n",
              "      <td>146.656018</td>\n",
              "      <td>9.330994e-34</td>\n",
              "      <td>0</td>\n",
              "    </tr>\n",
              "    <tr>\n",
              "      <th>3</th>\n",
              "      <td>FLAG_OWN_REALTY</td>\n",
              "      <td>11.575827</td>\n",
              "      <td>6.681470e-04</td>\n",
              "      <td>0</td>\n",
              "    </tr>\n",
              "    <tr>\n",
              "      <th>4</th>\n",
              "      <td>CNT_CHILDREN</td>\n",
              "      <td>185.451787</td>\n",
              "      <td>5.061089e-32</td>\n",
              "      <td>0</td>\n",
              "    </tr>\n",
              "    <tr>\n",
              "      <th>5</th>\n",
              "      <td>NAME_TYPE_SUITE</td>\n",
              "      <td>32.825315</td>\n",
              "      <td>1.132931e-05</td>\n",
              "      <td>1292</td>\n",
              "    </tr>\n",
              "    <tr>\n",
              "      <th>6</th>\n",
              "      <td>NAME_INCOME_TYPE</td>\n",
              "      <td>1253.470808</td>\n",
              "      <td>1.928146e-266</td>\n",
              "      <td>0</td>\n",
              "    </tr>\n",
              "    <tr>\n",
              "      <th>7</th>\n",
              "      <td>NAME_EDUCATION_TYPE</td>\n",
              "      <td>1019.213187</td>\n",
              "      <td>2.447681e-219</td>\n",
              "      <td>0</td>\n",
              "    </tr>\n",
              "    <tr>\n",
              "      <th>8</th>\n",
              "      <td>NAME_FAMILY_STATUS</td>\n",
              "      <td>504.694083</td>\n",
              "      <td>7.744842e-107</td>\n",
              "      <td>0</td>\n",
              "    </tr>\n",
              "    <tr>\n",
              "      <th>9</th>\n",
              "      <td>NAME_HOUSING_TYPE</td>\n",
              "      <td>420.556190</td>\n",
              "      <td>1.099089e-88</td>\n",
              "      <td>0</td>\n",
              "    </tr>\n",
              "    <tr>\n",
              "      <th>10</th>\n",
              "      <td>FLAG_MOBIL</td>\n",
              "      <td>2.368750</td>\n",
              "      <td>1.237862e-01</td>\n",
              "      <td>0</td>\n",
              "    </tr>\n",
              "    <tr>\n",
              "      <th>11</th>\n",
              "      <td>FLAG_EMP_PHONE</td>\n",
              "      <td>649.751181</td>\n",
              "      <td>2.530606e-143</td>\n",
              "      <td>0</td>\n",
              "    </tr>\n",
              "    <tr>\n",
              "      <th>12</th>\n",
              "      <td>FLAG_WORK_PHONE</td>\n",
              "      <td>249.940305</td>\n",
              "      <td>2.675800e-56</td>\n",
              "      <td>0</td>\n",
              "    </tr>\n",
              "    <tr>\n",
              "      <th>13</th>\n",
              "      <td>FLAG_CONT_MOBILE</td>\n",
              "      <td>0.016530</td>\n",
              "      <td>8.976990e-01</td>\n",
              "      <td>0</td>\n",
              "    </tr>\n",
              "    <tr>\n",
              "      <th>14</th>\n",
              "      <td>FLAG_PHONE</td>\n",
              "      <td>174.084004</td>\n",
              "      <td>9.489418e-40</td>\n",
              "      <td>0</td>\n",
              "    </tr>\n",
              "    <tr>\n",
              "      <th>15</th>\n",
              "      <td>FLAG_EMAIL</td>\n",
              "      <td>0.923096</td>\n",
              "      <td>3.366633e-01</td>\n",
              "      <td>0</td>\n",
              "    </tr>\n",
              "    <tr>\n",
              "      <th>16</th>\n",
              "      <td>OCCUPATION_TYPE</td>\n",
              "      <td>1402.846796</td>\n",
              "      <td>3.784500e-288</td>\n",
              "      <td>96391</td>\n",
              "    </tr>\n",
              "    <tr>\n",
              "      <th>17</th>\n",
              "      <td>CNT_FAM_MEMBERS</td>\n",
              "      <td>167.437323</td>\n",
              "      <td>2.730183e-27</td>\n",
              "      <td>2</td>\n",
              "    </tr>\n",
              "    <tr>\n",
              "      <th>18</th>\n",
              "      <td>REGION_RATING_CLIENT</td>\n",
              "      <td>1067.192692</td>\n",
              "      <td>1.828316e-232</td>\n",
              "      <td>0</td>\n",
              "    </tr>\n",
              "    <tr>\n",
              "      <th>19</th>\n",
              "      <td>REGION_RATING_CLIENT_W_CITY</td>\n",
              "      <td>1143.446338</td>\n",
              "      <td>5.055715e-249</td>\n",
              "      <td>0</td>\n",
              "    </tr>\n",
              "    <tr>\n",
              "      <th>20</th>\n",
              "      <td>WEEKDAY_APPR_PROCESS_START</td>\n",
              "      <td>15.387557</td>\n",
              "      <td>1.744737e-02</td>\n",
              "      <td>0</td>\n",
              "    </tr>\n",
              "    <tr>\n",
              "      <th>21</th>\n",
              "      <td>HOUR_APPR_PROCESS_START</td>\n",
              "      <td>271.527707</td>\n",
              "      <td>2.465404e-44</td>\n",
              "      <td>0</td>\n",
              "    </tr>\n",
              "    <tr>\n",
              "      <th>22</th>\n",
              "      <td>REG_REGION_NOT_LIVE_REGION</td>\n",
              "      <td>9.394008</td>\n",
              "      <td>2.176958e-03</td>\n",
              "      <td>0</td>\n",
              "    </tr>\n",
              "    <tr>\n",
              "      <th>23</th>\n",
              "      <td>REG_REGION_NOT_WORK_REGION</td>\n",
              "      <td>14.703127</td>\n",
              "      <td>1.258375e-04</td>\n",
              "      <td>0</td>\n",
              "    </tr>\n",
              "    <tr>\n",
              "      <th>24</th>\n",
              "      <td>LIVE_REGION_NOT_WORK_REGION</td>\n",
              "      <td>2.392424</td>\n",
              "      <td>1.219245e-01</td>\n",
              "      <td>0</td>\n",
              "    </tr>\n",
              "    <tr>\n",
              "      <th>25</th>\n",
              "      <td>REG_CITY_NOT_LIVE_CITY</td>\n",
              "      <td>605.481659</td>\n",
              "      <td>1.075235e-133</td>\n",
              "      <td>0</td>\n",
              "    </tr>\n",
              "    <tr>\n",
              "      <th>26</th>\n",
              "      <td>REG_CITY_NOT_WORK_CITY</td>\n",
              "      <td>799.218045</td>\n",
              "      <td>7.981277e-176</td>\n",
              "      <td>0</td>\n",
              "    </tr>\n",
              "    <tr>\n",
              "      <th>27</th>\n",
              "      <td>LIVE_CITY_NOT_WORK_CITY</td>\n",
              "      <td>324.864271</td>\n",
              "      <td>1.262939e-72</td>\n",
              "      <td>0</td>\n",
              "    </tr>\n",
              "    <tr>\n",
              "      <th>28</th>\n",
              "      <td>ORGANIZATION_TYPE</td>\n",
              "      <td>1609.240636</td>\n",
              "      <td>5.224541e-299</td>\n",
              "      <td>0</td>\n",
              "    </tr>\n",
              "    <tr>\n",
              "      <th>29</th>\n",
              "      <td>FONDKAPREMONT_MODE</td>\n",
              "      <td>16.809897</td>\n",
              "      <td>7.732982e-04</td>\n",
              "      <td>210295</td>\n",
              "    </tr>\n",
              "    <tr>\n",
              "      <th>30</th>\n",
              "      <td>HOUSETYPE_MODE</td>\n",
              "      <td>27.632556</td>\n",
              "      <td>9.992328e-07</td>\n",
              "      <td>154297</td>\n",
              "    </tr>\n",
              "    <tr>\n",
              "      <th>31</th>\n",
              "      <td>WALLSMATERIAL_MODE</td>\n",
              "      <td>139.235314</td>\n",
              "      <td>1.453180e-27</td>\n",
              "      <td>156341</td>\n",
              "    </tr>\n",
              "    <tr>\n",
              "      <th>32</th>\n",
              "      <td>EMERGENCYSTATE_MODE</td>\n",
              "      <td>23.678150</td>\n",
              "      <td>1.138680e-06</td>\n",
              "      <td>145755</td>\n",
              "    </tr>\n",
              "    <tr>\n",
              "      <th>33</th>\n",
              "      <td>FLAG_DOCUMENT_2</td>\n",
              "      <td>6.224739</td>\n",
              "      <td>1.259775e-02</td>\n",
              "      <td>0</td>\n",
              "    </tr>\n",
              "    <tr>\n",
              "      <th>34</th>\n",
              "      <td>FLAG_DOCUMENT_3</td>\n",
              "      <td>604.391958</td>\n",
              "      <td>1.855748e-133</td>\n",
              "      <td>0</td>\n",
              "    </tr>\n",
              "    <tr>\n",
              "      <th>35</th>\n",
              "      <td>FLAG_DOCUMENT_4</td>\n",
              "      <td>1.242490</td>\n",
              "      <td>2.649918e-01</td>\n",
              "      <td>0</td>\n",
              "    </tr>\n",
              "    <tr>\n",
              "      <th>36</th>\n",
              "      <td>FLAG_DOCUMENT_5</td>\n",
              "      <td>0.021899</td>\n",
              "      <td>8.823564e-01</td>\n",
              "      <td>0</td>\n",
              "    </tr>\n",
              "    <tr>\n",
              "      <th>37</th>\n",
              "      <td>FLAG_DOCUMENT_6</td>\n",
              "      <td>251.194642</td>\n",
              "      <td>1.425605e-56</td>\n",
              "      <td>0</td>\n",
              "    </tr>\n",
              "    <tr>\n",
              "      <th>38</th>\n",
              "      <td>FLAG_DOCUMENT_7</td>\n",
              "      <td>0.364390</td>\n",
              "      <td>5.460784e-01</td>\n",
              "      <td>0</td>\n",
              "    </tr>\n",
              "    <tr>\n",
              "      <th>39</th>\n",
              "      <td>FLAG_DOCUMENT_8</td>\n",
              "      <td>19.772100</td>\n",
              "      <td>8.724696e-06</td>\n",
              "      <td>0</td>\n",
              "    </tr>\n",
              "    <tr>\n",
              "      <th>40</th>\n",
              "      <td>FLAG_DOCUMENT_9</td>\n",
              "      <td>5.571672</td>\n",
              "      <td>1.825333e-02</td>\n",
              "      <td>0</td>\n",
              "    </tr>\n",
              "    <tr>\n",
              "      <th>41</th>\n",
              "      <td>FLAG_DOCUMENT_10</td>\n",
              "      <td>0.008159</td>\n",
              "      <td>9.280282e-01</td>\n",
              "      <td>0</td>\n",
              "    </tr>\n",
              "    <tr>\n",
              "      <th>42</th>\n",
              "      <td>FLAG_DOCUMENT_11</td>\n",
              "      <td>5.254677</td>\n",
              "      <td>2.188786e-02</td>\n",
              "      <td>0</td>\n",
              "    </tr>\n",
              "    <tr>\n",
              "      <th>43</th>\n",
              "      <td>FLAG_DOCUMENT_12</td>\n",
              "      <td>0.772194</td>\n",
              "      <td>3.795391e-01</td>\n",
              "      <td>0</td>\n",
              "    </tr>\n",
              "    <tr>\n",
              "      <th>44</th>\n",
              "      <td>FLAG_DOCUMENT_13</td>\n",
              "      <td>40.544766</td>\n",
              "      <td>1.921626e-10</td>\n",
              "      <td>0</td>\n",
              "    </tr>\n",
              "    <tr>\n",
              "      <th>45</th>\n",
              "      <td>FLAG_DOCUMENT_14</td>\n",
              "      <td>26.903604</td>\n",
              "      <td>2.138598e-07</td>\n",
              "      <td>0</td>\n",
              "    </tr>\n",
              "    <tr>\n",
              "      <th>46</th>\n",
              "      <td>FLAG_DOCUMENT_15</td>\n",
              "      <td>12.454144</td>\n",
              "      <td>4.170655e-04</td>\n",
              "      <td>0</td>\n",
              "    </tr>\n",
              "    <tr>\n",
              "      <th>47</th>\n",
              "      <td>FLAG_DOCUMENT_16</td>\n",
              "      <td>41.054496</td>\n",
              "      <td>1.480432e-10</td>\n",
              "      <td>0</td>\n",
              "    </tr>\n",
              "    <tr>\n",
              "      <th>48</th>\n",
              "      <td>FLAG_DOCUMENT_17</td>\n",
              "      <td>2.789807</td>\n",
              "      <td>9.486563e-02</td>\n",
              "      <td>0</td>\n",
              "    </tr>\n",
              "    <tr>\n",
              "      <th>49</th>\n",
              "      <td>FLAG_DOCUMENT_18</td>\n",
              "      <td>19.123403</td>\n",
              "      <td>1.225331e-05</td>\n",
              "      <td>0</td>\n",
              "    </tr>\n",
              "    <tr>\n",
              "      <th>50</th>\n",
              "      <td>FLAG_DOCUMENT_19</td>\n",
              "      <td>0.380782</td>\n",
              "      <td>5.371848e-01</td>\n",
              "      <td>0</td>\n",
              "    </tr>\n",
              "    <tr>\n",
              "      <th>51</th>\n",
              "      <td>FLAG_DOCUMENT_20</td>\n",
              "      <td>0.000759</td>\n",
              "      <td>9.780256e-01</td>\n",
              "      <td>0</td>\n",
              "    </tr>\n",
              "    <tr>\n",
              "      <th>52</th>\n",
              "      <td>FLAG_DOCUMENT_21</td>\n",
              "      <td>3.518213</td>\n",
              "      <td>6.069787e-02</td>\n",
              "      <td>0</td>\n",
              "    </tr>\n",
              "    <tr>\n",
              "      <th>53</th>\n",
              "      <td>AMT_REQ_CREDIT_BUREAU_HOUR</td>\n",
              "      <td>1.731751</td>\n",
              "      <td>7.849423e-01</td>\n",
              "      <td>41519</td>\n",
              "    </tr>\n",
              "    <tr>\n",
              "      <th>54</th>\n",
              "      <td>AMT_REQ_CREDIT_BUREAU_DAY</td>\n",
              "      <td>10.905916</td>\n",
              "      <td>2.070873e-01</td>\n",
              "      <td>41519</td>\n",
              "    </tr>\n",
              "    <tr>\n",
              "      <th>55</th>\n",
              "      <td>AMT_REQ_CREDIT_BUREAU_WEEK</td>\n",
              "      <td>3.257560</td>\n",
              "      <td>9.171701e-01</td>\n",
              "      <td>41519</td>\n",
              "    </tr>\n",
              "    <tr>\n",
              "      <th>56</th>\n",
              "      <td>AMT_REQ_CREDIT_BUREAU_MON</td>\n",
              "      <td>56.557215</td>\n",
              "      <td>1.182582e-04</td>\n",
              "      <td>41519</td>\n",
              "    </tr>\n",
              "    <tr>\n",
              "      <th>57</th>\n",
              "      <td>AMT_REQ_CREDIT_BUREAU_QRT</td>\n",
              "      <td>112.494071</td>\n",
              "      <td>1.674314e-19</td>\n",
              "      <td>41519</td>\n",
              "    </tr>\n",
              "    <tr>\n",
              "      <th>58</th>\n",
              "      <td>AMT_REQ_CREDIT_BUREAU_YEAR</td>\n",
              "      <td>147.734585</td>\n",
              "      <td>8.720141e-20</td>\n",
              "      <td>41519</td>\n",
              "    </tr>\n",
              "    <tr>\n",
              "      <th>59</th>\n",
              "      <td>TARGET</td>\n",
              "      <td>307497.525179</td>\n",
              "      <td>0.000000e+00</td>\n",
              "      <td>0</td>\n",
              "    </tr>\n",
              "  </tbody>\n",
              "</table>\n",
              "</div>"
            ],
            "text/plain": [
              "                         column     chi-square        p-value  null values\n",
              "0            NAME_CONTRACT_TYPE     293.150542   1.023515e-65            0\n",
              "1                   CODE_GENDER     920.791334  1.129022e-200            0\n",
              "2                  FLAG_OWN_CAR     146.656018   9.330994e-34            0\n",
              "3               FLAG_OWN_REALTY      11.575827   6.681470e-04            0\n",
              "4                  CNT_CHILDREN     185.451787   5.061089e-32            0\n",
              "5               NAME_TYPE_SUITE      32.825315   1.132931e-05         1292\n",
              "6              NAME_INCOME_TYPE    1253.470808  1.928146e-266            0\n",
              "7           NAME_EDUCATION_TYPE    1019.213187  2.447681e-219            0\n",
              "8            NAME_FAMILY_STATUS     504.694083  7.744842e-107            0\n",
              "9             NAME_HOUSING_TYPE     420.556190   1.099089e-88            0\n",
              "10                   FLAG_MOBIL       2.368750   1.237862e-01            0\n",
              "11               FLAG_EMP_PHONE     649.751181  2.530606e-143            0\n",
              "12              FLAG_WORK_PHONE     249.940305   2.675800e-56            0\n",
              "13             FLAG_CONT_MOBILE       0.016530   8.976990e-01            0\n",
              "14                   FLAG_PHONE     174.084004   9.489418e-40            0\n",
              "15                   FLAG_EMAIL       0.923096   3.366633e-01            0\n",
              "16              OCCUPATION_TYPE    1402.846796  3.784500e-288        96391\n",
              "17              CNT_FAM_MEMBERS     167.437323   2.730183e-27            2\n",
              "18         REGION_RATING_CLIENT    1067.192692  1.828316e-232            0\n",
              "19  REGION_RATING_CLIENT_W_CITY    1143.446338  5.055715e-249            0\n",
              "20   WEEKDAY_APPR_PROCESS_START      15.387557   1.744737e-02            0\n",
              "21      HOUR_APPR_PROCESS_START     271.527707   2.465404e-44            0\n",
              "22   REG_REGION_NOT_LIVE_REGION       9.394008   2.176958e-03            0\n",
              "23   REG_REGION_NOT_WORK_REGION      14.703127   1.258375e-04            0\n",
              "24  LIVE_REGION_NOT_WORK_REGION       2.392424   1.219245e-01            0\n",
              "25       REG_CITY_NOT_LIVE_CITY     605.481659  1.075235e-133            0\n",
              "26       REG_CITY_NOT_WORK_CITY     799.218045  7.981277e-176            0\n",
              "27      LIVE_CITY_NOT_WORK_CITY     324.864271   1.262939e-72            0\n",
              "28            ORGANIZATION_TYPE    1609.240636  5.224541e-299            0\n",
              "29           FONDKAPREMONT_MODE      16.809897   7.732982e-04       210295\n",
              "30               HOUSETYPE_MODE      27.632556   9.992328e-07       154297\n",
              "31           WALLSMATERIAL_MODE     139.235314   1.453180e-27       156341\n",
              "32          EMERGENCYSTATE_MODE      23.678150   1.138680e-06       145755\n",
              "33              FLAG_DOCUMENT_2       6.224739   1.259775e-02            0\n",
              "34              FLAG_DOCUMENT_3     604.391958  1.855748e-133            0\n",
              "35              FLAG_DOCUMENT_4       1.242490   2.649918e-01            0\n",
              "36              FLAG_DOCUMENT_5       0.021899   8.823564e-01            0\n",
              "37              FLAG_DOCUMENT_6     251.194642   1.425605e-56            0\n",
              "38              FLAG_DOCUMENT_7       0.364390   5.460784e-01            0\n",
              "39              FLAG_DOCUMENT_8      19.772100   8.724696e-06            0\n",
              "40              FLAG_DOCUMENT_9       5.571672   1.825333e-02            0\n",
              "41             FLAG_DOCUMENT_10       0.008159   9.280282e-01            0\n",
              "42             FLAG_DOCUMENT_11       5.254677   2.188786e-02            0\n",
              "43             FLAG_DOCUMENT_12       0.772194   3.795391e-01            0\n",
              "44             FLAG_DOCUMENT_13      40.544766   1.921626e-10            0\n",
              "45             FLAG_DOCUMENT_14      26.903604   2.138598e-07            0\n",
              "46             FLAG_DOCUMENT_15      12.454144   4.170655e-04            0\n",
              "47             FLAG_DOCUMENT_16      41.054496   1.480432e-10            0\n",
              "48             FLAG_DOCUMENT_17       2.789807   9.486563e-02            0\n",
              "49             FLAG_DOCUMENT_18      19.123403   1.225331e-05            0\n",
              "50             FLAG_DOCUMENT_19       0.380782   5.371848e-01            0\n",
              "51             FLAG_DOCUMENT_20       0.000759   9.780256e-01            0\n",
              "52             FLAG_DOCUMENT_21       3.518213   6.069787e-02            0\n",
              "53   AMT_REQ_CREDIT_BUREAU_HOUR       1.731751   7.849423e-01        41519\n",
              "54    AMT_REQ_CREDIT_BUREAU_DAY      10.905916   2.070873e-01        41519\n",
              "55   AMT_REQ_CREDIT_BUREAU_WEEK       3.257560   9.171701e-01        41519\n",
              "56    AMT_REQ_CREDIT_BUREAU_MON      56.557215   1.182582e-04        41519\n",
              "57    AMT_REQ_CREDIT_BUREAU_QRT     112.494071   1.674314e-19        41519\n",
              "58   AMT_REQ_CREDIT_BUREAU_YEAR     147.734585   8.720141e-20        41519\n",
              "59                       TARGET  307497.525179   0.000000e+00            0"
            ]
          },
          "metadata": {
            "tags": []
          },
          "execution_count": 70
        }
      ]
    },
    {
      "cell_type": "markdown",
      "metadata": {
        "id": "W--m0C4RJWf5",
        "colab_type": "text"
      },
      "source": [
        "The above dataframe contains each column's chi-square statistic, as well as the number of NULL values in that column."
      ]
    },
    {
      "cell_type": "markdown",
      "metadata": {
        "id": "Z_cIhLCoOLfq",
        "colab_type": "text"
      },
      "source": [
        "The chi-square test is used to evaluate statistical signifcance of categorical features in predicting categorical target. As we can see, the chi-square values are very widely spread."
      ]
    },
    {
      "cell_type": "code",
      "metadata": {
        "id": "Ok4V5q6xNaJs",
        "colab_type": "code",
        "colab": {}
      },
      "source": [
        "df_categorical_chi_square.sort_values('chi-square', ascending=False)"
      ],
      "execution_count": null,
      "outputs": []
    },
    {
      "cell_type": "markdown",
      "metadata": {
        "id": "I47MT-SoJ-an",
        "colab_type": "text"
      },
      "source": [
        "Lets sort by number of NULL values."
      ]
    },
    {
      "cell_type": "code",
      "metadata": {
        "id": "BRSs7j4yKG8i",
        "colab_type": "code",
        "colab": {}
      },
      "source": [
        "df_categorical_chi_square.sort_values('null values', ascending=False)"
      ],
      "execution_count": null,
      "outputs": []
    },
    {
      "cell_type": "markdown",
      "metadata": {
        "id": "SjaenPMATUJy",
        "colab_type": "text"
      },
      "source": [
        "Lets plot the chi-square values to get a better understanding of the dataset."
      ]
    },
    {
      "cell_type": "code",
      "metadata": {
        "id": "l7QewxECAM83",
        "colab_type": "code",
        "colab": {
          "base_uri": "https://localhost:8080/",
          "height": 599
        },
        "outputId": "fa9bc6a9-658d-44d0-fade-1bb9c17fffce"
      },
      "source": [
        "plt.rcParams['figure.figsize'] = (14,8)\n",
        "df_categorical_chi_square.iloc[0:12,:].plot(x='column', y='chi-square', marker = 'o', color='blue', linestyle=\"--\")\n",
        "plt.xticks(range(12), labels=df_categorical_chi_square['column'][:12], rotation=45)\n",
        "plt.ylim(0,1700)\n",
        "plt.ylabel(\"Chi-square value\")"
      ],
      "execution_count": null,
      "outputs": [
        {
          "output_type": "execute_result",
          "data": {
            "text/plain": [
              "Text(0, 0.5, 'Chi-square value')"
            ]
          },
          "metadata": {
            "tags": []
          },
          "execution_count": 46
        },
        {
          "output_type": "display_data",
          "data": {
            "image/png": "[encoded data removed]",
            "text/plain": [
              "<Figure size 1008x576 with 1 Axes>"
            ]
          },
          "metadata": {
            "tags": [],
            "needs_background": "light"
          }
        }
      ]
    },
    {
      "cell_type": "markdown",
      "metadata": {
        "id": "Gnmeof2RTeuG",
        "colab_type": "text"
      },
      "source": [
        "We see that INCOME-TYPE and EDUCATION_TYPE are signifcant predictors in determining the health of the loan. We usually expect people with more educated people to have higher income, and hence default less."
      ]
    },
    {
      "cell_type": "markdown",
      "metadata": {
        "id": "aDIFu1INArr5",
        "colab_type": "text"
      },
      "source": [
        "Here we have plotted only 12 of the categorical variables due to space constraints, to not make the plot congested. Lets plot the remaining columns, in groups of 12 each."
      ]
    },
    {
      "cell_type": "code",
      "metadata": {
        "id": "mEJAbXG0A8Ga",
        "colab_type": "code",
        "colab": {
          "base_uri": "https://localhost:8080/",
          "height": 633
        },
        "outputId": "d02be09e-8fec-4e25-96b6-7a1716fa642c"
      },
      "source": [
        "plt.rcParams['figure.figsize'] = (14,8)\n",
        "df_categorical_chi_square.iloc[12:24,:].plot(x='column', y='chi-square', marker = 'o', color='blue', linestyle=\"--\")\n",
        "plt.xticks(range(12), labels=df_categorical_chi_square['column'][12:24], rotation=45)\n",
        "plt.ylim(0,1700)\n",
        "plt.ylabel(\"Chi-square value\")"
      ],
      "execution_count": null,
      "outputs": [
        {
          "output_type": "execute_result",
          "data": {
            "text/plain": [
              "Text(0, 0.5, 'Chi-square value')"
            ]
          },
          "metadata": {
            "tags": []
          },
          "execution_count": 47
        },
        {
          "output_type": "display_data",
          "data": {
            "image/png": "[encoded data removed]",
            "text/plain": [
              "<Figure size 1008x576 with 1 Axes>"
            ]
          },
          "metadata": {
            "tags": [],
            "needs_background": "light"
          }
        }
      ]
    },
    {
      "cell_type": "markdown",
      "metadata": {
        "id": "8fVkQJmbBHVy",
        "colab_type": "text"
      },
      "source": [
        "The OCCUPATION of the client, and the rating of the region seem to be very important predictors."
      ]
    },
    {
      "cell_type": "code",
      "metadata": {
        "id": "-9Z-U3q-BSE6",
        "colab_type": "code",
        "colab": {
          "base_uri": "https://localhost:8080/",
          "height": 1000
        },
        "outputId": "143f1745-a2c4-40d1-aaf1-737341567d2d"
      },
      "source": [
        "plt.rcParams['figure.figsize'] = (16,8)\n",
        "\n",
        "df_categorical_chi_square.iloc[24:38,:].plot(x='column', y='chi-square', marker = 'o', color='blue', linestyle=\"--\")\n",
        "plt.xticks(range(12), labels=df_categorical_chi_square['column'][24:38], rotation=45)\n",
        "plt.ylim(0,1700)\n",
        "plt.ylabel(\"Chi-square value\")\n",
        "\n",
        "df_categorical_chi_square.iloc[38:52,:].plot(x='column', y='chi-square', marker = 'o', color='blue', linestyle=\"--\")\n",
        "plt.xticks(range(12), labels=df_categorical_chi_square['column'][38:52], rotation=45)\n",
        "plt.ylim(0,1700)\n",
        "plt.ylabel(\"Chi-square value\")\n",
        "\n",
        "df_categorical_chi_square.iloc[52:62,:].plot(x='column', y='chi-square', marker = 'o', color='blue', linestyle=\"--\")\n",
        "plt.xticks(range(12), labels=df_categorical_chi_square['column'][52:62], rotation=45)\n",
        "plt.ylim(0,1700)\n",
        "plt.ylabel(\"Chi-square value\")"
      ],
      "execution_count": null,
      "outputs": [
        {
          "output_type": "execute_result",
          "data": {
            "text/plain": [
              "Text(0, 0.5, 'Chi-square value')"
            ]
          },
          "metadata": {
            "tags": []
          },
          "execution_count": 51
        },
        {
          "output_type": "display_data",
          "data": {
            "image/png": "[encoded data removed]",
            "text/plain": [
              "<Figure size 1152x576 with 1 Axes>"
            ]
          },
          "metadata": {
            "tags": [],
            "needs_background": "light"
          }
        },
        {
          "output_type": "display_data",
          "data": {
            "image/png": "[encoded data removed]",
            "text/plain": [
              "<Figure size 1152x576 with 1 Axes>"
            ]
          },
          "metadata": {
            "tags": [],
            "needs_background": "light"
          }
        },
        {
          "output_type": "display_data",
          "data": {
            "image/png": "[encoded data removed]",
            "text/plain": [
              "<Figure size 1152x576 with 1 Axes>"
            ]
          },
          "metadata": {
            "tags": [],
            "needs_background": "light"
          }
        }
      ]
    },
    {
      "cell_type": "markdown",
      "metadata": {
        "id": "SOTAq96DD34D",
        "colab_type": "text"
      },
      "source": [
        "ORGANIZATION-TYPE of the client is an important predictor. Mismatch between cities of permanent residency and work seem to have some effect, but the significance is relatively small."
      ]
    },
    {
      "cell_type": "markdown",
      "metadata": {
        "id": "P59kjwaqFMjG",
        "colab_type": "text"
      },
      "source": [
        "The chi-square values of External rating columns overshoot the y-limit. Definitely, these are significant features."
      ]
    },
    {
      "cell_type": "markdown",
      "metadata": {
        "id": "ioTkeQ5-ELdc",
        "colab_type": "text"
      },
      "source": [
        "The presenting or withholding of various documents seems to be inconsequential in deciding the health of a loan. This is an interesting observation !!! Normally, we would expect good borrowers to provide all the documents, and vice-versa."
      ]
    },
    {
      "cell_type": "markdown",
      "metadata": {
        "id": "Vbu2oO4pElQW",
        "colab_type": "text"
      },
      "source": [
        "From the above plots, we can have an idea about which columns to drop if they contain large number of nulls. Lets again take a look at the number of NULL values."
      ]
    },
    {
      "cell_type": "markdown",
      "metadata": {
        "id": "PJC_BkE7_TwL",
        "colab_type": "text"
      },
      "source": [
        "Take a look at the 15 columns with the largest number of NULL values"
      ]
    },
    {
      "cell_type": "code",
      "metadata": {
        "id": "xAh0UObo_FIz",
        "colab_type": "code",
        "colab": {
          "base_uri": "https://localhost:8080/",
          "height": 498
        },
        "outputId": "96c425e5-fb98-44be-8628-7f8623951c75"
      },
      "source": [
        "df_categorical_chi_square.sort_values('null values', ascending=False).iloc[:15,:]"
      ],
      "execution_count": null,
      "outputs": [
        {
          "output_type": "execute_result",
          "data": {
            "text/html": [
              "<div>\n",
              "<style scoped>\n",
              "    .dataframe tbody tr th:only-of-type {\n",
              "        vertical-align: middle;\n",
              "    }\n",
              "\n",
              "    .dataframe tbody tr th {\n",
              "        vertical-align: top;\n",
              "    }\n",
              "\n",
              "    .dataframe thead th {\n",
              "        text-align: right;\n",
              "    }\n",
              "</style>\n",
              "<table border=\"1\" class=\"dataframe\">\n",
              "  <thead>\n",
              "    <tr style=\"text-align: right;\">\n",
              "      <th></th>\n",
              "      <th>column</th>\n",
              "      <th>chi-square</th>\n",
              "      <th>p-value</th>\n",
              "      <th>null values</th>\n",
              "    </tr>\n",
              "  </thead>\n",
              "  <tbody>\n",
              "    <tr>\n",
              "      <th>29</th>\n",
              "      <td>FONDKAPREMONT_MODE</td>\n",
              "      <td>16.809897</td>\n",
              "      <td>7.732982e-04</td>\n",
              "      <td>210295</td>\n",
              "    </tr>\n",
              "    <tr>\n",
              "      <th>31</th>\n",
              "      <td>WALLSMATERIAL_MODE</td>\n",
              "      <td>139.235314</td>\n",
              "      <td>1.453180e-27</td>\n",
              "      <td>156341</td>\n",
              "    </tr>\n",
              "    <tr>\n",
              "      <th>30</th>\n",
              "      <td>HOUSETYPE_MODE</td>\n",
              "      <td>27.632556</td>\n",
              "      <td>9.992328e-07</td>\n",
              "      <td>154297</td>\n",
              "    </tr>\n",
              "    <tr>\n",
              "      <th>32</th>\n",
              "      <td>EMERGENCYSTATE_MODE</td>\n",
              "      <td>23.678150</td>\n",
              "      <td>1.138680e-06</td>\n",
              "      <td>145755</td>\n",
              "    </tr>\n",
              "    <tr>\n",
              "      <th>16</th>\n",
              "      <td>OCCUPATION_TYPE</td>\n",
              "      <td>1402.846796</td>\n",
              "      <td>3.784500e-288</td>\n",
              "      <td>96391</td>\n",
              "    </tr>\n",
              "    <tr>\n",
              "      <th>53</th>\n",
              "      <td>AMT_REQ_CREDIT_BUREAU_HOUR</td>\n",
              "      <td>1.731751</td>\n",
              "      <td>7.849423e-01</td>\n",
              "      <td>41519</td>\n",
              "    </tr>\n",
              "    <tr>\n",
              "      <th>58</th>\n",
              "      <td>AMT_REQ_CREDIT_BUREAU_YEAR</td>\n",
              "      <td>147.734585</td>\n",
              "      <td>8.720141e-20</td>\n",
              "      <td>41519</td>\n",
              "    </tr>\n",
              "    <tr>\n",
              "      <th>57</th>\n",
              "      <td>AMT_REQ_CREDIT_BUREAU_QRT</td>\n",
              "      <td>112.494071</td>\n",
              "      <td>1.674314e-19</td>\n",
              "      <td>41519</td>\n",
              "    </tr>\n",
              "    <tr>\n",
              "      <th>56</th>\n",
              "      <td>AMT_REQ_CREDIT_BUREAU_MON</td>\n",
              "      <td>56.557215</td>\n",
              "      <td>1.182582e-04</td>\n",
              "      <td>41519</td>\n",
              "    </tr>\n",
              "    <tr>\n",
              "      <th>55</th>\n",
              "      <td>AMT_REQ_CREDIT_BUREAU_WEEK</td>\n",
              "      <td>3.257560</td>\n",
              "      <td>9.171701e-01</td>\n",
              "      <td>41519</td>\n",
              "    </tr>\n",
              "    <tr>\n",
              "      <th>54</th>\n",
              "      <td>AMT_REQ_CREDIT_BUREAU_DAY</td>\n",
              "      <td>10.905916</td>\n",
              "      <td>2.070873e-01</td>\n",
              "      <td>41519</td>\n",
              "    </tr>\n",
              "    <tr>\n",
              "      <th>5</th>\n",
              "      <td>NAME_TYPE_SUITE</td>\n",
              "      <td>32.825315</td>\n",
              "      <td>1.132931e-05</td>\n",
              "      <td>1292</td>\n",
              "    </tr>\n",
              "    <tr>\n",
              "      <th>17</th>\n",
              "      <td>CNT_FAM_MEMBERS</td>\n",
              "      <td>167.437323</td>\n",
              "      <td>2.730183e-27</td>\n",
              "      <td>2</td>\n",
              "    </tr>\n",
              "    <tr>\n",
              "      <th>52</th>\n",
              "      <td>FLAG_DOCUMENT_21</td>\n",
              "      <td>3.518213</td>\n",
              "      <td>6.069787e-02</td>\n",
              "      <td>0</td>\n",
              "    </tr>\n",
              "    <tr>\n",
              "      <th>41</th>\n",
              "      <td>FLAG_DOCUMENT_10</td>\n",
              "      <td>0.008159</td>\n",
              "      <td>9.280282e-01</td>\n",
              "      <td>0</td>\n",
              "    </tr>\n",
              "  </tbody>\n",
              "</table>\n",
              "</div>"
            ],
            "text/plain": [
              "                        column   chi-square        p-value  null values\n",
              "29          FONDKAPREMONT_MODE    16.809897   7.732982e-04       210295\n",
              "31          WALLSMATERIAL_MODE   139.235314   1.453180e-27       156341\n",
              "30              HOUSETYPE_MODE    27.632556   9.992328e-07       154297\n",
              "32         EMERGENCYSTATE_MODE    23.678150   1.138680e-06       145755\n",
              "16             OCCUPATION_TYPE  1402.846796  3.784500e-288        96391\n",
              "53  AMT_REQ_CREDIT_BUREAU_HOUR     1.731751   7.849423e-01        41519\n",
              "58  AMT_REQ_CREDIT_BUREAU_YEAR   147.734585   8.720141e-20        41519\n",
              "57   AMT_REQ_CREDIT_BUREAU_QRT   112.494071   1.674314e-19        41519\n",
              "56   AMT_REQ_CREDIT_BUREAU_MON    56.557215   1.182582e-04        41519\n",
              "55  AMT_REQ_CREDIT_BUREAU_WEEK     3.257560   9.171701e-01        41519\n",
              "54   AMT_REQ_CREDIT_BUREAU_DAY    10.905916   2.070873e-01        41519\n",
              "5              NAME_TYPE_SUITE    32.825315   1.132931e-05         1292\n",
              "17             CNT_FAM_MEMBERS   167.437323   2.730183e-27            2\n",
              "52            FLAG_DOCUMENT_21     3.518213   6.069787e-02            0\n",
              "41            FLAG_DOCUMENT_10     0.008159   9.280282e-01            0"
            ]
          },
          "metadata": {
            "tags": []
          },
          "execution_count": 80
        }
      ]
    },
    {
      "cell_type": "markdown",
      "metadata": {
        "id": "qQHSV07jAwmA",
        "colab_type": "text"
      },
      "source": [
        "***dropping columns with hig NULL values (about half the values or more are null)***"
      ]
    },
    {
      "cell_type": "code",
      "metadata": {
        "id": "qIKqZewtB3KB",
        "colab_type": "code",
        "colab": {}
      },
      "source": [
        "# listing columns with about half or more NULL values\n",
        "\n",
        "list_high_null_categorical = ['FONDKAPREMONT_MODE','WALLSMATERIAL_MODE','HOUSETYPE_MODE','EMERGENCYSTATE_MODE']"
      ],
      "execution_count": null,
      "outputs": []
    },
    {
      "cell_type": "code",
      "metadata": {
        "id": "lhl1KGKXDSL6",
        "colab_type": "code",
        "colab": {}
      },
      "source": [
        "# dropping those columns\n",
        "df_categorical = df_categorical.drop(list_high_null_categorical, axis=1)"
      ],
      "execution_count": null,
      "outputs": []
    },
    {
      "cell_type": "markdown",
      "metadata": {
        "id": "rxEWgYj4DaIm",
        "colab_type": "text"
      },
      "source": [
        "Lets now impute the remaining with the most frequent values"
      ]
    },
    {
      "cell_type": "code",
      "metadata": {
        "id": "d2s8mj1JDgZf",
        "colab_type": "code",
        "colab": {}
      },
      "source": [
        "# using imputation with SimpleImputer is going into infinite loop due to some reason. \n",
        "# we will impute values manually"
      ],
      "execution_count": null,
      "outputs": []
    },
    {
      "cell_type": "code",
      "metadata": {
        "id": "2377lrhYJaec",
        "colab_type": "code",
        "colab": {}
      },
      "source": [
        "df_categorical = df_categorical.drop('TARGET', axis=1)"
      ],
      "execution_count": null,
      "outputs": []
    },
    {
      "cell_type": "code",
      "metadata": {
        "id": "8XOoc65VIo_7",
        "colab_type": "code",
        "colab": {
          "base_uri": "https://localhost:8080/",
          "height": 1000
        },
        "outputId": "a0512c1d-8f2c-42e7-f550-68cf928f3bef"
      },
      "source": [
        "categorical = list(df_categorical.columns)\n",
        "categorical"
      ],
      "execution_count": null,
      "outputs": [
        {
          "output_type": "execute_result",
          "data": {
            "text/plain": [
              "['NAME_CONTRACT_TYPE',\n",
              " 'CODE_GENDER',\n",
              " 'FLAG_OWN_CAR',\n",
              " 'FLAG_OWN_REALTY',\n",
              " 'CNT_CHILDREN',\n",
              " 'NAME_TYPE_SUITE',\n",
              " 'NAME_INCOME_TYPE',\n",
              " 'NAME_EDUCATION_TYPE',\n",
              " 'NAME_FAMILY_STATUS',\n",
              " 'NAME_HOUSING_TYPE',\n",
              " 'FLAG_MOBIL',\n",
              " 'FLAG_EMP_PHONE',\n",
              " 'FLAG_WORK_PHONE',\n",
              " 'FLAG_CONT_MOBILE',\n",
              " 'FLAG_PHONE',\n",
              " 'FLAG_EMAIL',\n",
              " 'OCCUPATION_TYPE',\n",
              " 'CNT_FAM_MEMBERS',\n",
              " 'REGION_RATING_CLIENT',\n",
              " 'REGION_RATING_CLIENT_W_CITY',\n",
              " 'WEEKDAY_APPR_PROCESS_START',\n",
              " 'HOUR_APPR_PROCESS_START',\n",
              " 'REG_REGION_NOT_LIVE_REGION',\n",
              " 'REG_REGION_NOT_WORK_REGION',\n",
              " 'LIVE_REGION_NOT_WORK_REGION',\n",
              " 'REG_CITY_NOT_LIVE_CITY',\n",
              " 'REG_CITY_NOT_WORK_CITY',\n",
              " 'LIVE_CITY_NOT_WORK_CITY',\n",
              " 'ORGANIZATION_TYPE',\n",
              " 'FONDKAPREMONT_MODE',\n",
              " 'HOUSETYPE_MODE',\n",
              " 'WALLSMATERIAL_MODE',\n",
              " 'EMERGENCYSTATE_MODE',\n",
              " 'FLAG_DOCUMENT_2',\n",
              " 'FLAG_DOCUMENT_3',\n",
              " 'FLAG_DOCUMENT_4',\n",
              " 'FLAG_DOCUMENT_5',\n",
              " 'FLAG_DOCUMENT_6',\n",
              " 'FLAG_DOCUMENT_7',\n",
              " 'FLAG_DOCUMENT_8',\n",
              " 'FLAG_DOCUMENT_9',\n",
              " 'FLAG_DOCUMENT_10',\n",
              " 'FLAG_DOCUMENT_11',\n",
              " 'FLAG_DOCUMENT_12',\n",
              " 'FLAG_DOCUMENT_13',\n",
              " 'FLAG_DOCUMENT_14',\n",
              " 'FLAG_DOCUMENT_15',\n",
              " 'FLAG_DOCUMENT_16',\n",
              " 'FLAG_DOCUMENT_17',\n",
              " 'FLAG_DOCUMENT_18',\n",
              " 'FLAG_DOCUMENT_19',\n",
              " 'FLAG_DOCUMENT_20',\n",
              " 'FLAG_DOCUMENT_21',\n",
              " 'AMT_REQ_CREDIT_BUREAU_HOUR',\n",
              " 'AMT_REQ_CREDIT_BUREAU_DAY',\n",
              " 'AMT_REQ_CREDIT_BUREAU_WEEK',\n",
              " 'AMT_REQ_CREDIT_BUREAU_MON',\n",
              " 'AMT_REQ_CREDIT_BUREAU_QRT',\n",
              " 'AMT_REQ_CREDIT_BUREAU_YEAR']"
            ]
          },
          "metadata": {
            "tags": []
          },
          "execution_count": 58
        }
      ]
    },
    {
      "cell_type": "code",
      "metadata": {
        "id": "nDuO0YD241tF",
        "colab_type": "code",
        "colab": {
          "base_uri": "https://localhost:8080/",
          "height": 35
        },
        "outputId": "0ea8e056-950a-4c46-cace-c008f92b42b2"
      },
      "source": [
        "# defining function for NULL removal\n",
        "\n",
        "'''def remove_NULL_category(column):\n",
        "    column_mode = column.value_counts()[0]\n",
        "    return column.fillna(column_mode)    '''"
      ],
      "execution_count": null,
      "outputs": [
        {
          "output_type": "execute_result",
          "data": {
            "text/plain": [
              "'def remove_NULL_category(column):\\n  column_mode = column.value_counts()[0]\\n  return column.fillna(column_mode)    '"
            ]
          },
          "metadata": {
            "tags": []
          },
          "execution_count": 105
        }
      ]
    },
    {
      "cell_type": "code",
      "metadata": {
        "id": "RJ8dT_vJHyy9",
        "colab_type": "code",
        "colab": {}
      },
      "source": [
        "# imputing al NULL values in categorical columns with the MODE of that column\n",
        "# loop to apply fillna() on all columns of df_categorical\n",
        "\n",
        "for col in list(df_categorical.columns):\n",
        "  col_mode = df_categorical[col].value_counts().idxmax()\n",
        "  df_categorical[col] = df_categorical[col].fillna(col_mode)"
      ],
      "execution_count": null,
      "outputs": []
    },
    {
      "cell_type": "code",
      "metadata": {
        "id": "DaE5W3xRKLQb",
        "colab_type": "code",
        "colab": {
          "base_uri": "https://localhost:8080/",
          "height": 35
        },
        "outputId": "8fb97cf2-dbe1-4265-f453-8349e65d7b59"
      },
      "source": [
        "(df_categorical.isnull().sum() > 0).sum()"
      ],
      "execution_count": null,
      "outputs": [
        {
          "output_type": "execute_result",
          "data": {
            "text/plain": [
              "0"
            ]
          },
          "metadata": {
            "tags": []
          },
          "execution_count": 117
        }
      ]
    },
    {
      "cell_type": "markdown",
      "metadata": {
        "id": "QEiAEi_b-kU9",
        "colab_type": "text"
      },
      "source": [
        "# Voila ! All NULLs have been removed"
      ]
    },
    {
      "cell_type": "code",
      "metadata": {
        "id": "Z5qeSc8cAUda",
        "colab_type": "code",
        "colab": {
          "base_uri": "https://localhost:8080/",
          "height": 399
        },
        "outputId": "d875a32b-fa03-4a62-8980-f81b3bde93b3"
      },
      "source": [
        "df_categorical.columns"
      ],
      "execution_count": null,
      "outputs": [
        {
          "output_type": "execute_result",
          "data": {
            "text/plain": [
              "Index(['NAME_CONTRACT_TYPE', 'CODE_GENDER', 'FLAG_OWN_CAR', 'FLAG_OWN_REALTY',\n",
              "       'CNT_CHILDREN', 'NAME_TYPE_SUITE', 'NAME_INCOME_TYPE',\n",
              "       'NAME_EDUCATION_TYPE', 'NAME_FAMILY_STATUS', 'NAME_HOUSING_TYPE',\n",
              "       'FLAG_MOBIL', 'FLAG_EMP_PHONE', 'FLAG_WORK_PHONE', 'FLAG_CONT_MOBILE',\n",
              "       'FLAG_PHONE', 'FLAG_EMAIL', 'OCCUPATION_TYPE', 'CNT_FAM_MEMBERS',\n",
              "       'REGION_RATING_CLIENT', 'REGION_RATING_CLIENT_W_CITY',\n",
              "       'WEEKDAY_APPR_PROCESS_START', 'HOUR_APPR_PROCESS_START',\n",
              "       'REG_REGION_NOT_LIVE_REGION', 'REG_REGION_NOT_WORK_REGION',\n",
              "       'LIVE_REGION_NOT_WORK_REGION', 'REG_CITY_NOT_LIVE_CITY',\n",
              "       'REG_CITY_NOT_WORK_CITY', 'LIVE_CITY_NOT_WORK_CITY',\n",
              "       'ORGANIZATION_TYPE', 'FLAG_DOCUMENT_2', 'FLAG_DOCUMENT_3',\n",
              "       'FLAG_DOCUMENT_4', 'FLAG_DOCUMENT_5', 'FLAG_DOCUMENT_6',\n",
              "       'FLAG_DOCUMENT_7', 'FLAG_DOCUMENT_8', 'FLAG_DOCUMENT_9',\n",
              "       'FLAG_DOCUMENT_10', 'FLAG_DOCUMENT_11', 'FLAG_DOCUMENT_12',\n",
              "       'FLAG_DOCUMENT_13', 'FLAG_DOCUMENT_14', 'FLAG_DOCUMENT_15',\n",
              "       'FLAG_DOCUMENT_16', 'FLAG_DOCUMENT_17', 'FLAG_DOCUMENT_18',\n",
              "       'FLAG_DOCUMENT_19', 'FLAG_DOCUMENT_20', 'FLAG_DOCUMENT_21',\n",
              "       'AMT_REQ_CREDIT_BUREAU_HOUR', 'AMT_REQ_CREDIT_BUREAU_DAY',\n",
              "       'AMT_REQ_CREDIT_BUREAU_WEEK', 'AMT_REQ_CREDIT_BUREAU_MON',\n",
              "       'AMT_REQ_CREDIT_BUREAU_QRT', 'AMT_REQ_CREDIT_BUREAU_YEAR', 'TARGET'],\n",
              "      dtype='object')"
            ]
          },
          "metadata": {
            "tags": []
          },
          "execution_count": 110
        }
      ]
    },
    {
      "cell_type": "code",
      "metadata": {
        "id": "8wdV7EZW-8o5",
        "colab_type": "code",
        "colab": {
          "base_uri": "https://localhost:8080/",
          "height": 90
        },
        "outputId": "9b4491cf-7dd8-4562-b489-ad1e41e687d1"
      },
      "source": [
        "df['CODE_GENDER'].value_counts()"
      ],
      "execution_count": null,
      "outputs": [
        {
          "output_type": "execute_result",
          "data": {
            "text/plain": [
              "F      202448\n",
              "M      105059\n",
              "XNA         4\n",
              "Name: CODE_GENDER, dtype: int64"
            ]
          },
          "metadata": {
            "tags": []
          },
          "execution_count": 56
        }
      ]
    },
    {
      "cell_type": "code",
      "metadata": {
        "id": "3ceakFWJABOc",
        "colab_type": "code",
        "colab": {}
      },
      "source": [
        "# lets convert the dataframe to one with Dummy variables, i.e., lets do \"one-hot\" encoding\n",
        "df_cat_dummies = pd.get_dummies(df_categorical, drop_first=True)\n"
      ],
      "execution_count": null,
      "outputs": []
    },
    {
      "cell_type": "code",
      "metadata": {
        "id": "O2v6deI-Tgjb",
        "colab_type": "code",
        "colab": {
          "base_uri": "https://localhost:8080/",
          "height": 445
        },
        "outputId": "7b53ed3a-4dfb-4e50-98f7-dd3e31b9708a"
      },
      "source": [
        "df_categorical.isnull"
      ],
      "execution_count": null,
      "outputs": [
        {
          "output_type": "execute_result",
          "data": {
            "text/html": [
              "<div>\n",
              "<style scoped>\n",
              "    .dataframe tbody tr th:only-of-type {\n",
              "        vertical-align: middle;\n",
              "    }\n",
              "\n",
              "    .dataframe tbody tr th {\n",
              "        vertical-align: top;\n",
              "    }\n",
              "\n",
              "    .dataframe thead th {\n",
              "        text-align: right;\n",
              "    }\n",
              "</style>\n",
              "<table border=\"1\" class=\"dataframe\">\n",
              "  <thead>\n",
              "    <tr style=\"text-align: right;\">\n",
              "      <th></th>\n",
              "      <th>NAME_CONTRACT_TYPE_Revolving loans</th>\n",
              "      <th>CODE_GENDER_M</th>\n",
              "      <th>CODE_GENDER_XNA</th>\n",
              "      <th>FLAG_OWN_CAR_Y</th>\n",
              "      <th>FLAG_OWN_REALTY_Y</th>\n",
              "      <th>CNT_CHILDREN_1</th>\n",
              "      <th>CNT_CHILDREN_2</th>\n",
              "      <th>CNT_CHILDREN_3</th>\n",
              "      <th>CNT_CHILDREN_4</th>\n",
              "      <th>CNT_CHILDREN_5</th>\n",
              "      <th>CNT_CHILDREN_6</th>\n",
              "      <th>CNT_CHILDREN_7</th>\n",
              "      <th>CNT_CHILDREN_8</th>\n",
              "      <th>CNT_CHILDREN_9</th>\n",
              "      <th>CNT_CHILDREN_10</th>\n",
              "      <th>CNT_CHILDREN_11</th>\n",
              "      <th>CNT_CHILDREN_12</th>\n",
              "      <th>CNT_CHILDREN_14</th>\n",
              "      <th>CNT_CHILDREN_19</th>\n",
              "      <th>NAME_TYPE_SUITE_Family</th>\n",
              "      <th>NAME_TYPE_SUITE_Group of people</th>\n",
              "      <th>NAME_TYPE_SUITE_Other_A</th>\n",
              "      <th>NAME_TYPE_SUITE_Other_B</th>\n",
              "      <th>NAME_TYPE_SUITE_Spouse, partner</th>\n",
              "      <th>NAME_TYPE_SUITE_Unaccompanied</th>\n",
              "      <th>NAME_INCOME_TYPE_Commercial associate</th>\n",
              "      <th>NAME_INCOME_TYPE_Maternity leave</th>\n",
              "      <th>NAME_INCOME_TYPE_Pensioner</th>\n",
              "      <th>NAME_INCOME_TYPE_State servant</th>\n",
              "      <th>NAME_INCOME_TYPE_Student</th>\n",
              "      <th>NAME_INCOME_TYPE_Unemployed</th>\n",
              "      <th>NAME_INCOME_TYPE_Working</th>\n",
              "      <th>NAME_EDUCATION_TYPE_Higher education</th>\n",
              "      <th>NAME_EDUCATION_TYPE_Incomplete higher</th>\n",
              "      <th>NAME_EDUCATION_TYPE_Lower secondary</th>\n",
              "      <th>NAME_EDUCATION_TYPE_Secondary / secondary special</th>\n",
              "      <th>NAME_FAMILY_STATUS_Married</th>\n",
              "      <th>NAME_FAMILY_STATUS_Separated</th>\n",
              "      <th>NAME_FAMILY_STATUS_Single / not married</th>\n",
              "      <th>NAME_FAMILY_STATUS_Unknown</th>\n",
              "      <th>...</th>\n",
              "      <th>AMT_REQ_CREDIT_BUREAU_MON_18.0</th>\n",
              "      <th>AMT_REQ_CREDIT_BUREAU_MON_19.0</th>\n",
              "      <th>AMT_REQ_CREDIT_BUREAU_MON_22.0</th>\n",
              "      <th>AMT_REQ_CREDIT_BUREAU_MON_23.0</th>\n",
              "      <th>AMT_REQ_CREDIT_BUREAU_MON_24.0</th>\n",
              "      <th>AMT_REQ_CREDIT_BUREAU_MON_27.0</th>\n",
              "      <th>AMT_REQ_CREDIT_BUREAU_QRT_1.0</th>\n",
              "      <th>AMT_REQ_CREDIT_BUREAU_QRT_2.0</th>\n",
              "      <th>AMT_REQ_CREDIT_BUREAU_QRT_3.0</th>\n",
              "      <th>AMT_REQ_CREDIT_BUREAU_QRT_4.0</th>\n",
              "      <th>AMT_REQ_CREDIT_BUREAU_QRT_5.0</th>\n",
              "      <th>AMT_REQ_CREDIT_BUREAU_QRT_6.0</th>\n",
              "      <th>AMT_REQ_CREDIT_BUREAU_QRT_7.0</th>\n",
              "      <th>AMT_REQ_CREDIT_BUREAU_QRT_8.0</th>\n",
              "      <th>AMT_REQ_CREDIT_BUREAU_QRT_19.0</th>\n",
              "      <th>AMT_REQ_CREDIT_BUREAU_QRT_261.0</th>\n",
              "      <th>AMT_REQ_CREDIT_BUREAU_YEAR_1.0</th>\n",
              "      <th>AMT_REQ_CREDIT_BUREAU_YEAR_2.0</th>\n",
              "      <th>AMT_REQ_CREDIT_BUREAU_YEAR_3.0</th>\n",
              "      <th>AMT_REQ_CREDIT_BUREAU_YEAR_4.0</th>\n",
              "      <th>AMT_REQ_CREDIT_BUREAU_YEAR_5.0</th>\n",
              "      <th>AMT_REQ_CREDIT_BUREAU_YEAR_6.0</th>\n",
              "      <th>AMT_REQ_CREDIT_BUREAU_YEAR_7.0</th>\n",
              "      <th>AMT_REQ_CREDIT_BUREAU_YEAR_8.0</th>\n",
              "      <th>AMT_REQ_CREDIT_BUREAU_YEAR_9.0</th>\n",
              "      <th>AMT_REQ_CREDIT_BUREAU_YEAR_10.0</th>\n",
              "      <th>AMT_REQ_CREDIT_BUREAU_YEAR_11.0</th>\n",
              "      <th>AMT_REQ_CREDIT_BUREAU_YEAR_12.0</th>\n",
              "      <th>AMT_REQ_CREDIT_BUREAU_YEAR_13.0</th>\n",
              "      <th>AMT_REQ_CREDIT_BUREAU_YEAR_14.0</th>\n",
              "      <th>AMT_REQ_CREDIT_BUREAU_YEAR_15.0</th>\n",
              "      <th>AMT_REQ_CREDIT_BUREAU_YEAR_16.0</th>\n",
              "      <th>AMT_REQ_CREDIT_BUREAU_YEAR_17.0</th>\n",
              "      <th>AMT_REQ_CREDIT_BUREAU_YEAR_18.0</th>\n",
              "      <th>AMT_REQ_CREDIT_BUREAU_YEAR_19.0</th>\n",
              "      <th>AMT_REQ_CREDIT_BUREAU_YEAR_20.0</th>\n",
              "      <th>AMT_REQ_CREDIT_BUREAU_YEAR_21.0</th>\n",
              "      <th>AMT_REQ_CREDIT_BUREAU_YEAR_22.0</th>\n",
              "      <th>AMT_REQ_CREDIT_BUREAU_YEAR_23.0</th>\n",
              "      <th>AMT_REQ_CREDIT_BUREAU_YEAR_25.0</th>\n",
              "    </tr>\n",
              "  </thead>\n",
              "  <tbody>\n",
              "    <tr>\n",
              "      <th>0</th>\n",
              "      <td>0</td>\n",
              "      <td>1</td>\n",
              "      <td>0</td>\n",
              "      <td>0</td>\n",
              "      <td>1</td>\n",
              "      <td>0</td>\n",
              "      <td>0</td>\n",
              "      <td>0</td>\n",
              "      <td>0</td>\n",
              "      <td>0</td>\n",
              "      <td>0</td>\n",
              "      <td>0</td>\n",
              "      <td>0</td>\n",
              "      <td>0</td>\n",
              "      <td>0</td>\n",
              "      <td>0</td>\n",
              "      <td>0</td>\n",
              "      <td>0</td>\n",
              "      <td>0</td>\n",
              "      <td>0</td>\n",
              "      <td>0</td>\n",
              "      <td>0</td>\n",
              "      <td>0</td>\n",
              "      <td>0</td>\n",
              "      <td>1</td>\n",
              "      <td>0</td>\n",
              "      <td>0</td>\n",
              "      <td>0</td>\n",
              "      <td>0</td>\n",
              "      <td>0</td>\n",
              "      <td>0</td>\n",
              "      <td>1</td>\n",
              "      <td>0</td>\n",
              "      <td>0</td>\n",
              "      <td>0</td>\n",
              "      <td>1</td>\n",
              "      <td>0</td>\n",
              "      <td>0</td>\n",
              "      <td>1</td>\n",
              "      <td>0</td>\n",
              "      <td>...</td>\n",
              "      <td>0</td>\n",
              "      <td>0</td>\n",
              "      <td>0</td>\n",
              "      <td>0</td>\n",
              "      <td>0</td>\n",
              "      <td>0</td>\n",
              "      <td>0</td>\n",
              "      <td>0</td>\n",
              "      <td>0</td>\n",
              "      <td>0</td>\n",
              "      <td>0</td>\n",
              "      <td>0</td>\n",
              "      <td>0</td>\n",
              "      <td>0</td>\n",
              "      <td>0</td>\n",
              "      <td>0</td>\n",
              "      <td>1</td>\n",
              "      <td>0</td>\n",
              "      <td>0</td>\n",
              "      <td>0</td>\n",
              "      <td>0</td>\n",
              "      <td>0</td>\n",
              "      <td>0</td>\n",
              "      <td>0</td>\n",
              "      <td>0</td>\n",
              "      <td>0</td>\n",
              "      <td>0</td>\n",
              "      <td>0</td>\n",
              "      <td>0</td>\n",
              "      <td>0</td>\n",
              "      <td>0</td>\n",
              "      <td>0</td>\n",
              "      <td>0</td>\n",
              "      <td>0</td>\n",
              "      <td>0</td>\n",
              "      <td>0</td>\n",
              "      <td>0</td>\n",
              "      <td>0</td>\n",
              "      <td>0</td>\n",
              "      <td>0</td>\n",
              "    </tr>\n",
              "    <tr>\n",
              "      <th>1</th>\n",
              "      <td>0</td>\n",
              "      <td>0</td>\n",
              "      <td>0</td>\n",
              "      <td>0</td>\n",
              "      <td>0</td>\n",
              "      <td>0</td>\n",
              "      <td>0</td>\n",
              "      <td>0</td>\n",
              "      <td>0</td>\n",
              "      <td>0</td>\n",
              "      <td>0</td>\n",
              "      <td>0</td>\n",
              "      <td>0</td>\n",
              "      <td>0</td>\n",
              "      <td>0</td>\n",
              "      <td>0</td>\n",
              "      <td>0</td>\n",
              "      <td>0</td>\n",
              "      <td>0</td>\n",
              "      <td>1</td>\n",
              "      <td>0</td>\n",
              "      <td>0</td>\n",
              "      <td>0</td>\n",
              "      <td>0</td>\n",
              "      <td>0</td>\n",
              "      <td>0</td>\n",
              "      <td>0</td>\n",
              "      <td>0</td>\n",
              "      <td>1</td>\n",
              "      <td>0</td>\n",
              "      <td>0</td>\n",
              "      <td>0</td>\n",
              "      <td>1</td>\n",
              "      <td>0</td>\n",
              "      <td>0</td>\n",
              "      <td>0</td>\n",
              "      <td>1</td>\n",
              "      <td>0</td>\n",
              "      <td>0</td>\n",
              "      <td>0</td>\n",
              "      <td>...</td>\n",
              "      <td>0</td>\n",
              "      <td>0</td>\n",
              "      <td>0</td>\n",
              "      <td>0</td>\n",
              "      <td>0</td>\n",
              "      <td>0</td>\n",
              "      <td>0</td>\n",
              "      <td>0</td>\n",
              "      <td>0</td>\n",
              "      <td>0</td>\n",
              "      <td>0</td>\n",
              "      <td>0</td>\n",
              "      <td>0</td>\n",
              "      <td>0</td>\n",
              "      <td>0</td>\n",
              "      <td>0</td>\n",
              "      <td>0</td>\n",
              "      <td>0</td>\n",
              "      <td>0</td>\n",
              "      <td>0</td>\n",
              "      <td>0</td>\n",
              "      <td>0</td>\n",
              "      <td>0</td>\n",
              "      <td>0</td>\n",
              "      <td>0</td>\n",
              "      <td>0</td>\n",
              "      <td>0</td>\n",
              "      <td>0</td>\n",
              "      <td>0</td>\n",
              "      <td>0</td>\n",
              "      <td>0</td>\n",
              "      <td>0</td>\n",
              "      <td>0</td>\n",
              "      <td>0</td>\n",
              "      <td>0</td>\n",
              "      <td>0</td>\n",
              "      <td>0</td>\n",
              "      <td>0</td>\n",
              "      <td>0</td>\n",
              "      <td>0</td>\n",
              "    </tr>\n",
              "    <tr>\n",
              "      <th>2</th>\n",
              "      <td>1</td>\n",
              "      <td>1</td>\n",
              "      <td>0</td>\n",
              "      <td>1</td>\n",
              "      <td>1</td>\n",
              "      <td>0</td>\n",
              "      <td>0</td>\n",
              "      <td>0</td>\n",
              "      <td>0</td>\n",
              "      <td>0</td>\n",
              "      <td>0</td>\n",
              "      <td>0</td>\n",
              "      <td>0</td>\n",
              "      <td>0</td>\n",
              "      <td>0</td>\n",
              "      <td>0</td>\n",
              "      <td>0</td>\n",
              "      <td>0</td>\n",
              "      <td>0</td>\n",
              "      <td>0</td>\n",
              "      <td>0</td>\n",
              "      <td>0</td>\n",
              "      <td>0</td>\n",
              "      <td>0</td>\n",
              "      <td>1</td>\n",
              "      <td>0</td>\n",
              "      <td>0</td>\n",
              "      <td>0</td>\n",
              "      <td>0</td>\n",
              "      <td>0</td>\n",
              "      <td>0</td>\n",
              "      <td>1</td>\n",
              "      <td>0</td>\n",
              "      <td>0</td>\n",
              "      <td>0</td>\n",
              "      <td>1</td>\n",
              "      <td>0</td>\n",
              "      <td>0</td>\n",
              "      <td>1</td>\n",
              "      <td>0</td>\n",
              "      <td>...</td>\n",
              "      <td>0</td>\n",
              "      <td>0</td>\n",
              "      <td>0</td>\n",
              "      <td>0</td>\n",
              "      <td>0</td>\n",
              "      <td>0</td>\n",
              "      <td>0</td>\n",
              "      <td>0</td>\n",
              "      <td>0</td>\n",
              "      <td>0</td>\n",
              "      <td>0</td>\n",
              "      <td>0</td>\n",
              "      <td>0</td>\n",
              "      <td>0</td>\n",
              "      <td>0</td>\n",
              "      <td>0</td>\n",
              "      <td>0</td>\n",
              "      <td>0</td>\n",
              "      <td>0</td>\n",
              "      <td>0</td>\n",
              "      <td>0</td>\n",
              "      <td>0</td>\n",
              "      <td>0</td>\n",
              "      <td>0</td>\n",
              "      <td>0</td>\n",
              "      <td>0</td>\n",
              "      <td>0</td>\n",
              "      <td>0</td>\n",
              "      <td>0</td>\n",
              "      <td>0</td>\n",
              "      <td>0</td>\n",
              "      <td>0</td>\n",
              "      <td>0</td>\n",
              "      <td>0</td>\n",
              "      <td>0</td>\n",
              "      <td>0</td>\n",
              "      <td>0</td>\n",
              "      <td>0</td>\n",
              "      <td>0</td>\n",
              "      <td>0</td>\n",
              "    </tr>\n",
              "    <tr>\n",
              "      <th>3</th>\n",
              "      <td>0</td>\n",
              "      <td>0</td>\n",
              "      <td>0</td>\n",
              "      <td>0</td>\n",
              "      <td>1</td>\n",
              "      <td>0</td>\n",
              "      <td>0</td>\n",
              "      <td>0</td>\n",
              "      <td>0</td>\n",
              "      <td>0</td>\n",
              "      <td>0</td>\n",
              "      <td>0</td>\n",
              "      <td>0</td>\n",
              "      <td>0</td>\n",
              "      <td>0</td>\n",
              "      <td>0</td>\n",
              "      <td>0</td>\n",
              "      <td>0</td>\n",
              "      <td>0</td>\n",
              "      <td>0</td>\n",
              "      <td>0</td>\n",
              "      <td>0</td>\n",
              "      <td>0</td>\n",
              "      <td>0</td>\n",
              "      <td>1</td>\n",
              "      <td>0</td>\n",
              "      <td>0</td>\n",
              "      <td>0</td>\n",
              "      <td>0</td>\n",
              "      <td>0</td>\n",
              "      <td>0</td>\n",
              "      <td>1</td>\n",
              "      <td>0</td>\n",
              "      <td>0</td>\n",
              "      <td>0</td>\n",
              "      <td>1</td>\n",
              "      <td>0</td>\n",
              "      <td>0</td>\n",
              "      <td>0</td>\n",
              "      <td>0</td>\n",
              "      <td>...</td>\n",
              "      <td>0</td>\n",
              "      <td>0</td>\n",
              "      <td>0</td>\n",
              "      <td>0</td>\n",
              "      <td>0</td>\n",
              "      <td>0</td>\n",
              "      <td>0</td>\n",
              "      <td>0</td>\n",
              "      <td>0</td>\n",
              "      <td>0</td>\n",
              "      <td>0</td>\n",
              "      <td>0</td>\n",
              "      <td>0</td>\n",
              "      <td>0</td>\n",
              "      <td>0</td>\n",
              "      <td>0</td>\n",
              "      <td>0</td>\n",
              "      <td>0</td>\n",
              "      <td>0</td>\n",
              "      <td>0</td>\n",
              "      <td>0</td>\n",
              "      <td>0</td>\n",
              "      <td>0</td>\n",
              "      <td>0</td>\n",
              "      <td>0</td>\n",
              "      <td>0</td>\n",
              "      <td>0</td>\n",
              "      <td>0</td>\n",
              "      <td>0</td>\n",
              "      <td>0</td>\n",
              "      <td>0</td>\n",
              "      <td>0</td>\n",
              "      <td>0</td>\n",
              "      <td>0</td>\n",
              "      <td>0</td>\n",
              "      <td>0</td>\n",
              "      <td>0</td>\n",
              "      <td>0</td>\n",
              "      <td>0</td>\n",
              "      <td>0</td>\n",
              "    </tr>\n",
              "    <tr>\n",
              "      <th>4</th>\n",
              "      <td>0</td>\n",
              "      <td>1</td>\n",
              "      <td>0</td>\n",
              "      <td>0</td>\n",
              "      <td>1</td>\n",
              "      <td>0</td>\n",
              "      <td>0</td>\n",
              "      <td>0</td>\n",
              "      <td>0</td>\n",
              "      <td>0</td>\n",
              "      <td>0</td>\n",
              "      <td>0</td>\n",
              "      <td>0</td>\n",
              "      <td>0</td>\n",
              "      <td>0</td>\n",
              "      <td>0</td>\n",
              "      <td>0</td>\n",
              "      <td>0</td>\n",
              "      <td>0</td>\n",
              "      <td>0</td>\n",
              "      <td>0</td>\n",
              "      <td>0</td>\n",
              "      <td>0</td>\n",
              "      <td>0</td>\n",
              "      <td>1</td>\n",
              "      <td>0</td>\n",
              "      <td>0</td>\n",
              "      <td>0</td>\n",
              "      <td>0</td>\n",
              "      <td>0</td>\n",
              "      <td>0</td>\n",
              "      <td>1</td>\n",
              "      <td>0</td>\n",
              "      <td>0</td>\n",
              "      <td>0</td>\n",
              "      <td>1</td>\n",
              "      <td>0</td>\n",
              "      <td>0</td>\n",
              "      <td>1</td>\n",
              "      <td>0</td>\n",
              "      <td>...</td>\n",
              "      <td>0</td>\n",
              "      <td>0</td>\n",
              "      <td>0</td>\n",
              "      <td>0</td>\n",
              "      <td>0</td>\n",
              "      <td>0</td>\n",
              "      <td>0</td>\n",
              "      <td>0</td>\n",
              "      <td>0</td>\n",
              "      <td>0</td>\n",
              "      <td>0</td>\n",
              "      <td>0</td>\n",
              "      <td>0</td>\n",
              "      <td>0</td>\n",
              "      <td>0</td>\n",
              "      <td>0</td>\n",
              "      <td>0</td>\n",
              "      <td>0</td>\n",
              "      <td>0</td>\n",
              "      <td>0</td>\n",
              "      <td>0</td>\n",
              "      <td>0</td>\n",
              "      <td>0</td>\n",
              "      <td>0</td>\n",
              "      <td>0</td>\n",
              "      <td>0</td>\n",
              "      <td>0</td>\n",
              "      <td>0</td>\n",
              "      <td>0</td>\n",
              "      <td>0</td>\n",
              "      <td>0</td>\n",
              "      <td>0</td>\n",
              "      <td>0</td>\n",
              "      <td>0</td>\n",
              "      <td>0</td>\n",
              "      <td>0</td>\n",
              "      <td>0</td>\n",
              "      <td>0</td>\n",
              "      <td>0</td>\n",
              "      <td>0</td>\n",
              "    </tr>\n",
              "    <tr>\n",
              "      <th>...</th>\n",
              "      <td>...</td>\n",
              "      <td>...</td>\n",
              "      <td>...</td>\n",
              "      <td>...</td>\n",
              "      <td>...</td>\n",
              "      <td>...</td>\n",
              "      <td>...</td>\n",
              "      <td>...</td>\n",
              "      <td>...</td>\n",
              "      <td>...</td>\n",
              "      <td>...</td>\n",
              "      <td>...</td>\n",
              "      <td>...</td>\n",
              "      <td>...</td>\n",
              "      <td>...</td>\n",
              "      <td>...</td>\n",
              "      <td>...</td>\n",
              "      <td>...</td>\n",
              "      <td>...</td>\n",
              "      <td>...</td>\n",
              "      <td>...</td>\n",
              "      <td>...</td>\n",
              "      <td>...</td>\n",
              "      <td>...</td>\n",
              "      <td>...</td>\n",
              "      <td>...</td>\n",
              "      <td>...</td>\n",
              "      <td>...</td>\n",
              "      <td>...</td>\n",
              "      <td>...</td>\n",
              "      <td>...</td>\n",
              "      <td>...</td>\n",
              "      <td>...</td>\n",
              "      <td>...</td>\n",
              "      <td>...</td>\n",
              "      <td>...</td>\n",
              "      <td>...</td>\n",
              "      <td>...</td>\n",
              "      <td>...</td>\n",
              "      <td>...</td>\n",
              "      <td>...</td>\n",
              "      <td>...</td>\n",
              "      <td>...</td>\n",
              "      <td>...</td>\n",
              "      <td>...</td>\n",
              "      <td>...</td>\n",
              "      <td>...</td>\n",
              "      <td>...</td>\n",
              "      <td>...</td>\n",
              "      <td>...</td>\n",
              "      <td>...</td>\n",
              "      <td>...</td>\n",
              "      <td>...</td>\n",
              "      <td>...</td>\n",
              "      <td>...</td>\n",
              "      <td>...</td>\n",
              "      <td>...</td>\n",
              "      <td>...</td>\n",
              "      <td>...</td>\n",
              "      <td>...</td>\n",
              "      <td>...</td>\n",
              "      <td>...</td>\n",
              "      <td>...</td>\n",
              "      <td>...</td>\n",
              "      <td>...</td>\n",
              "      <td>...</td>\n",
              "      <td>...</td>\n",
              "      <td>...</td>\n",
              "      <td>...</td>\n",
              "      <td>...</td>\n",
              "      <td>...</td>\n",
              "      <td>...</td>\n",
              "      <td>...</td>\n",
              "      <td>...</td>\n",
              "      <td>...</td>\n",
              "      <td>...</td>\n",
              "      <td>...</td>\n",
              "      <td>...</td>\n",
              "      <td>...</td>\n",
              "      <td>...</td>\n",
              "      <td>...</td>\n",
              "    </tr>\n",
              "    <tr>\n",
              "      <th>307506</th>\n",
              "      <td>0</td>\n",
              "      <td>1</td>\n",
              "      <td>0</td>\n",
              "      <td>0</td>\n",
              "      <td>0</td>\n",
              "      <td>0</td>\n",
              "      <td>0</td>\n",
              "      <td>0</td>\n",
              "      <td>0</td>\n",
              "      <td>0</td>\n",
              "      <td>0</td>\n",
              "      <td>0</td>\n",
              "      <td>0</td>\n",
              "      <td>0</td>\n",
              "      <td>0</td>\n",
              "      <td>0</td>\n",
              "      <td>0</td>\n",
              "      <td>0</td>\n",
              "      <td>0</td>\n",
              "      <td>0</td>\n",
              "      <td>0</td>\n",
              "      <td>0</td>\n",
              "      <td>0</td>\n",
              "      <td>0</td>\n",
              "      <td>1</td>\n",
              "      <td>0</td>\n",
              "      <td>0</td>\n",
              "      <td>0</td>\n",
              "      <td>0</td>\n",
              "      <td>0</td>\n",
              "      <td>0</td>\n",
              "      <td>1</td>\n",
              "      <td>0</td>\n",
              "      <td>0</td>\n",
              "      <td>0</td>\n",
              "      <td>1</td>\n",
              "      <td>0</td>\n",
              "      <td>1</td>\n",
              "      <td>0</td>\n",
              "      <td>0</td>\n",
              "      <td>...</td>\n",
              "      <td>0</td>\n",
              "      <td>0</td>\n",
              "      <td>0</td>\n",
              "      <td>0</td>\n",
              "      <td>0</td>\n",
              "      <td>0</td>\n",
              "      <td>0</td>\n",
              "      <td>0</td>\n",
              "      <td>0</td>\n",
              "      <td>0</td>\n",
              "      <td>0</td>\n",
              "      <td>0</td>\n",
              "      <td>0</td>\n",
              "      <td>0</td>\n",
              "      <td>0</td>\n",
              "      <td>0</td>\n",
              "      <td>0</td>\n",
              "      <td>0</td>\n",
              "      <td>0</td>\n",
              "      <td>0</td>\n",
              "      <td>0</td>\n",
              "      <td>0</td>\n",
              "      <td>0</td>\n",
              "      <td>0</td>\n",
              "      <td>0</td>\n",
              "      <td>0</td>\n",
              "      <td>0</td>\n",
              "      <td>0</td>\n",
              "      <td>0</td>\n",
              "      <td>0</td>\n",
              "      <td>0</td>\n",
              "      <td>0</td>\n",
              "      <td>0</td>\n",
              "      <td>0</td>\n",
              "      <td>0</td>\n",
              "      <td>0</td>\n",
              "      <td>0</td>\n",
              "      <td>0</td>\n",
              "      <td>0</td>\n",
              "      <td>0</td>\n",
              "    </tr>\n",
              "    <tr>\n",
              "      <th>307507</th>\n",
              "      <td>0</td>\n",
              "      <td>0</td>\n",
              "      <td>0</td>\n",
              "      <td>0</td>\n",
              "      <td>1</td>\n",
              "      <td>0</td>\n",
              "      <td>0</td>\n",
              "      <td>0</td>\n",
              "      <td>0</td>\n",
              "      <td>0</td>\n",
              "      <td>0</td>\n",
              "      <td>0</td>\n",
              "      <td>0</td>\n",
              "      <td>0</td>\n",
              "      <td>0</td>\n",
              "      <td>0</td>\n",
              "      <td>0</td>\n",
              "      <td>0</td>\n",
              "      <td>0</td>\n",
              "      <td>0</td>\n",
              "      <td>0</td>\n",
              "      <td>0</td>\n",
              "      <td>0</td>\n",
              "      <td>0</td>\n",
              "      <td>1</td>\n",
              "      <td>0</td>\n",
              "      <td>0</td>\n",
              "      <td>1</td>\n",
              "      <td>0</td>\n",
              "      <td>0</td>\n",
              "      <td>0</td>\n",
              "      <td>0</td>\n",
              "      <td>0</td>\n",
              "      <td>0</td>\n",
              "      <td>0</td>\n",
              "      <td>1</td>\n",
              "      <td>0</td>\n",
              "      <td>0</td>\n",
              "      <td>0</td>\n",
              "      <td>0</td>\n",
              "      <td>...</td>\n",
              "      <td>0</td>\n",
              "      <td>0</td>\n",
              "      <td>0</td>\n",
              "      <td>0</td>\n",
              "      <td>0</td>\n",
              "      <td>0</td>\n",
              "      <td>0</td>\n",
              "      <td>0</td>\n",
              "      <td>0</td>\n",
              "      <td>0</td>\n",
              "      <td>0</td>\n",
              "      <td>0</td>\n",
              "      <td>0</td>\n",
              "      <td>0</td>\n",
              "      <td>0</td>\n",
              "      <td>0</td>\n",
              "      <td>0</td>\n",
              "      <td>0</td>\n",
              "      <td>0</td>\n",
              "      <td>0</td>\n",
              "      <td>0</td>\n",
              "      <td>0</td>\n",
              "      <td>0</td>\n",
              "      <td>0</td>\n",
              "      <td>0</td>\n",
              "      <td>0</td>\n",
              "      <td>0</td>\n",
              "      <td>0</td>\n",
              "      <td>0</td>\n",
              "      <td>0</td>\n",
              "      <td>0</td>\n",
              "      <td>0</td>\n",
              "      <td>0</td>\n",
              "      <td>0</td>\n",
              "      <td>0</td>\n",
              "      <td>0</td>\n",
              "      <td>0</td>\n",
              "      <td>0</td>\n",
              "      <td>0</td>\n",
              "      <td>0</td>\n",
              "    </tr>\n",
              "    <tr>\n",
              "      <th>307508</th>\n",
              "      <td>0</td>\n",
              "      <td>0</td>\n",
              "      <td>0</td>\n",
              "      <td>0</td>\n",
              "      <td>1</td>\n",
              "      <td>0</td>\n",
              "      <td>0</td>\n",
              "      <td>0</td>\n",
              "      <td>0</td>\n",
              "      <td>0</td>\n",
              "      <td>0</td>\n",
              "      <td>0</td>\n",
              "      <td>0</td>\n",
              "      <td>0</td>\n",
              "      <td>0</td>\n",
              "      <td>0</td>\n",
              "      <td>0</td>\n",
              "      <td>0</td>\n",
              "      <td>0</td>\n",
              "      <td>0</td>\n",
              "      <td>0</td>\n",
              "      <td>0</td>\n",
              "      <td>0</td>\n",
              "      <td>0</td>\n",
              "      <td>1</td>\n",
              "      <td>0</td>\n",
              "      <td>0</td>\n",
              "      <td>0</td>\n",
              "      <td>0</td>\n",
              "      <td>0</td>\n",
              "      <td>0</td>\n",
              "      <td>1</td>\n",
              "      <td>1</td>\n",
              "      <td>0</td>\n",
              "      <td>0</td>\n",
              "      <td>0</td>\n",
              "      <td>0</td>\n",
              "      <td>1</td>\n",
              "      <td>0</td>\n",
              "      <td>0</td>\n",
              "      <td>...</td>\n",
              "      <td>0</td>\n",
              "      <td>0</td>\n",
              "      <td>0</td>\n",
              "      <td>0</td>\n",
              "      <td>0</td>\n",
              "      <td>0</td>\n",
              "      <td>0</td>\n",
              "      <td>0</td>\n",
              "      <td>0</td>\n",
              "      <td>0</td>\n",
              "      <td>0</td>\n",
              "      <td>0</td>\n",
              "      <td>0</td>\n",
              "      <td>0</td>\n",
              "      <td>0</td>\n",
              "      <td>0</td>\n",
              "      <td>1</td>\n",
              "      <td>0</td>\n",
              "      <td>0</td>\n",
              "      <td>0</td>\n",
              "      <td>0</td>\n",
              "      <td>0</td>\n",
              "      <td>0</td>\n",
              "      <td>0</td>\n",
              "      <td>0</td>\n",
              "      <td>0</td>\n",
              "      <td>0</td>\n",
              "      <td>0</td>\n",
              "      <td>0</td>\n",
              "      <td>0</td>\n",
              "      <td>0</td>\n",
              "      <td>0</td>\n",
              "      <td>0</td>\n",
              "      <td>0</td>\n",
              "      <td>0</td>\n",
              "      <td>0</td>\n",
              "      <td>0</td>\n",
              "      <td>0</td>\n",
              "      <td>0</td>\n",
              "      <td>0</td>\n",
              "    </tr>\n",
              "    <tr>\n",
              "      <th>307509</th>\n",
              "      <td>0</td>\n",
              "      <td>0</td>\n",
              "      <td>0</td>\n",
              "      <td>0</td>\n",
              "      <td>1</td>\n",
              "      <td>0</td>\n",
              "      <td>0</td>\n",
              "      <td>0</td>\n",
              "      <td>0</td>\n",
              "      <td>0</td>\n",
              "      <td>0</td>\n",
              "      <td>0</td>\n",
              "      <td>0</td>\n",
              "      <td>0</td>\n",
              "      <td>0</td>\n",
              "      <td>0</td>\n",
              "      <td>0</td>\n",
              "      <td>0</td>\n",
              "      <td>0</td>\n",
              "      <td>0</td>\n",
              "      <td>0</td>\n",
              "      <td>0</td>\n",
              "      <td>0</td>\n",
              "      <td>0</td>\n",
              "      <td>1</td>\n",
              "      <td>1</td>\n",
              "      <td>0</td>\n",
              "      <td>0</td>\n",
              "      <td>0</td>\n",
              "      <td>0</td>\n",
              "      <td>0</td>\n",
              "      <td>0</td>\n",
              "      <td>0</td>\n",
              "      <td>0</td>\n",
              "      <td>0</td>\n",
              "      <td>1</td>\n",
              "      <td>1</td>\n",
              "      <td>0</td>\n",
              "      <td>0</td>\n",
              "      <td>0</td>\n",
              "      <td>...</td>\n",
              "      <td>0</td>\n",
              "      <td>0</td>\n",
              "      <td>0</td>\n",
              "      <td>0</td>\n",
              "      <td>0</td>\n",
              "      <td>0</td>\n",
              "      <td>0</td>\n",
              "      <td>0</td>\n",
              "      <td>0</td>\n",
              "      <td>0</td>\n",
              "      <td>0</td>\n",
              "      <td>0</td>\n",
              "      <td>0</td>\n",
              "      <td>0</td>\n",
              "      <td>0</td>\n",
              "      <td>0</td>\n",
              "      <td>0</td>\n",
              "      <td>0</td>\n",
              "      <td>0</td>\n",
              "      <td>0</td>\n",
              "      <td>0</td>\n",
              "      <td>0</td>\n",
              "      <td>0</td>\n",
              "      <td>0</td>\n",
              "      <td>0</td>\n",
              "      <td>0</td>\n",
              "      <td>0</td>\n",
              "      <td>0</td>\n",
              "      <td>0</td>\n",
              "      <td>0</td>\n",
              "      <td>0</td>\n",
              "      <td>0</td>\n",
              "      <td>0</td>\n",
              "      <td>0</td>\n",
              "      <td>0</td>\n",
              "      <td>0</td>\n",
              "      <td>0</td>\n",
              "      <td>0</td>\n",
              "      <td>0</td>\n",
              "      <td>0</td>\n",
              "    </tr>\n",
              "    <tr>\n",
              "      <th>307510</th>\n",
              "      <td>0</td>\n",
              "      <td>0</td>\n",
              "      <td>0</td>\n",
              "      <td>0</td>\n",
              "      <td>0</td>\n",
              "      <td>0</td>\n",
              "      <td>0</td>\n",
              "      <td>0</td>\n",
              "      <td>0</td>\n",
              "      <td>0</td>\n",
              "      <td>0</td>\n",
              "      <td>0</td>\n",
              "      <td>0</td>\n",
              "      <td>0</td>\n",
              "      <td>0</td>\n",
              "      <td>0</td>\n",
              "      <td>0</td>\n",
              "      <td>0</td>\n",
              "      <td>0</td>\n",
              "      <td>0</td>\n",
              "      <td>0</td>\n",
              "      <td>0</td>\n",
              "      <td>0</td>\n",
              "      <td>0</td>\n",
              "      <td>1</td>\n",
              "      <td>1</td>\n",
              "      <td>0</td>\n",
              "      <td>0</td>\n",
              "      <td>0</td>\n",
              "      <td>0</td>\n",
              "      <td>0</td>\n",
              "      <td>0</td>\n",
              "      <td>1</td>\n",
              "      <td>0</td>\n",
              "      <td>0</td>\n",
              "      <td>0</td>\n",
              "      <td>1</td>\n",
              "      <td>0</td>\n",
              "      <td>0</td>\n",
              "      <td>0</td>\n",
              "      <td>...</td>\n",
              "      <td>0</td>\n",
              "      <td>0</td>\n",
              "      <td>0</td>\n",
              "      <td>0</td>\n",
              "      <td>0</td>\n",
              "      <td>0</td>\n",
              "      <td>0</td>\n",
              "      <td>0</td>\n",
              "      <td>0</td>\n",
              "      <td>0</td>\n",
              "      <td>0</td>\n",
              "      <td>0</td>\n",
              "      <td>0</td>\n",
              "      <td>0</td>\n",
              "      <td>0</td>\n",
              "      <td>0</td>\n",
              "      <td>1</td>\n",
              "      <td>0</td>\n",
              "      <td>0</td>\n",
              "      <td>0</td>\n",
              "      <td>0</td>\n",
              "      <td>0</td>\n",
              "      <td>0</td>\n",
              "      <td>0</td>\n",
              "      <td>0</td>\n",
              "      <td>0</td>\n",
              "      <td>0</td>\n",
              "      <td>0</td>\n",
              "      <td>0</td>\n",
              "      <td>0</td>\n",
              "      <td>0</td>\n",
              "      <td>0</td>\n",
              "      <td>0</td>\n",
              "      <td>0</td>\n",
              "      <td>0</td>\n",
              "      <td>0</td>\n",
              "      <td>0</td>\n",
              "      <td>0</td>\n",
              "      <td>0</td>\n",
              "      <td>0</td>\n",
              "    </tr>\n",
              "  </tbody>\n",
              "</table>\n",
              "<p>307511 rows × 290 columns</p>\n",
              "</div>"
            ],
            "text/plain": [
              "        NAME_CONTRACT_TYPE_Revolving loans  ...  AMT_REQ_CREDIT_BUREAU_YEAR_25.0\n",
              "0                                        0  ...                                0\n",
              "1                                        0  ...                                0\n",
              "2                                        1  ...                                0\n",
              "3                                        0  ...                                0\n",
              "4                                        0  ...                                0\n",
              "...                                    ...  ...                              ...\n",
              "307506                                   0  ...                                0\n",
              "307507                                   0  ...                                0\n",
              "307508                                   0  ...                                0\n",
              "307509                                   0  ...                                0\n",
              "307510                                   0  ...                                0\n",
              "\n",
              "[307511 rows x 290 columns]"
            ]
          },
          "metadata": {
            "tags": []
          },
          "execution_count": 116
        }
      ]
    },
    {
      "cell_type": "markdown",
      "metadata": {
        "id": "C0_dkmi-FwWK",
        "colab_type": "text"
      },
      "source": [
        "# CONCATENATING NUMERICAL AND CATEGORICAL DATA FOR MODELLING"
      ]
    },
    {
      "cell_type": "code",
      "metadata": {
        "id": "4SAHSni-CQxd",
        "colab_type": "code",
        "colab": {
          "base_uri": "https://localhost:8080/",
          "height": 35
        },
        "outputId": "dc16defa-6ce3-4f56-869e-2bff0dad55f2"
      },
      "source": [
        "# checking for consistency in shape of numericcal dataframe and categorical dataframe\n",
        "\n",
        "df_numerical.shape, df_cat_dummies.shape"
      ],
      "execution_count": null,
      "outputs": [
        {
          "output_type": "execute_result",
          "data": {
            "text/plain": [
              "((307511, 61), (307511, 290))"
            ]
          },
          "metadata": {
            "tags": []
          },
          "execution_count": 128
        }
      ]
    },
    {
      "cell_type": "code",
      "metadata": {
        "id": "zerC0Dg8Cbyg",
        "colab_type": "code",
        "colab": {}
      },
      "source": [
        "df_concatenated = pd.concat([df_numerical, df_cat_dummies], axis=1)"
      ],
      "execution_count": null,
      "outputs": []
    },
    {
      "cell_type": "code",
      "metadata": {
        "id": "ca3ORRv9Ct2Z",
        "colab_type": "code",
        "colab": {
          "base_uri": "https://localhost:8080/",
          "height": 35
        },
        "outputId": "10628360-9a67-4c9c-980e-a326119b9de7"
      },
      "source": [
        "df_concatenated.shape"
      ],
      "execution_count": null,
      "outputs": [
        {
          "output_type": "execute_result",
          "data": {
            "text/plain": [
              "(307511, 351)"
            ]
          },
          "metadata": {
            "tags": []
          },
          "execution_count": 130
        }
      ]
    },
    {
      "cell_type": "code",
      "metadata": {
        "id": "T2ei2VtjC3TB",
        "colab_type": "code",
        "colab": {}
      },
      "source": [
        "# our concatenated dataframe is now ready for modelling"
      ],
      "execution_count": null,
      "outputs": []
    },
    {
      "cell_type": "code",
      "metadata": {
        "id": "zus1hCdtIEzq",
        "colab_type": "code",
        "colab": {}
      },
      "source": [
        "X = df_concatenated.values\n",
        "y = df['TARGET'].values"
      ],
      "execution_count": null,
      "outputs": []
    },
    {
      "cell_type": "code",
      "metadata": {
        "id": "9okLYacXGA4g",
        "colab_type": "code",
        "colab": {}
      },
      "source": [
        "from sklearn.model_selection import train_test_split\n",
        "X_train, X_test, y_train, y_test = train_test_split(X, y, test_size=0.25)"
      ],
      "execution_count": null,
      "outputs": []
    },
    {
      "cell_type": "code",
      "metadata": {
        "id": "tXq7XodBFZnW",
        "colab_type": "code",
        "colab": {}
      },
      "source": [
        "from sklearn.linear_model import LogisticRegression"
      ],
      "execution_count": null,
      "outputs": []
    },
    {
      "cell_type": "code",
      "metadata": {
        "id": "fPZAEawzh4Xe",
        "colab_type": "code",
        "colab": {}
      },
      "source": [
        "lr_model = LogisticRegression(solver='liblinear', C = 0.01)"
      ],
      "execution_count": null,
      "outputs": []
    },
    {
      "cell_type": "code",
      "metadata": {
        "id": "ilv1P3qJVLyM",
        "colab_type": "code",
        "colab": {}
      },
      "source": [
        "from sklearn.metrics import confusion_matrix, precision_score, recall_score, f1_score, accuracy_score"
      ],
      "execution_count": null,
      "outputs": []
    },
    {
      "cell_type": "code",
      "metadata": {
        "id": "2iSatyCzk4QT",
        "colab_type": "code",
        "colab": {
          "base_uri": "https://localhost:8080/",
          "height": 254
        },
        "outputId": "ab8af96d-97c3-4745-c68f-2ac24171ed10"
      },
      "source": [
        "from sklearn.model_selection import GridSearchCV\n",
        "params = {'C':[0.001, 0.01, 0.1, 1, 10, 100]}\n",
        "clf = GridSearchCV(lr_model, params)\n",
        "clf"
      ],
      "execution_count": null,
      "outputs": [
        {
          "output_type": "execute_result",
          "data": {
            "text/plain": [
              "GridSearchCV(cv=None, error_score=nan,\n",
              "             estimator=LogisticRegression(C=0.01, class_weight=None, dual=False,\n",
              "                                          fit_intercept=True,\n",
              "                                          intercept_scaling=1, l1_ratio=None,\n",
              "                                          max_iter=100, multi_class='auto',\n",
              "                                          n_jobs=None, penalty='l2',\n",
              "                                          random_state=None, solver='liblinear',\n",
              "                                          tol=0.0001, verbose=0,\n",
              "                                          warm_start=False),\n",
              "             iid='deprecated', n_jobs=None,\n",
              "             param_grid={'C': [0.001, 0.01, 0.1, 1, 10, 100]},\n",
              "             pre_dispatch='2*n_jobs', refit=True, return_train_score=False,\n",
              "             scoring=None, verbose=0)"
            ]
          },
          "metadata": {
            "tags": []
          },
          "execution_count": 154
        }
      ]
    },
    {
      "cell_type": "code",
      "metadata": {
        "id": "zkXKEo6nlE7h",
        "colab_type": "code",
        "colab": {
          "base_uri": "https://localhost:8080/",
          "height": 342
        },
        "outputId": "80883718-debb-49cf-fa05-659e555ab983"
      },
      "source": [
        "clf.fit(X_train, y_train)"
      ],
      "execution_count": null,
      "outputs": [
        {
          "output_type": "error",
          "ename": "KeyboardInterrupt",
          "evalue": "ignored",
          "traceback": [
            "\u001b[0;31m---------------------------------------------------------------------------\u001b[0m",
            "\u001b[0;31mKeyboardInterrupt\u001b[0m                         Traceback (most recent call last)",
            "\u001b[0;32m<ipython-input-155-4f66baab8f93>\u001b[0m in \u001b[0;36m<module>\u001b[0;34m()\u001b[0m\n\u001b[0;32m----> 1\u001b[0;31m \u001b[0mclf\u001b[0m\u001b[0;34m.\u001b[0m\u001b[0mfit\u001b[0m\u001b[0;34m(\u001b[0m\u001b[0mX_train\u001b[0m\u001b[0;34m,\u001b[0m \u001b[0my_train\u001b[0m\u001b[0;34m)\u001b[0m\u001b[0;34m\u001b[0m\u001b[0;34m\u001b[0m\u001b[0m\n\u001b[0m",
            "\u001b[0;32m/usr/local/lib/python3.6/dist-packages/sklearn/model_selection/_search.py\u001b[0m in \u001b[0;36mfit\u001b[0;34m(self, X, y, groups, **fit_params)\u001b[0m\n\u001b[1;32m    708\u001b[0m                 \u001b[0;32mreturn\u001b[0m \u001b[0mresults\u001b[0m\u001b[0;34m\u001b[0m\u001b[0;34m\u001b[0m\u001b[0m\n\u001b[1;32m    709\u001b[0m \u001b[0;34m\u001b[0m\u001b[0m\n\u001b[0;32m--> 710\u001b[0;31m             \u001b[0mself\u001b[0m\u001b[0;34m.\u001b[0m\u001b[0m_run_search\u001b[0m\u001b[0;34m(\u001b[0m\u001b[0mevaluate_candidates\u001b[0m\u001b[0;34m)\u001b[0m\u001b[0;34m\u001b[0m\u001b[0;34m\u001b[0m\u001b[0m\n\u001b[0m\u001b[1;32m    711\u001b[0m \u001b[0;34m\u001b[0m\u001b[0m\n\u001b[1;32m    712\u001b[0m         \u001b[0;31m# For multi-metric evaluation, store the best_index_, best_params_ and\u001b[0m\u001b[0;34m\u001b[0m\u001b[0;34m\u001b[0m\u001b[0;34m\u001b[0m\u001b[0m\n",
            "\u001b[0;32m/usr/local/lib/python3.6/dist-packages/sklearn/model_selection/_search.py\u001b[0m in \u001b[0;36m_run_search\u001b[0;34m(self, evaluate_candidates)\u001b[0m\n\u001b[1;32m   1149\u001b[0m     \u001b[0;32mdef\u001b[0m \u001b[0m_run_search\u001b[0m\u001b[0;34m(\u001b[0m\u001b[0mself\u001b[0m\u001b[0;34m,\u001b[0m \u001b[0mevaluate_candidates\u001b[0m\u001b[0;34m)\u001b[0m\u001b[0;34m:\u001b[0m\u001b[0;34m\u001b[0m\u001b[0;34m\u001b[0m\u001b[0m\n\u001b[1;32m   1150\u001b[0m         \u001b[0;34m\"\"\"Search all candidates in param_grid\"\"\"\u001b[0m\u001b[0;34m\u001b[0m\u001b[0;34m\u001b[0m\u001b[0m\n\u001b[0;32m-> 1151\u001b[0;31m         \u001b[0mevaluate_candidates\u001b[0m\u001b[0;34m(\u001b[0m\u001b[0mParameterGrid\u001b[0m\u001b[0;34m(\u001b[0m\u001b[0mself\u001b[0m\u001b[0;34m.\u001b[0m\u001b[0mparam_grid\u001b[0m\u001b[0;34m)\u001b[0m\u001b[0;34m)\u001b[0m\u001b[0;34m\u001b[0m\u001b[0;34m\u001b[0m\u001b[0m\n\u001b[0m\u001b[1;32m   1152\u001b[0m \u001b[0;34m\u001b[0m\u001b[0m\n\u001b[1;32m   1153\u001b[0m \u001b[0;34m\u001b[0m\u001b[0m\n",
            "\u001b[0;32m/usr/local/lib/python3.6/dist-packages/sklearn/model_selection/_search.py\u001b[0m in \u001b[0;36mevaluate_candidates\u001b[0;34m(candidate_params)\u001b[0m\n\u001b[1;32m    687\u001b[0m                                \u001b[0;32mfor\u001b[0m \u001b[0mparameters\u001b[0m\u001b[0;34m,\u001b[0m \u001b[0;34m(\u001b[0m\u001b[0mtrain\u001b[0m\u001b[0;34m,\u001b[0m \u001b[0mtest\u001b[0m\u001b[0;34m)\u001b[0m\u001b[0;34m\u001b[0m\u001b[0;34m\u001b[0m\u001b[0m\n\u001b[1;32m    688\u001b[0m                                in product(candidate_params,\n\u001b[0;32m--> 689\u001b[0;31m                                           cv.split(X, y, groups)))\n\u001b[0m\u001b[1;32m    690\u001b[0m \u001b[0;34m\u001b[0m\u001b[0m\n\u001b[1;32m    691\u001b[0m                 \u001b[0;32mif\u001b[0m \u001b[0mlen\u001b[0m\u001b[0;34m(\u001b[0m\u001b[0mout\u001b[0m\u001b[0;34m)\u001b[0m \u001b[0;34m<\u001b[0m \u001b[0;36m1\u001b[0m\u001b[0;34m:\u001b[0m\u001b[0;34m\u001b[0m\u001b[0;34m\u001b[0m\u001b[0m\n",
            "\u001b[0;32m/usr/local/lib/python3.6/dist-packages/joblib/parallel.py\u001b[0m in \u001b[0;36m__call__\u001b[0;34m(self, iterable)\u001b[0m\n\u001b[1;32m   1030\u001b[0m                 \u001b[0mself\u001b[0m\u001b[0;34m.\u001b[0m\u001b[0m_iterating\u001b[0m \u001b[0;34m=\u001b[0m \u001b[0mself\u001b[0m\u001b[0;34m.\u001b[0m\u001b[0m_original_iterator\u001b[0m \u001b[0;32mis\u001b[0m \u001b[0;32mnot\u001b[0m \u001b[0;32mNone\u001b[0m\u001b[0;34m\u001b[0m\u001b[0;34m\u001b[0m\u001b[0m\n\u001b[1;32m   1031\u001b[0m \u001b[0;34m\u001b[0m\u001b[0m\n\u001b[0;32m-> 1032\u001b[0;31m             \u001b[0;32mwhile\u001b[0m \u001b[0mself\u001b[0m\u001b[0;34m.\u001b[0m\u001b[0mdispatch_one_batch\u001b[0m\u001b[0;34m(\u001b[0m\u001b[0miterator\u001b[0m\u001b[0;34m)\u001b[0m\u001b[0;34m:\u001b[0m\u001b[0;34m\u001b[0m\u001b[0;34m\u001b[0m\u001b[0m\n\u001b[0m\u001b[1;32m   1033\u001b[0m                 \u001b[0;32mpass\u001b[0m\u001b[0;34m\u001b[0m\u001b[0;34m\u001b[0m\u001b[0m\n\u001b[1;32m   1034\u001b[0m \u001b[0;34m\u001b[0m\u001b[0m\n",
            "\u001b[0;32m/usr/local/lib/python3.6/dist-packages/joblib/parallel.py\u001b[0m in \u001b[0;36mdispatch_one_batch\u001b[0;34m(self, iterator)\u001b[0m\n\u001b[1;32m    845\u001b[0m                 \u001b[0;32mreturn\u001b[0m \u001b[0;32mFalse\u001b[0m\u001b[0;34m\u001b[0m\u001b[0;34m\u001b[0m\u001b[0m\n\u001b[1;32m    846\u001b[0m             \u001b[0;32melse\u001b[0m\u001b[0;34m:\u001b[0m\u001b[0;34m\u001b[0m\u001b[0;34m\u001b[0m\u001b[0m\n\u001b[0;32m--> 847\u001b[0;31m                 \u001b[0mself\u001b[0m\u001b[0;34m.\u001b[0m\u001b[0m_dispatch\u001b[0m\u001b[0;34m(\u001b[0m\u001b[0mtasks\u001b[0m\u001b[0;34m)\u001b[0m\u001b[0;34m\u001b[0m\u001b[0;34m\u001b[0m\u001b[0m\n\u001b[0m\u001b[1;32m    848\u001b[0m                 \u001b[0;32mreturn\u001b[0m \u001b[0;32mTrue\u001b[0m\u001b[0;34m\u001b[0m\u001b[0;34m\u001b[0m\u001b[0m\n\u001b[1;32m    849\u001b[0m \u001b[0;34m\u001b[0m\u001b[0m\n",
            "\u001b[0;32m/usr/local/lib/python3.6/dist-packages/joblib/parallel.py\u001b[0m in \u001b[0;36m_dispatch\u001b[0;34m(self, batch)\u001b[0m\n\u001b[1;32m    763\u001b[0m         \u001b[0;32mwith\u001b[0m \u001b[0mself\u001b[0m\u001b[0;34m.\u001b[0m\u001b[0m_lock\u001b[0m\u001b[0;34m:\u001b[0m\u001b[0;34m\u001b[0m\u001b[0;34m\u001b[0m\u001b[0m\n\u001b[1;32m    764\u001b[0m             \u001b[0mjob_idx\u001b[0m \u001b[0;34m=\u001b[0m \u001b[0mlen\u001b[0m\u001b[0;34m(\u001b[0m\u001b[0mself\u001b[0m\u001b[0;34m.\u001b[0m\u001b[0m_jobs\u001b[0m\u001b[0;34m)\u001b[0m\u001b[0;34m\u001b[0m\u001b[0;34m\u001b[0m\u001b[0m\n\u001b[0;32m--> 765\u001b[0;31m             \u001b[0mjob\u001b[0m \u001b[0;34m=\u001b[0m \u001b[0mself\u001b[0m\u001b[0;34m.\u001b[0m\u001b[0m_backend\u001b[0m\u001b[0;34m.\u001b[0m\u001b[0mapply_async\u001b[0m\u001b[0;34m(\u001b[0m\u001b[0mbatch\u001b[0m\u001b[0;34m,\u001b[0m \u001b[0mcallback\u001b[0m\u001b[0;34m=\u001b[0m\u001b[0mcb\u001b[0m\u001b[0;34m)\u001b[0m\u001b[0;34m\u001b[0m\u001b[0;34m\u001b[0m\u001b[0m\n\u001b[0m\u001b[1;32m    766\u001b[0m             \u001b[0;31m# A job can complete so quickly than its callback is\u001b[0m\u001b[0;34m\u001b[0m\u001b[0;34m\u001b[0m\u001b[0;34m\u001b[0m\u001b[0m\n\u001b[1;32m    767\u001b[0m             \u001b[0;31m# called before we get here, causing self._jobs to\u001b[0m\u001b[0;34m\u001b[0m\u001b[0;34m\u001b[0m\u001b[0;34m\u001b[0m\u001b[0m\n",
            "\u001b[0;32m/usr/local/lib/python3.6/dist-packages/joblib/_parallel_backends.py\u001b[0m in \u001b[0;36mapply_async\u001b[0;34m(self, func, callback)\u001b[0m\n\u001b[1;32m    204\u001b[0m     \u001b[0;32mdef\u001b[0m \u001b[0mapply_async\u001b[0m\u001b[0;34m(\u001b[0m\u001b[0mself\u001b[0m\u001b[0;34m,\u001b[0m \u001b[0mfunc\u001b[0m\u001b[0;34m,\u001b[0m \u001b[0mcallback\u001b[0m\u001b[0;34m=\u001b[0m\u001b[0;32mNone\u001b[0m\u001b[0;34m)\u001b[0m\u001b[0;34m:\u001b[0m\u001b[0;34m\u001b[0m\u001b[0;34m\u001b[0m\u001b[0m\n\u001b[1;32m    205\u001b[0m         \u001b[0;34m\"\"\"Schedule a func to be run\"\"\"\u001b[0m\u001b[0;34m\u001b[0m\u001b[0;34m\u001b[0m\u001b[0m\n\u001b[0;32m--> 206\u001b[0;31m         \u001b[0mresult\u001b[0m \u001b[0;34m=\u001b[0m \u001b[0mImmediateResult\u001b[0m\u001b[0;34m(\u001b[0m\u001b[0mfunc\u001b[0m\u001b[0;34m)\u001b[0m\u001b[0;34m\u001b[0m\u001b[0;34m\u001b[0m\u001b[0m\n\u001b[0m\u001b[1;32m    207\u001b[0m         \u001b[0;32mif\u001b[0m \u001b[0mcallback\u001b[0m\u001b[0;34m:\u001b[0m\u001b[0;34m\u001b[0m\u001b[0;34m\u001b[0m\u001b[0m\n\u001b[1;32m    208\u001b[0m             \u001b[0mcallback\u001b[0m\u001b[0;34m(\u001b[0m\u001b[0mresult\u001b[0m\u001b[0;34m)\u001b[0m\u001b[0;34m\u001b[0m\u001b[0;34m\u001b[0m\u001b[0m\n",
            "\u001b[0;32m/usr/local/lib/python3.6/dist-packages/joblib/_parallel_backends.py\u001b[0m in \u001b[0;36m__init__\u001b[0;34m(self, batch)\u001b[0m\n\u001b[1;32m    568\u001b[0m         \u001b[0;31m# Don't delay the application, to avoid keeping the input\u001b[0m\u001b[0;34m\u001b[0m\u001b[0;34m\u001b[0m\u001b[0;34m\u001b[0m\u001b[0m\n\u001b[1;32m    569\u001b[0m         \u001b[0;31m# arguments in memory\u001b[0m\u001b[0;34m\u001b[0m\u001b[0;34m\u001b[0m\u001b[0;34m\u001b[0m\u001b[0m\n\u001b[0;32m--> 570\u001b[0;31m         \u001b[0mself\u001b[0m\u001b[0;34m.\u001b[0m\u001b[0mresults\u001b[0m \u001b[0;34m=\u001b[0m \u001b[0mbatch\u001b[0m\u001b[0;34m(\u001b[0m\u001b[0;34m)\u001b[0m\u001b[0;34m\u001b[0m\u001b[0;34m\u001b[0m\u001b[0m\n\u001b[0m\u001b[1;32m    571\u001b[0m \u001b[0;34m\u001b[0m\u001b[0m\n\u001b[1;32m    572\u001b[0m     \u001b[0;32mdef\u001b[0m \u001b[0mget\u001b[0m\u001b[0;34m(\u001b[0m\u001b[0mself\u001b[0m\u001b[0;34m)\u001b[0m\u001b[0;34m:\u001b[0m\u001b[0;34m\u001b[0m\u001b[0;34m\u001b[0m\u001b[0m\n",
            "\u001b[0;32m/usr/local/lib/python3.6/dist-packages/joblib/parallel.py\u001b[0m in \u001b[0;36m__call__\u001b[0;34m(self)\u001b[0m\n\u001b[1;32m    251\u001b[0m         \u001b[0;32mwith\u001b[0m \u001b[0mparallel_backend\u001b[0m\u001b[0;34m(\u001b[0m\u001b[0mself\u001b[0m\u001b[0;34m.\u001b[0m\u001b[0m_backend\u001b[0m\u001b[0;34m,\u001b[0m \u001b[0mn_jobs\u001b[0m\u001b[0;34m=\u001b[0m\u001b[0mself\u001b[0m\u001b[0;34m.\u001b[0m\u001b[0m_n_jobs\u001b[0m\u001b[0;34m)\u001b[0m\u001b[0;34m:\u001b[0m\u001b[0;34m\u001b[0m\u001b[0;34m\u001b[0m\u001b[0m\n\u001b[1;32m    252\u001b[0m             return [func(*args, **kwargs)\n\u001b[0;32m--> 253\u001b[0;31m                     for func, args, kwargs in self.items]\n\u001b[0m\u001b[1;32m    254\u001b[0m \u001b[0;34m\u001b[0m\u001b[0m\n\u001b[1;32m    255\u001b[0m     \u001b[0;32mdef\u001b[0m \u001b[0m__reduce__\u001b[0m\u001b[0;34m(\u001b[0m\u001b[0mself\u001b[0m\u001b[0;34m)\u001b[0m\u001b[0;34m:\u001b[0m\u001b[0;34m\u001b[0m\u001b[0;34m\u001b[0m\u001b[0m\n",
            "\u001b[0;32m/usr/local/lib/python3.6/dist-packages/joblib/parallel.py\u001b[0m in \u001b[0;36m<listcomp>\u001b[0;34m(.0)\u001b[0m\n\u001b[1;32m    251\u001b[0m         \u001b[0;32mwith\u001b[0m \u001b[0mparallel_backend\u001b[0m\u001b[0;34m(\u001b[0m\u001b[0mself\u001b[0m\u001b[0;34m.\u001b[0m\u001b[0m_backend\u001b[0m\u001b[0;34m,\u001b[0m \u001b[0mn_jobs\u001b[0m\u001b[0;34m=\u001b[0m\u001b[0mself\u001b[0m\u001b[0;34m.\u001b[0m\u001b[0m_n_jobs\u001b[0m\u001b[0;34m)\u001b[0m\u001b[0;34m:\u001b[0m\u001b[0;34m\u001b[0m\u001b[0;34m\u001b[0m\u001b[0m\n\u001b[1;32m    252\u001b[0m             return [func(*args, **kwargs)\n\u001b[0;32m--> 253\u001b[0;31m                     for func, args, kwargs in self.items]\n\u001b[0m\u001b[1;32m    254\u001b[0m \u001b[0;34m\u001b[0m\u001b[0m\n\u001b[1;32m    255\u001b[0m     \u001b[0;32mdef\u001b[0m \u001b[0m__reduce__\u001b[0m\u001b[0;34m(\u001b[0m\u001b[0mself\u001b[0m\u001b[0;34m)\u001b[0m\u001b[0;34m:\u001b[0m\u001b[0;34m\u001b[0m\u001b[0;34m\u001b[0m\u001b[0m\n",
            "\u001b[0;32m/usr/local/lib/python3.6/dist-packages/sklearn/model_selection/_validation.py\u001b[0m in \u001b[0;36m_fit_and_score\u001b[0;34m(estimator, X, y, scorer, train, test, verbose, parameters, fit_params, return_train_score, return_parameters, return_n_test_samples, return_times, return_estimator, error_score)\u001b[0m\n\u001b[1;32m    513\u001b[0m             \u001b[0mestimator\u001b[0m\u001b[0;34m.\u001b[0m\u001b[0mfit\u001b[0m\u001b[0;34m(\u001b[0m\u001b[0mX_train\u001b[0m\u001b[0;34m,\u001b[0m \u001b[0;34m**\u001b[0m\u001b[0mfit_params\u001b[0m\u001b[0;34m)\u001b[0m\u001b[0;34m\u001b[0m\u001b[0;34m\u001b[0m\u001b[0m\n\u001b[1;32m    514\u001b[0m         \u001b[0;32melse\u001b[0m\u001b[0;34m:\u001b[0m\u001b[0;34m\u001b[0m\u001b[0;34m\u001b[0m\u001b[0m\n\u001b[0;32m--> 515\u001b[0;31m             \u001b[0mestimator\u001b[0m\u001b[0;34m.\u001b[0m\u001b[0mfit\u001b[0m\u001b[0;34m(\u001b[0m\u001b[0mX_train\u001b[0m\u001b[0;34m,\u001b[0m \u001b[0my_train\u001b[0m\u001b[0;34m,\u001b[0m \u001b[0;34m**\u001b[0m\u001b[0mfit_params\u001b[0m\u001b[0;34m)\u001b[0m\u001b[0;34m\u001b[0m\u001b[0;34m\u001b[0m\u001b[0m\n\u001b[0m\u001b[1;32m    516\u001b[0m \u001b[0;34m\u001b[0m\u001b[0m\n\u001b[1;32m    517\u001b[0m     \u001b[0;32mexcept\u001b[0m \u001b[0mException\u001b[0m \u001b[0;32mas\u001b[0m \u001b[0me\u001b[0m\u001b[0;34m:\u001b[0m\u001b[0;34m\u001b[0m\u001b[0;34m\u001b[0m\u001b[0m\n",
            "\u001b[0;32m/usr/local/lib/python3.6/dist-packages/sklearn/linear_model/_logistic.py\u001b[0m in \u001b[0;36mfit\u001b[0;34m(self, X, y, sample_weight)\u001b[0m\n\u001b[1;32m   1542\u001b[0m                 \u001b[0mself\u001b[0m\u001b[0;34m.\u001b[0m\u001b[0mclass_weight\u001b[0m\u001b[0;34m,\u001b[0m \u001b[0mself\u001b[0m\u001b[0;34m.\u001b[0m\u001b[0mpenalty\u001b[0m\u001b[0;34m,\u001b[0m \u001b[0mself\u001b[0m\u001b[0;34m.\u001b[0m\u001b[0mdual\u001b[0m\u001b[0;34m,\u001b[0m \u001b[0mself\u001b[0m\u001b[0;34m.\u001b[0m\u001b[0mverbose\u001b[0m\u001b[0;34m,\u001b[0m\u001b[0;34m\u001b[0m\u001b[0;34m\u001b[0m\u001b[0m\n\u001b[1;32m   1543\u001b[0m                 \u001b[0mself\u001b[0m\u001b[0;34m.\u001b[0m\u001b[0mmax_iter\u001b[0m\u001b[0;34m,\u001b[0m \u001b[0mself\u001b[0m\u001b[0;34m.\u001b[0m\u001b[0mtol\u001b[0m\u001b[0;34m,\u001b[0m \u001b[0mself\u001b[0m\u001b[0;34m.\u001b[0m\u001b[0mrandom_state\u001b[0m\u001b[0;34m,\u001b[0m\u001b[0;34m\u001b[0m\u001b[0;34m\u001b[0m\u001b[0m\n\u001b[0;32m-> 1544\u001b[0;31m                 sample_weight=sample_weight)\n\u001b[0m\u001b[1;32m   1545\u001b[0m             \u001b[0mself\u001b[0m\u001b[0;34m.\u001b[0m\u001b[0mn_iter_\u001b[0m \u001b[0;34m=\u001b[0m \u001b[0mnp\u001b[0m\u001b[0;34m.\u001b[0m\u001b[0marray\u001b[0m\u001b[0;34m(\u001b[0m\u001b[0;34m[\u001b[0m\u001b[0mn_iter_\u001b[0m\u001b[0;34m]\u001b[0m\u001b[0;34m)\u001b[0m\u001b[0;34m\u001b[0m\u001b[0;34m\u001b[0m\u001b[0m\n\u001b[1;32m   1546\u001b[0m             \u001b[0;32mreturn\u001b[0m \u001b[0mself\u001b[0m\u001b[0;34m\u001b[0m\u001b[0;34m\u001b[0m\u001b[0m\n",
            "\u001b[0;32m/usr/local/lib/python3.6/dist-packages/sklearn/svm/_base.py\u001b[0m in \u001b[0;36m_fit_liblinear\u001b[0;34m(X, y, C, fit_intercept, intercept_scaling, class_weight, penalty, dual, verbose, max_iter, tol, random_state, multi_class, loss, epsilon, sample_weight)\u001b[0m\n\u001b[1;32m    937\u001b[0m         \u001b[0mX\u001b[0m\u001b[0;34m,\u001b[0m \u001b[0my_ind\u001b[0m\u001b[0;34m,\u001b[0m \u001b[0msp\u001b[0m\u001b[0;34m.\u001b[0m\u001b[0misspmatrix\u001b[0m\u001b[0;34m(\u001b[0m\u001b[0mX\u001b[0m\u001b[0;34m)\u001b[0m\u001b[0;34m,\u001b[0m \u001b[0msolver_type\u001b[0m\u001b[0;34m,\u001b[0m \u001b[0mtol\u001b[0m\u001b[0;34m,\u001b[0m \u001b[0mbias\u001b[0m\u001b[0;34m,\u001b[0m \u001b[0mC\u001b[0m\u001b[0;34m,\u001b[0m\u001b[0;34m\u001b[0m\u001b[0;34m\u001b[0m\u001b[0m\n\u001b[1;32m    938\u001b[0m         \u001b[0mclass_weight_\u001b[0m\u001b[0;34m,\u001b[0m \u001b[0mmax_iter\u001b[0m\u001b[0;34m,\u001b[0m \u001b[0mrnd\u001b[0m\u001b[0;34m.\u001b[0m\u001b[0mrandint\u001b[0m\u001b[0;34m(\u001b[0m\u001b[0mnp\u001b[0m\u001b[0;34m.\u001b[0m\u001b[0miinfo\u001b[0m\u001b[0;34m(\u001b[0m\u001b[0;34m'i'\u001b[0m\u001b[0;34m)\u001b[0m\u001b[0;34m.\u001b[0m\u001b[0mmax\u001b[0m\u001b[0;34m)\u001b[0m\u001b[0;34m,\u001b[0m\u001b[0;34m\u001b[0m\u001b[0;34m\u001b[0m\u001b[0m\n\u001b[0;32m--> 939\u001b[0;31m         epsilon, sample_weight)\n\u001b[0m\u001b[1;32m    940\u001b[0m     \u001b[0;31m# Regarding rnd.randint(..) in the above signature:\u001b[0m\u001b[0;34m\u001b[0m\u001b[0;34m\u001b[0m\u001b[0;34m\u001b[0m\u001b[0m\n\u001b[1;32m    941\u001b[0m     \u001b[0;31m# seed for srand in range [0..INT_MAX); due to limitations in Numpy\u001b[0m\u001b[0;34m\u001b[0m\u001b[0;34m\u001b[0m\u001b[0;34m\u001b[0m\u001b[0m\n",
            "\u001b[0;31mKeyboardInterrupt\u001b[0m: "
          ]
        }
      ]
    },
    {
      "cell_type": "code",
      "metadata": {
        "id": "UP_7FR6cFtZG",
        "colab_type": "code",
        "colab": {
          "base_uri": "https://localhost:8080/",
          "height": 108
        },
        "outputId": "719e1b1e-c7ac-48c6-f9e4-6ead557b7b35"
      },
      "source": [
        "lr_model.fit(X_train, y_train)"
      ],
      "execution_count": null,
      "outputs": [
        {
          "output_type": "execute_result",
          "data": {
            "text/plain": [
              "LogisticRegression(C=0.01, class_weight=None, dual=False, fit_intercept=True,\n",
              "                   intercept_scaling=1, l1_ratio=None, max_iter=100,\n",
              "                   multi_class='auto', n_jobs=None, penalty='l2',\n",
              "                   random_state=None, solver='liblinear', tol=0.0001, verbose=0,\n",
              "                   warm_start=False)"
            ]
          },
          "metadata": {
            "tags": []
          },
          "execution_count": 148
        }
      ]
    },
    {
      "cell_type": "code",
      "metadata": {
        "id": "ZysnIK8VkAdF",
        "colab_type": "code",
        "colab": {
          "base_uri": "https://localhost:8080/",
          "height": 35
        },
        "outputId": "33f7ccee-448a-4740-d81b-2f78dd654ec6"
      },
      "source": [
        "from sklearn.model_selection import cross_val_score\n",
        "cross_val_score(lr_model, X_train, y_train, cv=5, scoring='accuracy')"
      ],
      "execution_count": null,
      "outputs": [
        {
          "output_type": "execute_result",
          "data": {
            "text/plain": [
              "array([0.91926637, 0.91943981, 0.91907126, 0.91915622, 0.91924294])"
            ]
          },
          "metadata": {
            "tags": []
          },
          "execution_count": 153
        }
      ]
    },
    {
      "cell_type": "code",
      "metadata": {
        "id": "NVtbCp_oVDE1",
        "colab_type": "code",
        "colab": {}
      },
      "source": [
        "y_pred = lr_model.predict(X_test)\n",
        "y_train_pred = lr_model.predict(X_train)"
      ],
      "execution_count": null,
      "outputs": []
    },
    {
      "cell_type": "code",
      "metadata": {
        "id": "_iqP6wTWb8dt",
        "colab_type": "code",
        "colab": {
          "base_uri": "https://localhost:8080/",
          "height": 72
        },
        "outputId": "1131244d-53df-4df0-8ead-355bd77e9e26"
      },
      "source": [
        "df['TARGET'].value_counts()"
      ],
      "execution_count": null,
      "outputs": [
        {
          "output_type": "execute_result",
          "data": {
            "text/plain": [
              "0    282686\n",
              "1     24825\n",
              "Name: TARGET, dtype: int64"
            ]
          },
          "metadata": {
            "tags": []
          },
          "execution_count": 146
        }
      ]
    },
    {
      "cell_type": "code",
      "metadata": {
        "id": "te9mt4HDbPaQ",
        "colab_type": "code",
        "colab": {
          "base_uri": "https://localhost:8080/",
          "height": 108
        },
        "outputId": "880213cf-c83b-4598-96f2-ae607bd92be0"
      },
      "source": [
        "print(\"Training accuracy: \", accuracy_score(y_train, y_train_pred))\n",
        "print(\"Training recall: \", recall_score(y_train, y_train_pred))\n",
        "print(\"Training precision: \", precision_score(y_train, y_train_pred))\n",
        "confusion_matrix(y_train, y_train_pred)"
      ],
      "execution_count": null,
      "outputs": [
        {
          "output_type": "stream",
          "text": [
            "Training accuracy:  0.91930469620566\n",
            "Training recall:  0.011384995435261265\n",
            "Training precision:  0.5120772946859904\n"
          ],
          "name": "stdout"
        },
        {
          "output_type": "execute_result",
          "data": {
            "text/plain": [
              "array([[211810,    202],\n",
              "       [ 18409,    212]])"
            ]
          },
          "metadata": {
            "tags": []
          },
          "execution_count": 150
        }
      ]
    },
    {
      "cell_type": "code",
      "metadata": {
        "id": "7Eav5jzJbnS6",
        "colab_type": "code",
        "colab": {
          "base_uri": "https://localhost:8080/",
          "height": 108
        },
        "outputId": "9f2938f3-4dd2-4ca8-82b4-bb390c404ee6"
      },
      "source": [
        "print(\"Test accuracy: \", accuracy_score(y_test, y_pred))\n",
        "print(\"Test recall: \", recall_score(y_test, y_pred))\n",
        "print(\"Test precision: \", precision_score(y_test, y_pred))\n",
        "confusion_matrix(y_test, y_pred)"
      ],
      "execution_count": null,
      "outputs": [
        {
          "output_type": "stream",
          "text": [
            "Test accuracy:  0.9192226644813861\n",
            "Test recall:  0.010638297872340425\n",
            "Test precision:  0.4782608695652174\n"
          ],
          "name": "stdout"
        },
        {
          "output_type": "execute_result",
          "data": {
            "text/plain": [
              "array([[70602,    72],\n",
              "       [ 6138,    66]])"
            ]
          },
          "metadata": {
            "tags": []
          },
          "execution_count": 151
        }
      ]
    },
    {
      "cell_type": "code",
      "metadata": {
        "id": "CmlNx2nKVpOK",
        "colab_type": "code",
        "colab": {
          "base_uri": "https://localhost:8080/",
          "height": 54
        },
        "outputId": "dcedd06e-baa5-482a-ce6c-aab48df02c76"
      },
      "source": [
        "confusion_matrix(y_train, y_train_pred)"
      ],
      "execution_count": null,
      "outputs": [
        {
          "output_type": "execute_result",
          "data": {
            "text/plain": [
              "array([[211744,    268],\n",
              "       [ 18343,    278]])"
            ]
          },
          "metadata": {
            "tags": []
          },
          "execution_count": 142
        }
      ]
    },
    {
      "cell_type": "code",
      "metadata": {
        "id": "p4osB897VyFr",
        "colab_type": "code",
        "colab": {
          "base_uri": "https://localhost:8080/",
          "height": 35
        },
        "outputId": "f7ad352e-99ee-4450-a180-5fa29981cf34"
      },
      "source": [
        "precision_score(y_train, y_train_pred)"
      ],
      "execution_count": null,
      "outputs": [
        {
          "output_type": "execute_result",
          "data": {
            "text/plain": [
              "0.5091575091575091"
            ]
          },
          "metadata": {
            "tags": []
          },
          "execution_count": 143
        }
      ]
    },
    {
      "cell_type": "code",
      "metadata": {
        "id": "kfZKqpIvVXrn",
        "colab_type": "code",
        "colab": {
          "base_uri": "https://localhost:8080/",
          "height": 54
        },
        "outputId": "314a8709-7172-4697-c1ba-0eea0e1da41c"
      },
      "source": [
        "confusion_matrix(y_test, y_pred)"
      ],
      "execution_count": null,
      "outputs": [
        {
          "output_type": "execute_result",
          "data": {
            "text/plain": [
              "array([[70577,    97],\n",
              "       [ 6123,    81]])"
            ]
          },
          "metadata": {
            "tags": []
          },
          "execution_count": 140
        }
      ]
    }
  ]
}