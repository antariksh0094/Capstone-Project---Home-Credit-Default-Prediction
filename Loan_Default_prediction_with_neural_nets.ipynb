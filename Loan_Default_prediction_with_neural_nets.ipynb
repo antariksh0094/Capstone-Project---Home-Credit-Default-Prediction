{
  "nbformat": 4,
  "nbformat_minor": 0,
  "metadata": {
    "colab": {
      "name": "Loan Default - prediction with neural nets.ipynb",
      "provenance": [],
      "collapsed_sections": []
    },
    "kernelspec": {
      "name": "python3",
      "display_name": "Python 3"
    }
  },
  "cells": [
    {
      "cell_type": "code",
      "metadata": {
        "id": "Kmuu_MJwg23C",
        "outputId": "683c564b-4523-4bdb-aa2f-3023b9d017d8",
        "colab": {
          "base_uri": "https://localhost:8080/",
          "height": 34
        }
      },
      "source": [
        "from google.colab import drive\n",
        "drive.mount('/content/drive')"
      ],
      "execution_count": 1,
      "outputs": [
        {
          "output_type": "stream",
          "text": [
            "Mounted at /content/drive\n"
          ],
          "name": "stdout"
        }
      ]
    },
    {
      "cell_type": "code",
      "metadata": {
        "id": "XPUWkd55wbYX"
      },
      "source": [
        "import numpy as np\n",
        "import pandas as pd\n",
        "import matplotlib.pyplot as plt\n",
        "import seaborn as sns\n",
        "\n",
        "from fastai import *\n",
        "from fastai.tabular import *"
      ],
      "execution_count": 10,
      "outputs": []
    },
    {
      "cell_type": "code",
      "metadata": {
        "id": "utNMu8xaefYq"
      },
      "source": [
        "pd.max_rows = 200\n",
        "pd.max_columns = 200\n",
        "plt.rcParams['figure.figsize'] = (8,8)"
      ],
      "execution_count": 73,
      "outputs": []
    },
    {
      "cell_type": "code",
      "metadata": {
        "id": "JWd9dz3ujwR8"
      },
      "source": [
        "path = '/content/drive/My Drive/Colab Notebooks/Home Credit Default'\n",
        "df = pd.read_csv(path + '/application_train.csv')\n",
        "df = df.drop('SK_ID_CURR', axis=1)"
      ],
      "execution_count": 47,
      "outputs": []
    },
    {
      "cell_type": "code",
      "metadata": {
        "id": "_kV8d_U79BLi"
      },
      "source": [
        "df_copy = df.copy()"
      ],
      "execution_count": 5,
      "outputs": []
    },
    {
      "cell_type": "code",
      "metadata": {
        "id": "k56CQDdPUtbd",
        "outputId": "328f9a81-8c73-43dd-a158-80e7e9dd9b46",
        "colab": {
          "base_uri": "https://localhost:8080/",
          "height": 34
        }
      },
      "source": [
        "df.shape"
      ],
      "execution_count": 34,
      "outputs": [
        {
          "output_type": "execute_result",
          "data": {
            "text/plain": [
              "(307511, 121)"
            ]
          },
          "metadata": {
            "tags": []
          },
          "execution_count": 34
        }
      ]
    },
    {
      "cell_type": "code",
      "metadata": {
        "id": "bY77kFRhmxOX"
      },
      "source": [
        "numerical = [\n",
        " 'CNT_CHILDREN',\n",
        " 'AMT_INCOME_TOTAL',\n",
        " 'AMT_CREDIT',\n",
        " 'AMT_ANNUITY',\n",
        " 'AMT_GOODS_PRICE',\n",
        " 'REGION_POPULATION_RELATIVE',\n",
        " 'DAYS_BIRTH',\n",
        " 'DAYS_EMPLOYED',\n",
        " 'DAYS_REGISTRATION',\n",
        " 'DAYS_ID_PUBLISH',\n",
        " 'OWN_CAR_AGE',\n",
        " 'CNT_FAM_MEMBERS',\n",
        " 'REGION_RATING_CLIENT',\n",
        " 'REGION_RATING_CLIENT_W_CITY',\n",
        " 'EXT_SOURCE_1',\n",
        " 'EXT_SOURCE_2',\n",
        " 'EXT_SOURCE_3',\n",
        " 'APARTMENTS_AVG',\n",
        " 'BASEMENTAREA_AVG',\n",
        " 'YEARS_BEGINEXPLUATATION_AVG',\n",
        " 'YEARS_BUILD_AVG',\n",
        " 'COMMONAREA_AVG',\n",
        " 'ELEVATORS_AVG',\n",
        " 'ENTRANCES_AVG',\n",
        " 'FLOORSMAX_AVG',\n",
        " 'FLOORSMIN_AVG',\n",
        " 'LANDAREA_AVG',\n",
        " 'LIVINGAPARTMENTS_AVG',\n",
        " 'LIVINGAREA_AVG',\n",
        " 'NONLIVINGAPARTMENTS_AVG',\n",
        " 'NONLIVINGAREA_AVG',\n",
        " 'APARTMENTS_MODE',\n",
        " 'BASEMENTAREA_MODE',\n",
        " 'YEARS_BEGINEXPLUATATION_MODE',\n",
        " 'YEARS_BUILD_MODE',\n",
        " 'COMMONAREA_MODE',\n",
        " 'ELEVATORS_MODE',\n",
        " 'ENTRANCES_MODE',\n",
        " 'FLOORSMAX_MODE',\n",
        " 'FLOORSMIN_MODE',\n",
        " 'LANDAREA_MODE',\n",
        " 'LIVINGAPARTMENTS_MODE',\n",
        " 'LIVINGAREA_MODE',\n",
        " 'NONLIVINGAPARTMENTS_MODE',\n",
        " 'NONLIVINGAREA_MODE',\n",
        " 'APARTMENTS_MEDI',\n",
        " 'BASEMENTAREA_MEDI',\n",
        " 'YEARS_BEGINEXPLUATATION_MEDI',\n",
        " 'YEARS_BUILD_MEDI',\n",
        " 'COMMONAREA_MEDI',\n",
        " 'ELEVATORS_MEDI',\n",
        " 'ENTRANCES_MEDI',\n",
        " 'FLOORSMAX_MEDI',\n",
        " 'FLOORSMIN_MEDI',\n",
        " 'LANDAREA_MEDI',\n",
        " 'LIVINGAPARTMENTS_MEDI',\n",
        " 'LIVINGAREA_MEDI',\n",
        " 'NONLIVINGAPARTMENTS_MEDI',\n",
        " 'NONLIVINGAREA_MEDI',\n",
        " 'TOTALAREA_MODE',\n",
        " 'OBS_30_CNT_SOCIAL_CIRCLE',\n",
        " 'DEF_30_CNT_SOCIAL_CIRCLE',\n",
        " 'OBS_60_CNT_SOCIAL_CIRCLE',\n",
        " 'DEF_60_CNT_SOCIAL_CIRCLE',\n",
        " 'DAYS_LAST_PHONE_CHANGE',\n",
        " 'AMT_REQ_CREDIT_BUREAU_HOUR',\n",
        " 'AMT_REQ_CREDIT_BUREAU_DAY', \n",
        " 'AMT_REQ_CREDIT_BUREAU_WEEK',\n",
        " 'AMT_REQ_CREDIT_BUREAU_MON', \n",
        " 'AMT_REQ_CREDIT_BUREAU_QRT',\n",
        " 'AMT_REQ_CREDIT_BUREAU_YEAR' \n",
        "]\n",
        "\n",
        "def separate_num_cat(df):\n",
        "  df_numerical = df.loc[:, numerical]\n",
        "  df_categorical = df.drop(numerical, axis=1)\n",
        "  return df_numerical, df_categorical\n",
        "\n",
        "df_numerical, df_categorical = separate_num_cat(df)"
      ],
      "execution_count": 35,
      "outputs": []
    },
    {
      "cell_type": "markdown",
      "metadata": {
        "id": "5kZHqvLAAoNy"
      },
      "source": [
        "# fastai datablock api"
      ]
    },
    {
      "cell_type": "code",
      "metadata": {
        "id": "hb0d3IruVkaD"
      },
      "source": [
        "dep_var = 'TARGET'\n",
        "cont_names = list(df_numerical.columns)\n",
        "cat_names = list(df_categorical.columns)\n",
        "procs = [FillMissing, Categorify, Normalize]"
      ],
      "execution_count": 36,
      "outputs": []
    },
    {
      "cell_type": "code",
      "metadata": {
        "id": "uSd2akQoWpOk"
      },
      "source": [
        "test = TabularList.from_df(df.iloc[270000:, :].copy(), cat_names= cat_names, cont_names=cont_names)"
      ],
      "execution_count": 37,
      "outputs": []
    },
    {
      "cell_type": "code",
      "metadata": {
        "id": "13gh0JLnc3fD"
      },
      "source": [
        "cat_names"
      ],
      "execution_count": null,
      "outputs": []
    },
    {
      "cell_type": "code",
      "metadata": {
        "id": "YjsUuAQvb8UE"
      },
      "source": [
        "# fastai\n",
        "data = (TabularList.from_df(df, path=path, cat_names=cat_names, cont_names=cont_names, procs=procs)\n",
        "                           .split_by_idx(list(range(270000,300000)))\n",
        "                           .label_from_df(cols=dep_var)\n",
        "                           .add_test(test)\n",
        "                           .databunch())"
      ],
      "execution_count": 48,
      "outputs": []
    },
    {
      "cell_type": "code",
      "metadata": {
        "id": "RpUtToAYXGCr"
      },
      "source": [
        "# data2 =(TabularList.from_df(df, path=path, cat_names=cat_names, cont_names=cont_names, procs=procs)\n",
        "#                            .split_by_idx(list(range(270000,307511)))\n",
        "#                            .label_from_df(cols=dep_var)\n",
        "#                            .add_test(test)\n",
        "#                            .databunch())"
      ],
      "execution_count": 87,
      "outputs": []
    },
    {
      "cell_type": "code",
      "metadata": {
        "id": "fjPBuQWLXFZD",
        "outputId": "c91d5017-9273-4e3e-c4c1-0aa00fc7b838",
        "colab": {
          "base_uri": "https://localhost:8080/",
          "height": 257
        }
      },
      "source": [
        "data.show_batch(rows = 5)"
      ],
      "execution_count": 49,
      "outputs": [
        {
          "output_type": "display_data",
          "data": {
            "text/html": [
              "<table border=\"1\" class=\"dataframe\">\n",
              "  <thead>\n",
              "    <tr style=\"text-align: right;\">\n",
              "      <th>TARGET</th>\n",
              "      <th>NAME_CONTRACT_TYPE</th>\n",
              "      <th>CODE_GENDER</th>\n",
              "      <th>FLAG_OWN_CAR</th>\n",
              "      <th>FLAG_OWN_REALTY</th>\n",
              "      <th>NAME_TYPE_SUITE</th>\n",
              "      <th>NAME_INCOME_TYPE</th>\n",
              "      <th>NAME_EDUCATION_TYPE</th>\n",
              "      <th>NAME_FAMILY_STATUS</th>\n",
              "      <th>NAME_HOUSING_TYPE</th>\n",
              "      <th>FLAG_MOBIL</th>\n",
              "      <th>FLAG_EMP_PHONE</th>\n",
              "      <th>FLAG_WORK_PHONE</th>\n",
              "      <th>FLAG_CONT_MOBILE</th>\n",
              "      <th>FLAG_PHONE</th>\n",
              "      <th>FLAG_EMAIL</th>\n",
              "      <th>OCCUPATION_TYPE</th>\n",
              "      <th>WEEKDAY_APPR_PROCESS_START</th>\n",
              "      <th>HOUR_APPR_PROCESS_START</th>\n",
              "      <th>REG_REGION_NOT_LIVE_REGION</th>\n",
              "      <th>REG_REGION_NOT_WORK_REGION</th>\n",
              "      <th>LIVE_REGION_NOT_WORK_REGION</th>\n",
              "      <th>REG_CITY_NOT_LIVE_CITY</th>\n",
              "      <th>REG_CITY_NOT_WORK_CITY</th>\n",
              "      <th>LIVE_CITY_NOT_WORK_CITY</th>\n",
              "      <th>ORGANIZATION_TYPE</th>\n",
              "      <th>FONDKAPREMONT_MODE</th>\n",
              "      <th>HOUSETYPE_MODE</th>\n",
              "      <th>WALLSMATERIAL_MODE</th>\n",
              "      <th>EMERGENCYSTATE_MODE</th>\n",
              "      <th>FLAG_DOCUMENT_2</th>\n",
              "      <th>FLAG_DOCUMENT_3</th>\n",
              "      <th>FLAG_DOCUMENT_4</th>\n",
              "      <th>FLAG_DOCUMENT_5</th>\n",
              "      <th>FLAG_DOCUMENT_6</th>\n",
              "      <th>FLAG_DOCUMENT_7</th>\n",
              "      <th>FLAG_DOCUMENT_8</th>\n",
              "      <th>FLAG_DOCUMENT_9</th>\n",
              "      <th>FLAG_DOCUMENT_10</th>\n",
              "      <th>FLAG_DOCUMENT_11</th>\n",
              "      <th>FLAG_DOCUMENT_12</th>\n",
              "      <th>FLAG_DOCUMENT_13</th>\n",
              "      <th>FLAG_DOCUMENT_14</th>\n",
              "      <th>FLAG_DOCUMENT_15</th>\n",
              "      <th>FLAG_DOCUMENT_16</th>\n",
              "      <th>FLAG_DOCUMENT_17</th>\n",
              "      <th>FLAG_DOCUMENT_18</th>\n",
              "      <th>FLAG_DOCUMENT_19</th>\n",
              "      <th>FLAG_DOCUMENT_20</th>\n",
              "      <th>FLAG_DOCUMENT_21</th>\n",
              "      <th>AMT_ANNUITY_na</th>\n",
              "      <th>AMT_GOODS_PRICE_na</th>\n",
              "      <th>OWN_CAR_AGE_na</th>\n",
              "      <th>CNT_FAM_MEMBERS_na</th>\n",
              "      <th>EXT_SOURCE_1_na</th>\n",
              "      <th>EXT_SOURCE_2_na</th>\n",
              "      <th>EXT_SOURCE_3_na</th>\n",
              "      <th>APARTMENTS_AVG_na</th>\n",
              "      <th>BASEMENTAREA_AVG_na</th>\n",
              "      <th>YEARS_BEGINEXPLUATATION_AVG_na</th>\n",
              "      <th>YEARS_BUILD_AVG_na</th>\n",
              "      <th>COMMONAREA_AVG_na</th>\n",
              "      <th>ELEVATORS_AVG_na</th>\n",
              "      <th>ENTRANCES_AVG_na</th>\n",
              "      <th>FLOORSMAX_AVG_na</th>\n",
              "      <th>FLOORSMIN_AVG_na</th>\n",
              "      <th>LANDAREA_AVG_na</th>\n",
              "      <th>LIVINGAPARTMENTS_AVG_na</th>\n",
              "      <th>LIVINGAREA_AVG_na</th>\n",
              "      <th>NONLIVINGAPARTMENTS_AVG_na</th>\n",
              "      <th>NONLIVINGAREA_AVG_na</th>\n",
              "      <th>APARTMENTS_MODE_na</th>\n",
              "      <th>BASEMENTAREA_MODE_na</th>\n",
              "      <th>YEARS_BEGINEXPLUATATION_MODE_na</th>\n",
              "      <th>YEARS_BUILD_MODE_na</th>\n",
              "      <th>COMMONAREA_MODE_na</th>\n",
              "      <th>ELEVATORS_MODE_na</th>\n",
              "      <th>ENTRANCES_MODE_na</th>\n",
              "      <th>FLOORSMAX_MODE_na</th>\n",
              "      <th>FLOORSMIN_MODE_na</th>\n",
              "      <th>LANDAREA_MODE_na</th>\n",
              "      <th>LIVINGAPARTMENTS_MODE_na</th>\n",
              "      <th>LIVINGAREA_MODE_na</th>\n",
              "      <th>NONLIVINGAPARTMENTS_MODE_na</th>\n",
              "      <th>NONLIVINGAREA_MODE_na</th>\n",
              "      <th>APARTMENTS_MEDI_na</th>\n",
              "      <th>BASEMENTAREA_MEDI_na</th>\n",
              "      <th>YEARS_BEGINEXPLUATATION_MEDI_na</th>\n",
              "      <th>YEARS_BUILD_MEDI_na</th>\n",
              "      <th>COMMONAREA_MEDI_na</th>\n",
              "      <th>ELEVATORS_MEDI_na</th>\n",
              "      <th>ENTRANCES_MEDI_na</th>\n",
              "      <th>FLOORSMAX_MEDI_na</th>\n",
              "      <th>FLOORSMIN_MEDI_na</th>\n",
              "      <th>LANDAREA_MEDI_na</th>\n",
              "      <th>LIVINGAPARTMENTS_MEDI_na</th>\n",
              "      <th>LIVINGAREA_MEDI_na</th>\n",
              "      <th>NONLIVINGAPARTMENTS_MEDI_na</th>\n",
              "      <th>NONLIVINGAREA_MEDI_na</th>\n",
              "      <th>TOTALAREA_MODE_na</th>\n",
              "      <th>OBS_30_CNT_SOCIAL_CIRCLE_na</th>\n",
              "      <th>DEF_30_CNT_SOCIAL_CIRCLE_na</th>\n",
              "      <th>OBS_60_CNT_SOCIAL_CIRCLE_na</th>\n",
              "      <th>DEF_60_CNT_SOCIAL_CIRCLE_na</th>\n",
              "      <th>DAYS_LAST_PHONE_CHANGE_na</th>\n",
              "      <th>AMT_REQ_CREDIT_BUREAU_HOUR_na</th>\n",
              "      <th>AMT_REQ_CREDIT_BUREAU_DAY_na</th>\n",
              "      <th>AMT_REQ_CREDIT_BUREAU_WEEK_na</th>\n",
              "      <th>AMT_REQ_CREDIT_BUREAU_MON_na</th>\n",
              "      <th>AMT_REQ_CREDIT_BUREAU_QRT_na</th>\n",
              "      <th>AMT_REQ_CREDIT_BUREAU_YEAR_na</th>\n",
              "      <th>CNT_CHILDREN</th>\n",
              "      <th>AMT_INCOME_TOTAL</th>\n",
              "      <th>AMT_CREDIT</th>\n",
              "      <th>AMT_ANNUITY</th>\n",
              "      <th>AMT_GOODS_PRICE</th>\n",
              "      <th>REGION_POPULATION_RELATIVE</th>\n",
              "      <th>DAYS_BIRTH</th>\n",
              "      <th>DAYS_EMPLOYED</th>\n",
              "      <th>DAYS_REGISTRATION</th>\n",
              "      <th>DAYS_ID_PUBLISH</th>\n",
              "      <th>OWN_CAR_AGE</th>\n",
              "      <th>CNT_FAM_MEMBERS</th>\n",
              "      <th>REGION_RATING_CLIENT</th>\n",
              "      <th>REGION_RATING_CLIENT_W_CITY</th>\n",
              "      <th>EXT_SOURCE_1</th>\n",
              "      <th>EXT_SOURCE_2</th>\n",
              "      <th>EXT_SOURCE_3</th>\n",
              "      <th>APARTMENTS_AVG</th>\n",
              "      <th>BASEMENTAREA_AVG</th>\n",
              "      <th>YEARS_BEGINEXPLUATATION_AVG</th>\n",
              "      <th>YEARS_BUILD_AVG</th>\n",
              "      <th>COMMONAREA_AVG</th>\n",
              "      <th>ELEVATORS_AVG</th>\n",
              "      <th>ENTRANCES_AVG</th>\n",
              "      <th>FLOORSMAX_AVG</th>\n",
              "      <th>FLOORSMIN_AVG</th>\n",
              "      <th>LANDAREA_AVG</th>\n",
              "      <th>LIVINGAPARTMENTS_AVG</th>\n",
              "      <th>LIVINGAREA_AVG</th>\n",
              "      <th>NONLIVINGAPARTMENTS_AVG</th>\n",
              "      <th>NONLIVINGAREA_AVG</th>\n",
              "      <th>APARTMENTS_MODE</th>\n",
              "      <th>BASEMENTAREA_MODE</th>\n",
              "      <th>YEARS_BEGINEXPLUATATION_MODE</th>\n",
              "      <th>YEARS_BUILD_MODE</th>\n",
              "      <th>COMMONAREA_MODE</th>\n",
              "      <th>ELEVATORS_MODE</th>\n",
              "      <th>ENTRANCES_MODE</th>\n",
              "      <th>FLOORSMAX_MODE</th>\n",
              "      <th>FLOORSMIN_MODE</th>\n",
              "      <th>LANDAREA_MODE</th>\n",
              "      <th>LIVINGAPARTMENTS_MODE</th>\n",
              "      <th>LIVINGAREA_MODE</th>\n",
              "      <th>NONLIVINGAPARTMENTS_MODE</th>\n",
              "      <th>NONLIVINGAREA_MODE</th>\n",
              "      <th>APARTMENTS_MEDI</th>\n",
              "      <th>BASEMENTAREA_MEDI</th>\n",
              "      <th>YEARS_BEGINEXPLUATATION_MEDI</th>\n",
              "      <th>YEARS_BUILD_MEDI</th>\n",
              "      <th>COMMONAREA_MEDI</th>\n",
              "      <th>ELEVATORS_MEDI</th>\n",
              "      <th>ENTRANCES_MEDI</th>\n",
              "      <th>FLOORSMAX_MEDI</th>\n",
              "      <th>FLOORSMIN_MEDI</th>\n",
              "      <th>LANDAREA_MEDI</th>\n",
              "      <th>LIVINGAPARTMENTS_MEDI</th>\n",
              "      <th>LIVINGAREA_MEDI</th>\n",
              "      <th>NONLIVINGAPARTMENTS_MEDI</th>\n",
              "      <th>NONLIVINGAREA_MEDI</th>\n",
              "      <th>TOTALAREA_MODE</th>\n",
              "      <th>OBS_30_CNT_SOCIAL_CIRCLE</th>\n",
              "      <th>DEF_30_CNT_SOCIAL_CIRCLE</th>\n",
              "      <th>OBS_60_CNT_SOCIAL_CIRCLE</th>\n",
              "      <th>DEF_60_CNT_SOCIAL_CIRCLE</th>\n",
              "      <th>DAYS_LAST_PHONE_CHANGE</th>\n",
              "      <th>AMT_REQ_CREDIT_BUREAU_HOUR</th>\n",
              "      <th>AMT_REQ_CREDIT_BUREAU_DAY</th>\n",
              "      <th>AMT_REQ_CREDIT_BUREAU_WEEK</th>\n",
              "      <th>AMT_REQ_CREDIT_BUREAU_MON</th>\n",
              "      <th>AMT_REQ_CREDIT_BUREAU_QRT</th>\n",
              "      <th>AMT_REQ_CREDIT_BUREAU_YEAR</th>\n",
              "      <th>target</th>\n",
              "    </tr>\n",
              "  </thead>\n",
              "  <tbody>\n",
              "    <tr>\n",
              "      <td>0</td>\n",
              "      <td>Cash loans</td>\n",
              "      <td>F</td>\n",
              "      <td>Y</td>\n",
              "      <td>Y</td>\n",
              "      <td>Unaccompanied</td>\n",
              "      <td>Commercial associate</td>\n",
              "      <td>Secondary / secondary special</td>\n",
              "      <td>Single / not married</td>\n",
              "      <td>With parents</td>\n",
              "      <td>1</td>\n",
              "      <td>1</td>\n",
              "      <td>0</td>\n",
              "      <td>1</td>\n",
              "      <td>0</td>\n",
              "      <td>1</td>\n",
              "      <td>#na#</td>\n",
              "      <td>FRIDAY</td>\n",
              "      <td>13</td>\n",
              "      <td>0</td>\n",
              "      <td>0</td>\n",
              "      <td>0</td>\n",
              "      <td>0</td>\n",
              "      <td>1</td>\n",
              "      <td>1</td>\n",
              "      <td>Business Entity Type 3</td>\n",
              "      <td>#na#</td>\n",
              "      <td>#na#</td>\n",
              "      <td>#na#</td>\n",
              "      <td>#na#</td>\n",
              "      <td>0</td>\n",
              "      <td>1</td>\n",
              "      <td>0</td>\n",
              "      <td>0</td>\n",
              "      <td>0</td>\n",
              "      <td>0</td>\n",
              "      <td>0</td>\n",
              "      <td>0</td>\n",
              "      <td>0</td>\n",
              "      <td>0</td>\n",
              "      <td>0</td>\n",
              "      <td>0</td>\n",
              "      <td>0</td>\n",
              "      <td>0</td>\n",
              "      <td>0</td>\n",
              "      <td>0</td>\n",
              "      <td>0</td>\n",
              "      <td>0</td>\n",
              "      <td>0</td>\n",
              "      <td>0</td>\n",
              "      <td>False</td>\n",
              "      <td>False</td>\n",
              "      <td>False</td>\n",
              "      <td>False</td>\n",
              "      <td>True</td>\n",
              "      <td>False</td>\n",
              "      <td>False</td>\n",
              "      <td>True</td>\n",
              "      <td>True</td>\n",
              "      <td>True</td>\n",
              "      <td>True</td>\n",
              "      <td>True</td>\n",
              "      <td>True</td>\n",
              "      <td>True</td>\n",
              "      <td>True</td>\n",
              "      <td>True</td>\n",
              "      <td>True</td>\n",
              "      <td>True</td>\n",
              "      <td>True</td>\n",
              "      <td>True</td>\n",
              "      <td>True</td>\n",
              "      <td>True</td>\n",
              "      <td>True</td>\n",
              "      <td>True</td>\n",
              "      <td>True</td>\n",
              "      <td>True</td>\n",
              "      <td>True</td>\n",
              "      <td>True</td>\n",
              "      <td>True</td>\n",
              "      <td>True</td>\n",
              "      <td>True</td>\n",
              "      <td>True</td>\n",
              "      <td>True</td>\n",
              "      <td>True</td>\n",
              "      <td>True</td>\n",
              "      <td>True</td>\n",
              "      <td>True</td>\n",
              "      <td>True</td>\n",
              "      <td>True</td>\n",
              "      <td>True</td>\n",
              "      <td>True</td>\n",
              "      <td>True</td>\n",
              "      <td>True</td>\n",
              "      <td>True</td>\n",
              "      <td>True</td>\n",
              "      <td>True</td>\n",
              "      <td>True</td>\n",
              "      <td>True</td>\n",
              "      <td>True</td>\n",
              "      <td>True</td>\n",
              "      <td>False</td>\n",
              "      <td>False</td>\n",
              "      <td>False</td>\n",
              "      <td>False</td>\n",
              "      <td>False</td>\n",
              "      <td>False</td>\n",
              "      <td>False</td>\n",
              "      <td>False</td>\n",
              "      <td>False</td>\n",
              "      <td>False</td>\n",
              "      <td>False</td>\n",
              "      <td>-0.5771</td>\n",
              "      <td>-0.0459</td>\n",
              "      <td>-1.1650</td>\n",
              "      <td>-0.9165</td>\n",
              "      <td>-1.1534</td>\n",
              "      <td>-0.1455</td>\n",
              "      <td>0.5859</td>\n",
              "      <td>-0.4557</td>\n",
              "      <td>-1.9619</td>\n",
              "      <td>-0.7581</td>\n",
              "      <td>-0.2865</td>\n",
              "      <td>-1.2647</td>\n",
              "      <td>-0.1030</td>\n",
              "      <td>-0.0628</td>\n",
              "      <td>0.0119</td>\n",
              "      <td>0.6313</td>\n",
              "      <td>0.7469</td>\n",
              "      <td>-0.1892</td>\n",
              "      <td>-0.0939</td>\n",
              "      <td>0.0469</td>\n",
              "      <td>0.0146</td>\n",
              "      <td>-0.1653</td>\n",
              "      <td>-0.3683</td>\n",
              "      <td>-0.0828</td>\n",
              "      <td>-0.2798</td>\n",
              "      <td>-0.0819</td>\n",
              "      <td>-0.1406</td>\n",
              "      <td>-0.1488</td>\n",
              "      <td>-0.2049</td>\n",
              "      <td>-0.1003</td>\n",
              "      <td>-0.2308</td>\n",
              "      <td>-0.1921</td>\n",
              "      <td>-0.0979</td>\n",
              "      <td>0.0504</td>\n",
              "      <td>0.0277</td>\n",
              "      <td>-0.1683</td>\n",
              "      <td>-0.3557</td>\n",
              "      <td>-0.0507</td>\n",
              "      <td>-0.2640</td>\n",
              "      <td>-0.0690</td>\n",
              "      <td>-0.1466</td>\n",
              "      <td>-0.1590</td>\n",
              "      <td>-0.2024</td>\n",
              "      <td>-0.0950</td>\n",
              "      <td>-0.2383</td>\n",
              "      <td>-0.1975</td>\n",
              "      <td>-0.0934</td>\n",
              "      <td>0.0461</td>\n",
              "      <td>0.0149</td>\n",
              "      <td>-0.1663</td>\n",
              "      <td>-0.3651</td>\n",
              "      <td>-0.0789</td>\n",
              "      <td>-0.2774</td>\n",
              "      <td>-0.0807</td>\n",
              "      <td>-0.1414</td>\n",
              "      <td>-0.1509</td>\n",
              "      <td>-0.2066</td>\n",
              "      <td>-0.0992</td>\n",
              "      <td>-0.2329</td>\n",
              "      <td>-0.2205</td>\n",
              "      <td>-0.5893</td>\n",
              "      <td>-0.3202</td>\n",
              "      <td>-0.5874</td>\n",
              "      <td>-0.2756</td>\n",
              "      <td>-1.7335</td>\n",
              "      <td>-0.0710</td>\n",
              "      <td>-0.0585</td>\n",
              "      <td>-0.1555</td>\n",
              "      <td>0.8987</td>\n",
              "      <td>-0.3019</td>\n",
              "      <td>0.6952</td>\n",
              "      <td>0</td>\n",
              "    </tr>\n",
              "    <tr>\n",
              "      <td>0</td>\n",
              "      <td>Revolving loans</td>\n",
              "      <td>F</td>\n",
              "      <td>N</td>\n",
              "      <td>Y</td>\n",
              "      <td>Unaccompanied</td>\n",
              "      <td>Working</td>\n",
              "      <td>Higher education</td>\n",
              "      <td>Civil marriage</td>\n",
              "      <td>House / apartment</td>\n",
              "      <td>1</td>\n",
              "      <td>1</td>\n",
              "      <td>0</td>\n",
              "      <td>1</td>\n",
              "      <td>0</td>\n",
              "      <td>0</td>\n",
              "      <td>Accountants</td>\n",
              "      <td>FRIDAY</td>\n",
              "      <td>12</td>\n",
              "      <td>1</td>\n",
              "      <td>1</td>\n",
              "      <td>0</td>\n",
              "      <td>1</td>\n",
              "      <td>1</td>\n",
              "      <td>0</td>\n",
              "      <td>Culture</td>\n",
              "      <td>#na#</td>\n",
              "      <td>#na#</td>\n",
              "      <td>#na#</td>\n",
              "      <td>#na#</td>\n",
              "      <td>0</td>\n",
              "      <td>0</td>\n",
              "      <td>0</td>\n",
              "      <td>0</td>\n",
              "      <td>0</td>\n",
              "      <td>0</td>\n",
              "      <td>0</td>\n",
              "      <td>0</td>\n",
              "      <td>0</td>\n",
              "      <td>0</td>\n",
              "      <td>0</td>\n",
              "      <td>0</td>\n",
              "      <td>0</td>\n",
              "      <td>0</td>\n",
              "      <td>0</td>\n",
              "      <td>0</td>\n",
              "      <td>0</td>\n",
              "      <td>0</td>\n",
              "      <td>0</td>\n",
              "      <td>0</td>\n",
              "      <td>False</td>\n",
              "      <td>False</td>\n",
              "      <td>True</td>\n",
              "      <td>False</td>\n",
              "      <td>False</td>\n",
              "      <td>False</td>\n",
              "      <td>False</td>\n",
              "      <td>True</td>\n",
              "      <td>True</td>\n",
              "      <td>True</td>\n",
              "      <td>True</td>\n",
              "      <td>True</td>\n",
              "      <td>True</td>\n",
              "      <td>True</td>\n",
              "      <td>True</td>\n",
              "      <td>True</td>\n",
              "      <td>True</td>\n",
              "      <td>True</td>\n",
              "      <td>True</td>\n",
              "      <td>True</td>\n",
              "      <td>True</td>\n",
              "      <td>True</td>\n",
              "      <td>True</td>\n",
              "      <td>True</td>\n",
              "      <td>True</td>\n",
              "      <td>True</td>\n",
              "      <td>True</td>\n",
              "      <td>True</td>\n",
              "      <td>True</td>\n",
              "      <td>True</td>\n",
              "      <td>True</td>\n",
              "      <td>True</td>\n",
              "      <td>True</td>\n",
              "      <td>True</td>\n",
              "      <td>True</td>\n",
              "      <td>True</td>\n",
              "      <td>True</td>\n",
              "      <td>True</td>\n",
              "      <td>True</td>\n",
              "      <td>True</td>\n",
              "      <td>True</td>\n",
              "      <td>True</td>\n",
              "      <td>True</td>\n",
              "      <td>True</td>\n",
              "      <td>True</td>\n",
              "      <td>True</td>\n",
              "      <td>True</td>\n",
              "      <td>True</td>\n",
              "      <td>True</td>\n",
              "      <td>True</td>\n",
              "      <td>False</td>\n",
              "      <td>False</td>\n",
              "      <td>False</td>\n",
              "      <td>False</td>\n",
              "      <td>False</td>\n",
              "      <td>False</td>\n",
              "      <td>False</td>\n",
              "      <td>False</td>\n",
              "      <td>False</td>\n",
              "      <td>False</td>\n",
              "      <td>False</td>\n",
              "      <td>-0.5771</td>\n",
              "      <td>-0.0459</td>\n",
              "      <td>-0.9299</td>\n",
              "      <td>-1.0932</td>\n",
              "      <td>-0.8490</td>\n",
              "      <td>-0.8100</td>\n",
              "      <td>1.6266</td>\n",
              "      <td>-0.4534</td>\n",
              "      <td>1.3665</td>\n",
              "      <td>1.6210</td>\n",
              "      <td>-0.1459</td>\n",
              "      <td>-0.1677</td>\n",
              "      <td>-0.1030</td>\n",
              "      <td>-0.0628</td>\n",
              "      <td>-1.8422</td>\n",
              "      <td>-0.5194</td>\n",
              "      <td>-2.4133</td>\n",
              "      <td>-0.1892</td>\n",
              "      <td>-0.0939</td>\n",
              "      <td>0.0469</td>\n",
              "      <td>0.0146</td>\n",
              "      <td>-0.1653</td>\n",
              "      <td>-0.3683</td>\n",
              "      <td>-0.0828</td>\n",
              "      <td>-0.2798</td>\n",
              "      <td>-0.0819</td>\n",
              "      <td>-0.1406</td>\n",
              "      <td>-0.1488</td>\n",
              "      <td>-0.2049</td>\n",
              "      <td>-0.1003</td>\n",
              "      <td>-0.2308</td>\n",
              "      <td>-0.1921</td>\n",
              "      <td>-0.0979</td>\n",
              "      <td>0.0504</td>\n",
              "      <td>0.0277</td>\n",
              "      <td>-0.1683</td>\n",
              "      <td>-0.3557</td>\n",
              "      <td>-0.0507</td>\n",
              "      <td>-0.2640</td>\n",
              "      <td>-0.0690</td>\n",
              "      <td>-0.1466</td>\n",
              "      <td>-0.1590</td>\n",
              "      <td>-0.2024</td>\n",
              "      <td>-0.0950</td>\n",
              "      <td>-0.2383</td>\n",
              "      <td>-0.1975</td>\n",
              "      <td>-0.0934</td>\n",
              "      <td>0.0461</td>\n",
              "      <td>0.0149</td>\n",
              "      <td>-0.1663</td>\n",
              "      <td>-0.3651</td>\n",
              "      <td>-0.0789</td>\n",
              "      <td>-0.2774</td>\n",
              "      <td>-0.0807</td>\n",
              "      <td>-0.1414</td>\n",
              "      <td>-0.1509</td>\n",
              "      <td>-0.2066</td>\n",
              "      <td>-0.0992</td>\n",
              "      <td>-0.2329</td>\n",
              "      <td>-0.2205</td>\n",
              "      <td>-0.5893</td>\n",
              "      <td>-0.3202</td>\n",
              "      <td>-0.5874</td>\n",
              "      <td>-0.2756</td>\n",
              "      <td>1.0545</td>\n",
              "      <td>-0.0710</td>\n",
              "      <td>-0.0585</td>\n",
              "      <td>-0.1555</td>\n",
              "      <td>-0.2692</td>\n",
              "      <td>2.3296</td>\n",
              "      <td>-1.0053</td>\n",
              "      <td>0</td>\n",
              "    </tr>\n",
              "    <tr>\n",
              "      <td>0</td>\n",
              "      <td>Cash loans</td>\n",
              "      <td>F</td>\n",
              "      <td>N</td>\n",
              "      <td>Y</td>\n",
              "      <td>Unaccompanied</td>\n",
              "      <td>Working</td>\n",
              "      <td>Secondary / secondary special</td>\n",
              "      <td>Separated</td>\n",
              "      <td>House / apartment</td>\n",
              "      <td>1</td>\n",
              "      <td>1</td>\n",
              "      <td>0</td>\n",
              "      <td>1</td>\n",
              "      <td>0</td>\n",
              "      <td>0</td>\n",
              "      <td>Sales staff</td>\n",
              "      <td>MONDAY</td>\n",
              "      <td>14</td>\n",
              "      <td>0</td>\n",
              "      <td>0</td>\n",
              "      <td>0</td>\n",
              "      <td>0</td>\n",
              "      <td>0</td>\n",
              "      <td>0</td>\n",
              "      <td>Business Entity Type 3</td>\n",
              "      <td>#na#</td>\n",
              "      <td>#na#</td>\n",
              "      <td>#na#</td>\n",
              "      <td>#na#</td>\n",
              "      <td>0</td>\n",
              "      <td>1</td>\n",
              "      <td>0</td>\n",
              "      <td>0</td>\n",
              "      <td>0</td>\n",
              "      <td>0</td>\n",
              "      <td>0</td>\n",
              "      <td>0</td>\n",
              "      <td>0</td>\n",
              "      <td>0</td>\n",
              "      <td>0</td>\n",
              "      <td>0</td>\n",
              "      <td>0</td>\n",
              "      <td>0</td>\n",
              "      <td>0</td>\n",
              "      <td>0</td>\n",
              "      <td>0</td>\n",
              "      <td>0</td>\n",
              "      <td>0</td>\n",
              "      <td>0</td>\n",
              "      <td>False</td>\n",
              "      <td>False</td>\n",
              "      <td>True</td>\n",
              "      <td>False</td>\n",
              "      <td>False</td>\n",
              "      <td>False</td>\n",
              "      <td>False</td>\n",
              "      <td>True</td>\n",
              "      <td>True</td>\n",
              "      <td>True</td>\n",
              "      <td>True</td>\n",
              "      <td>True</td>\n",
              "      <td>True</td>\n",
              "      <td>True</td>\n",
              "      <td>True</td>\n",
              "      <td>True</td>\n",
              "      <td>True</td>\n",
              "      <td>True</td>\n",
              "      <td>True</td>\n",
              "      <td>True</td>\n",
              "      <td>True</td>\n",
              "      <td>True</td>\n",
              "      <td>True</td>\n",
              "      <td>True</td>\n",
              "      <td>True</td>\n",
              "      <td>True</td>\n",
              "      <td>True</td>\n",
              "      <td>True</td>\n",
              "      <td>True</td>\n",
              "      <td>True</td>\n",
              "      <td>True</td>\n",
              "      <td>True</td>\n",
              "      <td>True</td>\n",
              "      <td>True</td>\n",
              "      <td>True</td>\n",
              "      <td>True</td>\n",
              "      <td>True</td>\n",
              "      <td>True</td>\n",
              "      <td>True</td>\n",
              "      <td>True</td>\n",
              "      <td>True</td>\n",
              "      <td>True</td>\n",
              "      <td>True</td>\n",
              "      <td>True</td>\n",
              "      <td>True</td>\n",
              "      <td>True</td>\n",
              "      <td>True</td>\n",
              "      <td>True</td>\n",
              "      <td>True</td>\n",
              "      <td>True</td>\n",
              "      <td>False</td>\n",
              "      <td>False</td>\n",
              "      <td>False</td>\n",
              "      <td>False</td>\n",
              "      <td>False</td>\n",
              "      <td>False</td>\n",
              "      <td>False</td>\n",
              "      <td>False</td>\n",
              "      <td>False</td>\n",
              "      <td>False</td>\n",
              "      <td>False</td>\n",
              "      <td>-0.5771</td>\n",
              "      <td>0.0087</td>\n",
              "      <td>-0.7086</td>\n",
              "      <td>-0.9063</td>\n",
              "      <td>-0.8490</td>\n",
              "      <td>1.0791</td>\n",
              "      <td>0.3575</td>\n",
              "      <td>-0.4718</td>\n",
              "      <td>0.0054</td>\n",
              "      <td>-1.3165</td>\n",
              "      <td>-0.1459</td>\n",
              "      <td>-1.2647</td>\n",
              "      <td>-0.1030</td>\n",
              "      <td>-0.0628</td>\n",
              "      <td>-0.8340</td>\n",
              "      <td>0.9648</td>\n",
              "      <td>0.6226</td>\n",
              "      <td>-0.1892</td>\n",
              "      <td>-0.0939</td>\n",
              "      <td>0.0469</td>\n",
              "      <td>0.0146</td>\n",
              "      <td>-0.1653</td>\n",
              "      <td>-0.3683</td>\n",
              "      <td>-0.0828</td>\n",
              "      <td>-0.2798</td>\n",
              "      <td>-0.0819</td>\n",
              "      <td>-0.1406</td>\n",
              "      <td>-0.1488</td>\n",
              "      <td>-0.2049</td>\n",
              "      <td>-0.1003</td>\n",
              "      <td>-0.2308</td>\n",
              "      <td>-0.1921</td>\n",
              "      <td>-0.0979</td>\n",
              "      <td>0.0504</td>\n",
              "      <td>0.0277</td>\n",
              "      <td>-0.1683</td>\n",
              "      <td>-0.3557</td>\n",
              "      <td>-0.0507</td>\n",
              "      <td>-0.2640</td>\n",
              "      <td>-0.0690</td>\n",
              "      <td>-0.1466</td>\n",
              "      <td>-0.1590</td>\n",
              "      <td>-0.2024</td>\n",
              "      <td>-0.0950</td>\n",
              "      <td>-0.2383</td>\n",
              "      <td>-0.1975</td>\n",
              "      <td>-0.0934</td>\n",
              "      <td>0.0461</td>\n",
              "      <td>0.0149</td>\n",
              "      <td>-0.1663</td>\n",
              "      <td>-0.3651</td>\n",
              "      <td>-0.0789</td>\n",
              "      <td>-0.2774</td>\n",
              "      <td>-0.0807</td>\n",
              "      <td>-0.1414</td>\n",
              "      <td>-0.1509</td>\n",
              "      <td>-0.2066</td>\n",
              "      <td>-0.0992</td>\n",
              "      <td>-0.2329</td>\n",
              "      <td>-0.2205</td>\n",
              "      <td>-0.1738</td>\n",
              "      <td>-0.3202</td>\n",
              "      <td>-0.1682</td>\n",
              "      <td>-0.2756</td>\n",
              "      <td>-1.3285</td>\n",
              "      <td>-0.0710</td>\n",
              "      <td>-0.0585</td>\n",
              "      <td>-0.1555</td>\n",
              "      <td>-0.2692</td>\n",
              "      <td>-0.3019</td>\n",
              "      <td>1.8288</td>\n",
              "      <td>0</td>\n",
              "    </tr>\n",
              "    <tr>\n",
              "      <td>0</td>\n",
              "      <td>Cash loans</td>\n",
              "      <td>F</td>\n",
              "      <td>N</td>\n",
              "      <td>Y</td>\n",
              "      <td>Unaccompanied</td>\n",
              "      <td>Pensioner</td>\n",
              "      <td>Lower secondary</td>\n",
              "      <td>Married</td>\n",
              "      <td>House / apartment</td>\n",
              "      <td>1</td>\n",
              "      <td>0</td>\n",
              "      <td>0</td>\n",
              "      <td>1</td>\n",
              "      <td>0</td>\n",
              "      <td>0</td>\n",
              "      <td>#na#</td>\n",
              "      <td>THURSDAY</td>\n",
              "      <td>9</td>\n",
              "      <td>0</td>\n",
              "      <td>0</td>\n",
              "      <td>0</td>\n",
              "      <td>0</td>\n",
              "      <td>0</td>\n",
              "      <td>0</td>\n",
              "      <td>XNA</td>\n",
              "      <td>#na#</td>\n",
              "      <td>#na#</td>\n",
              "      <td>#na#</td>\n",
              "      <td>#na#</td>\n",
              "      <td>0</td>\n",
              "      <td>0</td>\n",
              "      <td>0</td>\n",
              "      <td>0</td>\n",
              "      <td>1</td>\n",
              "      <td>0</td>\n",
              "      <td>0</td>\n",
              "      <td>0</td>\n",
              "      <td>0</td>\n",
              "      <td>0</td>\n",
              "      <td>0</td>\n",
              "      <td>0</td>\n",
              "      <td>0</td>\n",
              "      <td>0</td>\n",
              "      <td>0</td>\n",
              "      <td>0</td>\n",
              "      <td>0</td>\n",
              "      <td>0</td>\n",
              "      <td>0</td>\n",
              "      <td>0</td>\n",
              "      <td>False</td>\n",
              "      <td>False</td>\n",
              "      <td>True</td>\n",
              "      <td>False</td>\n",
              "      <td>False</td>\n",
              "      <td>False</td>\n",
              "      <td>False</td>\n",
              "      <td>True</td>\n",
              "      <td>True</td>\n",
              "      <td>True</td>\n",
              "      <td>True</td>\n",
              "      <td>True</td>\n",
              "      <td>True</td>\n",
              "      <td>True</td>\n",
              "      <td>True</td>\n",
              "      <td>True</td>\n",
              "      <td>True</td>\n",
              "      <td>True</td>\n",
              "      <td>True</td>\n",
              "      <td>True</td>\n",
              "      <td>True</td>\n",
              "      <td>True</td>\n",
              "      <td>True</td>\n",
              "      <td>True</td>\n",
              "      <td>True</td>\n",
              "      <td>True</td>\n",
              "      <td>True</td>\n",
              "      <td>True</td>\n",
              "      <td>True</td>\n",
              "      <td>True</td>\n",
              "      <td>True</td>\n",
              "      <td>True</td>\n",
              "      <td>True</td>\n",
              "      <td>True</td>\n",
              "      <td>True</td>\n",
              "      <td>True</td>\n",
              "      <td>True</td>\n",
              "      <td>True</td>\n",
              "      <td>True</td>\n",
              "      <td>True</td>\n",
              "      <td>True</td>\n",
              "      <td>True</td>\n",
              "      <td>True</td>\n",
              "      <td>True</td>\n",
              "      <td>True</td>\n",
              "      <td>True</td>\n",
              "      <td>True</td>\n",
              "      <td>True</td>\n",
              "      <td>True</td>\n",
              "      <td>True</td>\n",
              "      <td>False</td>\n",
              "      <td>False</td>\n",
              "      <td>False</td>\n",
              "      <td>False</td>\n",
              "      <td>False</td>\n",
              "      <td>False</td>\n",
              "      <td>False</td>\n",
              "      <td>False</td>\n",
              "      <td>False</td>\n",
              "      <td>False</td>\n",
              "      <td>False</td>\n",
              "      <td>-0.5771</td>\n",
              "      <td>0.3179</td>\n",
              "      <td>-0.5564</td>\n",
              "      <td>-0.2070</td>\n",
              "      <td>-0.6541</td>\n",
              "      <td>-1.2324</td>\n",
              "      <td>-1.3725</td>\n",
              "      <td>2.1335</td>\n",
              "      <td>-2.1323</td>\n",
              "      <td>-0.9105</td>\n",
              "      <td>-0.1459</td>\n",
              "      <td>-0.1677</td>\n",
              "      <td>-0.1030</td>\n",
              "      <td>-0.0628</td>\n",
              "      <td>2.7154</td>\n",
              "      <td>-1.3421</td>\n",
              "      <td>-0.0126</td>\n",
              "      <td>-0.1892</td>\n",
              "      <td>-0.0939</td>\n",
              "      <td>0.0469</td>\n",
              "      <td>0.0146</td>\n",
              "      <td>-0.1653</td>\n",
              "      <td>-0.3683</td>\n",
              "      <td>-0.0828</td>\n",
              "      <td>-0.2798</td>\n",
              "      <td>-0.0819</td>\n",
              "      <td>-0.1406</td>\n",
              "      <td>-0.1488</td>\n",
              "      <td>-0.2049</td>\n",
              "      <td>-0.1003</td>\n",
              "      <td>-0.2308</td>\n",
              "      <td>-0.1921</td>\n",
              "      <td>-0.0979</td>\n",
              "      <td>0.0504</td>\n",
              "      <td>0.0277</td>\n",
              "      <td>-0.1683</td>\n",
              "      <td>-0.3557</td>\n",
              "      <td>-0.0507</td>\n",
              "      <td>-0.2640</td>\n",
              "      <td>-0.0690</td>\n",
              "      <td>-0.1466</td>\n",
              "      <td>-0.1590</td>\n",
              "      <td>-0.2024</td>\n",
              "      <td>-0.0950</td>\n",
              "      <td>-0.2383</td>\n",
              "      <td>-0.1975</td>\n",
              "      <td>-0.0934</td>\n",
              "      <td>0.0461</td>\n",
              "      <td>0.0149</td>\n",
              "      <td>-0.1663</td>\n",
              "      <td>-0.3651</td>\n",
              "      <td>-0.0789</td>\n",
              "      <td>-0.2774</td>\n",
              "      <td>-0.0807</td>\n",
              "      <td>-0.1414</td>\n",
              "      <td>-0.1509</td>\n",
              "      <td>-0.2066</td>\n",
              "      <td>-0.0992</td>\n",
              "      <td>-0.2329</td>\n",
              "      <td>-0.2205</td>\n",
              "      <td>0.2418</td>\n",
              "      <td>-0.3202</td>\n",
              "      <td>-0.1682</td>\n",
              "      <td>-0.2756</td>\n",
              "      <td>-1.6489</td>\n",
              "      <td>-0.0710</td>\n",
              "      <td>-0.0585</td>\n",
              "      <td>-0.1555</td>\n",
              "      <td>-0.2692</td>\n",
              "      <td>-0.3019</td>\n",
              "      <td>0.6952</td>\n",
              "      <td>0</td>\n",
              "    </tr>\n",
              "    <tr>\n",
              "      <td>0</td>\n",
              "      <td>Cash loans</td>\n",
              "      <td>M</td>\n",
              "      <td>N</td>\n",
              "      <td>Y</td>\n",
              "      <td>Unaccompanied</td>\n",
              "      <td>Working</td>\n",
              "      <td>Higher education</td>\n",
              "      <td>Civil marriage</td>\n",
              "      <td>House / apartment</td>\n",
              "      <td>1</td>\n",
              "      <td>1</td>\n",
              "      <td>0</td>\n",
              "      <td>1</td>\n",
              "      <td>0</td>\n",
              "      <td>0</td>\n",
              "      <td>Managers</td>\n",
              "      <td>TUESDAY</td>\n",
              "      <td>10</td>\n",
              "      <td>0</td>\n",
              "      <td>0</td>\n",
              "      <td>0</td>\n",
              "      <td>0</td>\n",
              "      <td>1</td>\n",
              "      <td>1</td>\n",
              "      <td>Industry: type 3</td>\n",
              "      <td>#na#</td>\n",
              "      <td>#na#</td>\n",
              "      <td>#na#</td>\n",
              "      <td>#na#</td>\n",
              "      <td>0</td>\n",
              "      <td>1</td>\n",
              "      <td>0</td>\n",
              "      <td>0</td>\n",
              "      <td>0</td>\n",
              "      <td>0</td>\n",
              "      <td>0</td>\n",
              "      <td>0</td>\n",
              "      <td>0</td>\n",
              "      <td>0</td>\n",
              "      <td>0</td>\n",
              "      <td>0</td>\n",
              "      <td>0</td>\n",
              "      <td>0</td>\n",
              "      <td>0</td>\n",
              "      <td>0</td>\n",
              "      <td>0</td>\n",
              "      <td>0</td>\n",
              "      <td>0</td>\n",
              "      <td>0</td>\n",
              "      <td>False</td>\n",
              "      <td>False</td>\n",
              "      <td>True</td>\n",
              "      <td>False</td>\n",
              "      <td>True</td>\n",
              "      <td>False</td>\n",
              "      <td>False</td>\n",
              "      <td>True</td>\n",
              "      <td>True</td>\n",
              "      <td>True</td>\n",
              "      <td>True</td>\n",
              "      <td>True</td>\n",
              "      <td>True</td>\n",
              "      <td>True</td>\n",
              "      <td>True</td>\n",
              "      <td>True</td>\n",
              "      <td>True</td>\n",
              "      <td>True</td>\n",
              "      <td>True</td>\n",
              "      <td>True</td>\n",
              "      <td>True</td>\n",
              "      <td>True</td>\n",
              "      <td>True</td>\n",
              "      <td>True</td>\n",
              "      <td>True</td>\n",
              "      <td>True</td>\n",
              "      <td>True</td>\n",
              "      <td>True</td>\n",
              "      <td>True</td>\n",
              "      <td>True</td>\n",
              "      <td>True</td>\n",
              "      <td>True</td>\n",
              "      <td>True</td>\n",
              "      <td>True</td>\n",
              "      <td>True</td>\n",
              "      <td>True</td>\n",
              "      <td>True</td>\n",
              "      <td>True</td>\n",
              "      <td>True</td>\n",
              "      <td>True</td>\n",
              "      <td>True</td>\n",
              "      <td>True</td>\n",
              "      <td>True</td>\n",
              "      <td>True</td>\n",
              "      <td>True</td>\n",
              "      <td>True</td>\n",
              "      <td>True</td>\n",
              "      <td>True</td>\n",
              "      <td>True</td>\n",
              "      <td>True</td>\n",
              "      <td>False</td>\n",
              "      <td>False</td>\n",
              "      <td>False</td>\n",
              "      <td>False</td>\n",
              "      <td>False</td>\n",
              "      <td>False</td>\n",
              "      <td>False</td>\n",
              "      <td>False</td>\n",
              "      <td>False</td>\n",
              "      <td>False</td>\n",
              "      <td>False</td>\n",
              "      <td>-0.5771</td>\n",
              "      <td>-0.1368</td>\n",
              "      <td>-0.9299</td>\n",
              "      <td>-0.8199</td>\n",
              "      <td>-0.8490</td>\n",
              "      <td>1.0791</td>\n",
              "      <td>-0.9228</td>\n",
              "      <td>-0.4684</td>\n",
              "      <td>0.0281</td>\n",
              "      <td>1.5442</td>\n",
              "      <td>-0.1459</td>\n",
              "      <td>-0.1677</td>\n",
              "      <td>-0.1030</td>\n",
              "      <td>-0.0628</td>\n",
              "      <td>0.0119</td>\n",
              "      <td>0.9281</td>\n",
              "      <td>0.4556</td>\n",
              "      <td>-0.1892</td>\n",
              "      <td>-0.0939</td>\n",
              "      <td>0.0469</td>\n",
              "      <td>0.0146</td>\n",
              "      <td>-0.1653</td>\n",
              "      <td>-0.3683</td>\n",
              "      <td>-0.0828</td>\n",
              "      <td>-0.2798</td>\n",
              "      <td>-0.0819</td>\n",
              "      <td>-0.1406</td>\n",
              "      <td>-0.1488</td>\n",
              "      <td>-0.2049</td>\n",
              "      <td>-0.1003</td>\n",
              "      <td>-0.2308</td>\n",
              "      <td>-0.1921</td>\n",
              "      <td>-0.0979</td>\n",
              "      <td>0.0504</td>\n",
              "      <td>0.0277</td>\n",
              "      <td>-0.1683</td>\n",
              "      <td>-0.3557</td>\n",
              "      <td>-0.0507</td>\n",
              "      <td>-0.2640</td>\n",
              "      <td>-0.0690</td>\n",
              "      <td>-0.1466</td>\n",
              "      <td>-0.1590</td>\n",
              "      <td>-0.2024</td>\n",
              "      <td>-0.0950</td>\n",
              "      <td>-0.2383</td>\n",
              "      <td>-0.1975</td>\n",
              "      <td>-0.0934</td>\n",
              "      <td>0.0461</td>\n",
              "      <td>0.0149</td>\n",
              "      <td>-0.1663</td>\n",
              "      <td>-0.3651</td>\n",
              "      <td>-0.0789</td>\n",
              "      <td>-0.2774</td>\n",
              "      <td>-0.0807</td>\n",
              "      <td>-0.1414</td>\n",
              "      <td>-0.1509</td>\n",
              "      <td>-0.2066</td>\n",
              "      <td>-0.0992</td>\n",
              "      <td>-0.2329</td>\n",
              "      <td>-0.2205</td>\n",
              "      <td>-0.5893</td>\n",
              "      <td>-0.3202</td>\n",
              "      <td>-0.5874</td>\n",
              "      <td>-0.2756</td>\n",
              "      <td>-1.6368</td>\n",
              "      <td>-0.0710</td>\n",
              "      <td>-0.0585</td>\n",
              "      <td>-0.1555</td>\n",
              "      <td>-0.2692</td>\n",
              "      <td>-0.3019</td>\n",
              "      <td>-1.0053</td>\n",
              "      <td>0</td>\n",
              "    </tr>\n",
              "  </tbody>\n",
              "</table>"
            ],
            "text/plain": [
              "<IPython.core.display.HTML object>"
            ]
          },
          "metadata": {
            "tags": []
          }
        }
      ]
    },
    {
      "cell_type": "code",
      "metadata": {
        "id": "5S9-npZugcPc",
        "outputId": "fc953ba7-5ccf-4340-b0a6-0950c0adda47",
        "colab": {
          "base_uri": "https://localhost:8080/",
          "height": 34
        }
      },
      "source": [
        "target"
      ],
      "execution_count": 50,
      "outputs": [
        {
          "output_type": "execute_result",
          "data": {
            "text/plain": [
              "fastai.tabular.data.TabularDataBunch"
            ]
          },
          "metadata": {
            "tags": []
          },
          "execution_count": 50
        }
      ]
    },
    {
      "cell_type": "code",
      "metadata": {
        "id": "xz02CLqqgcGZ"
      },
      "source": [
        "learn = tabular_learner(data, layers=[200,100], metrics=[accuracy])"
      ],
      "execution_count": 55,
      "outputs": []
    },
    {
      "cell_type": "code",
      "metadata": {
        "id": "grXLit9o8fe5"
      },
      "source": [
        "precision = Precision()\n",
        "recall = Recall()\n",
        "learn2 = tabular_learner(data, layers=[200,100], metrics=[accuracy, recall, precision])"
      ],
      "execution_count": 63,
      "outputs": []
    },
    {
      "cell_type": "code",
      "metadata": {
        "id": "dFxssstlkcce",
        "outputId": "d85dc042-ae48-43d6-c4ce-c5849a1dadef",
        "colab": {
          "base_uri": "https://localhost:8080/",
          "height": 111
        }
      },
      "source": [
        "learn.lr_find()"
      ],
      "execution_count": 56,
      "outputs": [
        {
          "output_type": "display_data",
          "data": {
            "text/html": [
              "\n",
              "    <div>\n",
              "        <style>\n",
              "            /* Turns off some styling */\n",
              "            progress {\n",
              "                /* gets rid of default border in Firefox and Opera. */\n",
              "                border: none;\n",
              "                /* Needs to be in here for Safari polyfill so background images work as expected. */\n",
              "                background-size: auto;\n",
              "            }\n",
              "            .progress-bar-interrupted, .progress-bar-interrupted::-webkit-progress-bar {\n",
              "                background: #F44336;\n",
              "            }\n",
              "        </style>\n",
              "      <progress value='0' class='' max='1' style='width:300px; height:20px; vertical-align: middle;'></progress>\n",
              "      0.00% [0/1 00:00<00:00]\n",
              "    </div>\n",
              "    \n",
              "<table border=\"1\" class=\"dataframe\">\n",
              "  <thead>\n",
              "    <tr style=\"text-align: left;\">\n",
              "      <th>epoch</th>\n",
              "      <th>train_loss</th>\n",
              "      <th>valid_loss</th>\n",
              "      <th>accuracy</th>\n",
              "      <th>time</th>\n",
              "    </tr>\n",
              "  </thead>\n",
              "  <tbody>\n",
              "  </tbody>\n",
              "</table><p>\n",
              "\n",
              "    <div>\n",
              "        <style>\n",
              "            /* Turns off some styling */\n",
              "            progress {\n",
              "                /* gets rid of default border in Firefox and Opera. */\n",
              "                border: none;\n",
              "                /* Needs to be in here for Safari polyfill so background images work as expected. */\n",
              "                background-size: auto;\n",
              "            }\n",
              "            .progress-bar-interrupted, .progress-bar-interrupted::-webkit-progress-bar {\n",
              "                background: #F44336;\n",
              "            }\n",
              "        </style>\n",
              "      <progress value='90' class='' max='4336' style='width:300px; height:20px; vertical-align: middle;'></progress>\n",
              "      2.08% [90/4336 00:03<02:38 0.4132]\n",
              "    </div>\n",
              "    "
            ],
            "text/plain": [
              "<IPython.core.display.HTML object>"
            ]
          },
          "metadata": {
            "tags": []
          }
        },
        {
          "output_type": "stream",
          "text": [
            "LR Finder is complete, type {learner_name}.recorder.plot() to see the graph.\n"
          ],
          "name": "stdout"
        }
      ]
    },
    {
      "cell_type": "code",
      "metadata": {
        "id": "rkw9yIUalDGa",
        "outputId": "674bb19d-e6f6-43ae-b01b-e9a7f310b2af",
        "colab": {
          "base_uri": "https://localhost:8080/",
          "height": 606
        }
      },
      "source": [
        "learn.recorder.plot()"
      ],
      "execution_count": 57,
      "outputs": [
        {
          "output_type": "display_data",
          "data": {
            "image/png": "[encoded data removed]",
            "text/plain": [
              "<Figure size 864x720 with 1 Axes>"
            ]
          },
          "metadata": {
            "tags": [],
            "needs_background": "light"
          }
        }
      ]
    },
    {
      "cell_type": "code",
      "metadata": {
        "id": "JCpxvXXHlMxj",
        "outputId": "e80e5bdd-42a0-482f-83e4-adc119732d7a",
        "colab": {
          "base_uri": "https://localhost:8080/",
          "height": 110
        }
      },
      "source": [
        "learn.fit(2, 4e-2)"
      ],
      "execution_count": 58,
      "outputs": [
        {
          "output_type": "display_data",
          "data": {
            "text/html": [
              "<table border=\"1\" class=\"dataframe\">\n",
              "  <thead>\n",
              "    <tr style=\"text-align: left;\">\n",
              "      <th>epoch</th>\n",
              "      <th>train_loss</th>\n",
              "      <th>valid_loss</th>\n",
              "      <th>accuracy</th>\n",
              "      <th>time</th>\n",
              "    </tr>\n",
              "  </thead>\n",
              "  <tbody>\n",
              "    <tr>\n",
              "      <td>0</td>\n",
              "      <td>0.000023</td>\n",
              "      <td>541.672546</td>\n",
              "      <td>0.996733</td>\n",
              "      <td>02:42</td>\n",
              "    </tr>\n",
              "    <tr>\n",
              "      <td>1</td>\n",
              "      <td>0.000204</td>\n",
              "      <td>5.614968</td>\n",
              "      <td>0.999333</td>\n",
              "      <td>02:43</td>\n",
              "    </tr>\n",
              "  </tbody>\n",
              "</table>"
            ],
            "text/plain": [
              "<IPython.core.display.HTML object>"
            ]
          },
          "metadata": {
            "tags": []
          }
        }
      ]
    },
    {
      "cell_type": "code",
      "metadata": {
        "id": "7LkKqUUU8lUw",
        "outputId": "b9c2b6ec-af2d-4720-f438-ae67a72a02d5",
        "colab": {
          "base_uri": "https://localhost:8080/",
          "height": 110
        }
      },
      "source": [
        "learn2.fit(2, 4e-2)"
      ],
      "execution_count": 64,
      "outputs": [
        {
          "output_type": "display_data",
          "data": {
            "text/html": [
              "<table border=\"1\" class=\"dataframe\">\n",
              "  <thead>\n",
              "    <tr style=\"text-align: left;\">\n",
              "      <th>epoch</th>\n",
              "      <th>train_loss</th>\n",
              "      <th>valid_loss</th>\n",
              "      <th>accuracy</th>\n",
              "      <th>recall</th>\n",
              "      <th>precision</th>\n",
              "      <th>time</th>\n",
              "    </tr>\n",
              "  </thead>\n",
              "  <tbody>\n",
              "    <tr>\n",
              "      <td>0</td>\n",
              "      <td>0.035390</td>\n",
              "      <td>973.747437</td>\n",
              "      <td>0.995867</td>\n",
              "      <td>0.992905</td>\n",
              "      <td>0.956959</td>\n",
              "      <td>02:41</td>\n",
              "    </tr>\n",
              "    <tr>\n",
              "      <td>1</td>\n",
              "      <td>0.000001</td>\n",
              "      <td>99.197350</td>\n",
              "      <td>0.997633</td>\n",
              "      <td>1.000000</td>\n",
              "      <td>0.971220</td>\n",
              "      <td>02:43</td>\n",
              "    </tr>\n",
              "  </tbody>\n",
              "</table>"
            ],
            "text/plain": [
              "<IPython.core.display.HTML object>"
            ]
          },
          "metadata": {
            "tags": []
          }
        }
      ]
    },
    {
      "cell_type": "markdown",
      "metadata": {
        "id": "eB-edGoBFsz9"
      },
      "source": [
        "With 5 minutes of training, we are getting close to perfect recall, with 97% precision on the training set."
      ]
    },
    {
      "cell_type": "code",
      "metadata": {
        "id": "MTHGvtoWA_V-",
        "outputId": "30b405e2-3f23-46ab-9d0d-85588d93bb2d",
        "colab": {
          "base_uri": "https://localhost:8080/",
          "height": 17
        }
      },
      "source": [
        "interp = ClassificationInterpretation.from_learner(learn)\n",
        "interp2 = ClassificationInterpretation.from_learner(learn2)"
      ],
      "execution_count": 68,
      "outputs": [
        {
          "output_type": "display_data",
          "data": {
            "text/html": [
              ""
            ],
            "text/plain": [
              "<IPython.core.display.HTML object>"
            ]
          },
          "metadata": {
            "tags": []
          }
        },
        {
          "output_type": "display_data",
          "data": {
            "text/html": [
              ""
            ],
            "text/plain": [
              "<IPython.core.display.HTML object>"
            ]
          },
          "metadata": {
            "tags": []
          }
        }
      ]
    },
    {
      "cell_type": "code",
      "metadata": {
        "id": "Y8JlAP-fDZY_",
        "outputId": "9705fd9b-467b-44a0-d1bc-93f3c07904da",
        "colab": {
          "base_uri": "https://localhost:8080/",
          "height": 51
        }
      },
      "source": [
        "interp.confusion_matrix()"
      ],
      "execution_count": 72,
      "outputs": [
        {
          "output_type": "execute_result",
          "data": {
            "text/plain": [
              "array([[27590,    14],\n",
              "       [    6,  2390]])"
            ]
          },
          "metadata": {
            "tags": []
          },
          "execution_count": 72
        }
      ]
    },
    {
      "cell_type": "code",
      "metadata": {
        "id": "c-7-qvjHEK2w",
        "outputId": "a1c22b87-afe1-473c-9eb6-00b8470e3c0d",
        "colab": {
          "base_uri": "https://localhost:8080/",
          "height": 51
        }
      },
      "source": [
        "interp2.confusion_matrix()"
      ],
      "execution_count": 75,
      "outputs": [
        {
          "output_type": "execute_result",
          "data": {
            "text/plain": [
              "array([[27533,    71],\n",
              "       [    0,  2396]])"
            ]
          },
          "metadata": {
            "tags": []
          },
          "execution_count": 75
        }
      ]
    },
    {
      "cell_type": "markdown",
      "metadata": {
        "id": "yHii0vCfGYyE"
      },
      "source": [
        "The model seems to be very good in predicting default class."
      ]
    },
    {
      "cell_type": "code",
      "metadata": {
        "id": "-sIzkaXYEqFo"
      },
      "source": [
        "learn.save('HC_Deep_1')\n",
        "learn2.save('HC_Deep_2')"
      ],
      "execution_count": 77,
      "outputs": []
    },
    {
      "cell_type": "code",
      "metadata": {
        "id": "iopS24VPF7LM",
        "outputId": "f224e514-ee66-49ba-e0f0-ca1e0949666d",
        "colab": {
          "base_uri": "https://localhost:8080/",
          "height": 34
        }
      },
      "source": [
        "row = df.iloc[577]\n",
        "pred = learn.predict(row)\n",
        "pred"
      ],
      "execution_count": 80,
      "outputs": [
        {
          "output_type": "execute_result",
          "data": {
            "text/plain": [
              "(Category tensor(0), tensor(0), tensor([1.0000e+00, 7.7201e-28]))"
            ]
          },
          "metadata": {
            "tags": []
          },
          "execution_count": 80
        }
      ]
    },
    {
      "cell_type": "code",
      "metadata": {
        "id": "s9_E3JWuGGzV",
        "outputId": "cb128ac9-7baa-4bf5-ddea-d7d1069555b1",
        "colab": {
          "base_uri": "https://localhost:8080/",
          "height": 34
        }
      },
      "source": [
        "target[577]"
      ],
      "execution_count": 81,
      "outputs": [
        {
          "output_type": "execute_result",
          "data": {
            "text/plain": [
              "0"
            ]
          },
          "metadata": {
            "tags": []
          },
          "execution_count": 81
        }
      ]
    },
    {
      "cell_type": "markdown",
      "metadata": {
        "id": "wSLVA1RNUngP"
      },
      "source": [
        "# Using Dense layers in keras"
      ]
    },
    {
      "cell_type": "code",
      "metadata": {
        "id": "_ufjx5ipOiVf"
      },
      "source": [
        "df_cat_dummies = pd.get_dummies(df_categorical, drop_first=True)"
      ],
      "execution_count": null,
      "outputs": []
    },
    {
      "cell_type": "code",
      "metadata": {
        "id": "rOpcetN_Px6K",
        "outputId": "d26ef838-ce29-455f-e87c-d665a40d2475",
        "colab": {
          "base_uri": "https://localhost:8080/",
          "height": 34
        }
      },
      "source": [
        "df_numerical.isnull().sum().sum()"
      ],
      "execution_count": null,
      "outputs": [
        {
          "output_type": "execute_result",
          "data": {
            "text/plain": [
              "8138978"
            ]
          },
          "metadata": {
            "tags": []
          },
          "execution_count": 23
        }
      ]
    },
    {
      "cell_type": "code",
      "metadata": {
        "id": "p0U42gsqOmFM",
        "outputId": "0e983667-5cb3-4881-95c5-51737cf796e1",
        "colab": {
          "base_uri": "https://localhost:8080/",
          "height": 34
        }
      },
      "source": [
        "df_cat_dummies.isnull().sum().sum()"
      ],
      "execution_count": null,
      "outputs": [
        {
          "output_type": "execute_result",
          "data": {
            "text/plain": [
              "249116"
            ]
          },
          "metadata": {
            "tags": []
          },
          "execution_count": 20
        }
      ]
    },
    {
      "cell_type": "code",
      "metadata": {
        "id": "PisGMAItPGID",
        "outputId": "e94d6929-ebf1-4bcb-93c0-ee83cad67222",
        "colab": {
          "base_uri": "https://localhost:8080/",
          "height": 34
        }
      },
      "source": [
        "df_numerical.shape, df_cat_dummies.shape"
      ],
      "execution_count": null,
      "outputs": [
        {
          "output_type": "execute_result",
          "data": {
            "text/plain": [
              "((307511, 61), (307511, 169))"
            ]
          },
          "metadata": {
            "tags": []
          },
          "execution_count": 21
        }
      ]
    },
    {
      "cell_type": "code",
      "metadata": {
        "id": "VHa7QUskPSjQ"
      },
      "source": [
        "df_concatenated = pd.concat([df_numerical, df_cat_dummies], axis=1)"
      ],
      "execution_count": null,
      "outputs": []
    },
    {
      "cell_type": "code",
      "metadata": {
        "id": "ywKAFMynSI6D",
        "outputId": "3d0b509c-9d63-46fc-dd15-b8c565b98621",
        "colab": {
          "base_uri": "https://localhost:8080/",
          "height": 34
        }
      },
      "source": [
        "df_concatenated.shape"
      ],
      "execution_count": null,
      "outputs": [
        {
          "output_type": "execute_result",
          "data": {
            "text/plain": [
              "(307511, 230)"
            ]
          },
          "metadata": {
            "tags": []
          },
          "execution_count": 30
        }
      ]
    },
    {
      "cell_type": "code",
      "metadata": {
        "id": "-jBzmD5MMdXp"
      },
      "source": [
        "df_concatenated = df_concatenated.fillna(value=0)"
      ],
      "execution_count": null,
      "outputs": []
    },
    {
      "cell_type": "code",
      "metadata": {
        "id": "H5lUcM_6TF21"
      },
      "source": [
        "target = df_concatenated['TARGET']\n",
        "df_concatenated = df_concatenated.drop('TARGET', axis=1)"
      ],
      "execution_count": null,
      "outputs": []
    },
    {
      "cell_type": "code",
      "metadata": {
        "id": "ztWYDDYsSXfj"
      },
      "source": [
        "X_train = df_concatenated.iloc[120000:,:].values\n",
        "X_val = df_concatenated.iloc[60000:120000,:].values\n",
        "X_test = df_concatenated.iloc[:60000,:].values"
      ],
      "execution_count": null,
      "outputs": []
    },
    {
      "cell_type": "code",
      "metadata": {
        "id": "wS31KdA0Tn2m"
      },
      "source": [
        "y_train = target.values[120000:]\n",
        "y_val = target.values[60000:120000]\n",
        "y_test = target.values[:60000]"
      ],
      "execution_count": null,
      "outputs": []
    },
    {
      "cell_type": "code",
      "metadata": {
        "id": "rwWZGKdoM02m",
        "outputId": "eda2991b-d366-4afa-f4c5-d7635155ce1b",
        "colab": {
          "base_uri": "https://localhost:8080/",
          "height": 34
        }
      },
      "source": [
        "from keras import models, layers"
      ],
      "execution_count": null,
      "outputs": [
        {
          "output_type": "stream",
          "text": [
            "Using TensorFlow backend.\n"
          ],
          "name": "stderr"
        }
      ]
    },
    {
      "cell_type": "code",
      "metadata": {
        "id": "6r3wQUgrQnlN"
      },
      "source": [
        "model = models.Sequential()\n",
        "model.add(layers.Dense(64, activation = 'relu'))\n",
        "model.add(layers.Dense(64, activation = 'relu'))\n",
        "model.add(layers.Dense(32, activation = 'relu'))\n",
        "model.add(layers.Dense(1, activation = 'sigmoid'))"
      ],
      "execution_count": null,
      "outputs": []
    },
    {
      "cell_type": "code",
      "metadata": {
        "id": "Pvw_QJfhRB9d",
        "outputId": "60884480-b247-4d45-82c4-b2075d74c0c0",
        "colab": {
          "base_uri": "https://localhost:8080/",
          "height": 360
        }
      },
      "source": [
        "model.compile(optimizer='rmsprop',\n",
        "              loss='binary_crossentropy',\n",
        "              metrics=['accuracy']) # need to include precision, recall in the metrics"
      ],
      "execution_count": null,
      "outputs": [
        {
          "output_type": "error",
          "ename": "ValueError",
          "evalue": "ignored",
          "traceback": [
            "\u001b[0;31m---------------------------------------------------------------------------\u001b[0m",
            "\u001b[0;31mValueError\u001b[0m                                Traceback (most recent call last)",
            "\u001b[0;32m<ipython-input-54-d7bb4acaa5da>\u001b[0m in \u001b[0;36m<module>\u001b[0;34m()\u001b[0m\n\u001b[1;32m      1\u001b[0m model.compile(optimizer='rmsprop',\n\u001b[1;32m      2\u001b[0m               \u001b[0mloss\u001b[0m\u001b[0;34m=\u001b[0m\u001b[0;34m'binary_crossentropy'\u001b[0m\u001b[0;34m,\u001b[0m\u001b[0;34m\u001b[0m\u001b[0;34m\u001b[0m\u001b[0m\n\u001b[0;32m----> 3\u001b[0;31m               metrics=['accuracy', 'precision_score'])\n\u001b[0m",
            "\u001b[0;32m/usr/local/lib/python3.6/dist-packages/keras/backend/tensorflow_backend.py\u001b[0m in \u001b[0;36msymbolic_fn_wrapper\u001b[0;34m(*args, **kwargs)\u001b[0m\n\u001b[1;32m     73\u001b[0m         \u001b[0;32mif\u001b[0m \u001b[0m_SYMBOLIC_SCOPE\u001b[0m\u001b[0;34m.\u001b[0m\u001b[0mvalue\u001b[0m\u001b[0;34m:\u001b[0m\u001b[0;34m\u001b[0m\u001b[0;34m\u001b[0m\u001b[0m\n\u001b[1;32m     74\u001b[0m             \u001b[0;32mwith\u001b[0m \u001b[0mget_graph\u001b[0m\u001b[0;34m(\u001b[0m\u001b[0;34m)\u001b[0m\u001b[0;34m.\u001b[0m\u001b[0mas_default\u001b[0m\u001b[0;34m(\u001b[0m\u001b[0;34m)\u001b[0m\u001b[0;34m:\u001b[0m\u001b[0;34m\u001b[0m\u001b[0;34m\u001b[0m\u001b[0m\n\u001b[0;32m---> 75\u001b[0;31m                 \u001b[0;32mreturn\u001b[0m \u001b[0mfunc\u001b[0m\u001b[0;34m(\u001b[0m\u001b[0;34m*\u001b[0m\u001b[0margs\u001b[0m\u001b[0;34m,\u001b[0m \u001b[0;34m**\u001b[0m\u001b[0mkwargs\u001b[0m\u001b[0;34m)\u001b[0m\u001b[0;34m\u001b[0m\u001b[0;34m\u001b[0m\u001b[0m\n\u001b[0m\u001b[1;32m     76\u001b[0m         \u001b[0;32melse\u001b[0m\u001b[0;34m:\u001b[0m\u001b[0;34m\u001b[0m\u001b[0;34m\u001b[0m\u001b[0m\n\u001b[1;32m     77\u001b[0m             \u001b[0;32mreturn\u001b[0m \u001b[0mfunc\u001b[0m\u001b[0;34m(\u001b[0m\u001b[0;34m*\u001b[0m\u001b[0margs\u001b[0m\u001b[0;34m,\u001b[0m \u001b[0;34m**\u001b[0m\u001b[0mkwargs\u001b[0m\u001b[0;34m)\u001b[0m\u001b[0;34m\u001b[0m\u001b[0;34m\u001b[0m\u001b[0m\n",
            "\u001b[0;32m/usr/local/lib/python3.6/dist-packages/keras/engine/training.py\u001b[0m in \u001b[0;36mcompile\u001b[0;34m(self, optimizer, loss, metrics, loss_weights, sample_weight_mode, weighted_metrics, target_tensors, **kwargs)\u001b[0m\n\u001b[1;32m    209\u001b[0m \u001b[0;34m\u001b[0m\u001b[0m\n\u001b[1;32m    210\u001b[0m         \u001b[0;31m# Save all metric attributes per output of the model.\u001b[0m\u001b[0;34m\u001b[0m\u001b[0;34m\u001b[0m\u001b[0;34m\u001b[0m\u001b[0m\n\u001b[0;32m--> 211\u001b[0;31m         \u001b[0mself\u001b[0m\u001b[0;34m.\u001b[0m\u001b[0m_cache_output_metric_attributes\u001b[0m\u001b[0;34m(\u001b[0m\u001b[0mmetrics\u001b[0m\u001b[0;34m,\u001b[0m \u001b[0mweighted_metrics\u001b[0m\u001b[0;34m)\u001b[0m\u001b[0;34m\u001b[0m\u001b[0;34m\u001b[0m\u001b[0m\n\u001b[0m\u001b[1;32m    212\u001b[0m \u001b[0;34m\u001b[0m\u001b[0m\n\u001b[1;32m    213\u001b[0m         \u001b[0;31m# Set metric attributes on model.\u001b[0m\u001b[0;34m\u001b[0m\u001b[0;34m\u001b[0m\u001b[0;34m\u001b[0m\u001b[0m\n",
            "\u001b[0;32m/usr/local/lib/python3.6/dist-packages/keras/engine/training.py\u001b[0m in \u001b[0;36m_cache_output_metric_attributes\u001b[0;34m(self, metrics, weighted_metrics)\u001b[0m\n\u001b[1;32m    736\u001b[0m                 \u001b[0moutput_shapes\u001b[0m\u001b[0;34m.\u001b[0m\u001b[0mappend\u001b[0m\u001b[0;34m(\u001b[0m\u001b[0mlist\u001b[0m\u001b[0;34m(\u001b[0m\u001b[0moutput\u001b[0m\u001b[0;34m.\u001b[0m\u001b[0mshape\u001b[0m\u001b[0;34m)\u001b[0m\u001b[0;34m)\u001b[0m\u001b[0;34m\u001b[0m\u001b[0;34m\u001b[0m\u001b[0m\n\u001b[1;32m    737\u001b[0m         self._per_output_metrics = training_utils.collect_per_output_metric_info(\n\u001b[0;32m--> 738\u001b[0;31m             metrics, self.output_names, output_shapes, self.loss_functions)\n\u001b[0m\u001b[1;32m    739\u001b[0m         self._per_output_weighted_metrics = (\n\u001b[1;32m    740\u001b[0m             training_utils.collect_per_output_metric_info(\n",
            "\u001b[0;32m/usr/local/lib/python3.6/dist-packages/keras/engine/training_utils.py\u001b[0m in \u001b[0;36mcollect_per_output_metric_info\u001b[0;34m(metrics, output_names, output_shapes, loss_fns, is_weighted)\u001b[0m\n\u001b[1;32m    941\u001b[0m             \u001b[0mmetric_name\u001b[0m \u001b[0;34m=\u001b[0m \u001b[0mget_metric_name\u001b[0m\u001b[0;34m(\u001b[0m\u001b[0mmetric\u001b[0m\u001b[0;34m,\u001b[0m \u001b[0mis_weighted\u001b[0m\u001b[0;34m)\u001b[0m\u001b[0;34m\u001b[0m\u001b[0;34m\u001b[0m\u001b[0m\n\u001b[1;32m    942\u001b[0m             metric_fn = get_metric_function(\n\u001b[0;32m--> 943\u001b[0;31m                 metric, output_shape=output_shapes[i], loss_fn=loss_fns[i])\n\u001b[0m\u001b[1;32m    944\u001b[0m \u001b[0;34m\u001b[0m\u001b[0m\n\u001b[1;32m    945\u001b[0m             \u001b[0;31m# If the metric function is not stateful, we create a stateful version.\u001b[0m\u001b[0;34m\u001b[0m\u001b[0;34m\u001b[0m\u001b[0;34m\u001b[0m\u001b[0m\n",
            "\u001b[0;32m/usr/local/lib/python3.6/dist-packages/keras/engine/training_utils.py\u001b[0m in \u001b[0;36mget_metric_function\u001b[0;34m(metric, output_shape, loss_fn)\u001b[0m\n\u001b[1;32m    984\u001b[0m     \"\"\"\n\u001b[1;32m    985\u001b[0m     \u001b[0;32mif\u001b[0m \u001b[0mmetric\u001b[0m \u001b[0;32mnot\u001b[0m \u001b[0;32min\u001b[0m \u001b[0;34m[\u001b[0m\u001b[0;34m'accuracy'\u001b[0m\u001b[0;34m,\u001b[0m \u001b[0;34m'acc'\u001b[0m\u001b[0;34m,\u001b[0m \u001b[0;34m'crossentropy'\u001b[0m\u001b[0;34m,\u001b[0m \u001b[0;34m'ce'\u001b[0m\u001b[0;34m]\u001b[0m\u001b[0;34m:\u001b[0m\u001b[0;34m\u001b[0m\u001b[0;34m\u001b[0m\u001b[0m\n\u001b[0;32m--> 986\u001b[0;31m         \u001b[0;32mreturn\u001b[0m \u001b[0mmetrics_module\u001b[0m\u001b[0;34m.\u001b[0m\u001b[0mget\u001b[0m\u001b[0;34m(\u001b[0m\u001b[0mmetric\u001b[0m\u001b[0;34m)\u001b[0m\u001b[0;34m\u001b[0m\u001b[0;34m\u001b[0m\u001b[0m\n\u001b[0m\u001b[1;32m    987\u001b[0m \u001b[0;34m\u001b[0m\u001b[0m\n\u001b[1;32m    988\u001b[0m     is_sparse_categorical_crossentropy = (\n",
            "\u001b[0;32m/usr/local/lib/python3.6/dist-packages/keras/metrics.py\u001b[0m in \u001b[0;36mget\u001b[0;34m(identifier)\u001b[0m\n\u001b[1;32m   1976\u001b[0m         \u001b[0;32mreturn\u001b[0m \u001b[0mdeserialize\u001b[0m\u001b[0;34m(\u001b[0m\u001b[0mconfig\u001b[0m\u001b[0;34m)\u001b[0m\u001b[0;34m\u001b[0m\u001b[0;34m\u001b[0m\u001b[0m\n\u001b[1;32m   1977\u001b[0m     \u001b[0;32melif\u001b[0m \u001b[0misinstance\u001b[0m\u001b[0;34m(\u001b[0m\u001b[0midentifier\u001b[0m\u001b[0;34m,\u001b[0m \u001b[0msix\u001b[0m\u001b[0;34m.\u001b[0m\u001b[0mstring_types\u001b[0m\u001b[0;34m)\u001b[0m\u001b[0;34m:\u001b[0m\u001b[0;34m\u001b[0m\u001b[0;34m\u001b[0m\u001b[0m\n\u001b[0;32m-> 1978\u001b[0;31m         \u001b[0;32mreturn\u001b[0m \u001b[0mdeserialize\u001b[0m\u001b[0;34m(\u001b[0m\u001b[0mstr\u001b[0m\u001b[0;34m(\u001b[0m\u001b[0midentifier\u001b[0m\u001b[0;34m)\u001b[0m\u001b[0;34m)\u001b[0m\u001b[0;34m\u001b[0m\u001b[0;34m\u001b[0m\u001b[0m\n\u001b[0m\u001b[1;32m   1979\u001b[0m     \u001b[0;32melif\u001b[0m \u001b[0mcallable\u001b[0m\u001b[0;34m(\u001b[0m\u001b[0midentifier\u001b[0m\u001b[0;34m)\u001b[0m\u001b[0;34m:\u001b[0m\u001b[0;34m\u001b[0m\u001b[0;34m\u001b[0m\u001b[0m\n\u001b[1;32m   1980\u001b[0m         \u001b[0;32mreturn\u001b[0m \u001b[0midentifier\u001b[0m\u001b[0;34m\u001b[0m\u001b[0;34m\u001b[0m\u001b[0m\n",
            "\u001b[0;32m/usr/local/lib/python3.6/dist-packages/keras/metrics.py\u001b[0m in \u001b[0;36mdeserialize\u001b[0;34m(config, custom_objects)\u001b[0m\n\u001b[1;32m   1968\u001b[0m                                     \u001b[0mmodule_objects\u001b[0m\u001b[0;34m=\u001b[0m\u001b[0mglobals\u001b[0m\u001b[0;34m(\u001b[0m\u001b[0;34m)\u001b[0m\u001b[0;34m,\u001b[0m\u001b[0;34m\u001b[0m\u001b[0;34m\u001b[0m\u001b[0m\n\u001b[1;32m   1969\u001b[0m                                     \u001b[0mcustom_objects\u001b[0m\u001b[0;34m=\u001b[0m\u001b[0mcustom_objects\u001b[0m\u001b[0;34m,\u001b[0m\u001b[0;34m\u001b[0m\u001b[0;34m\u001b[0m\u001b[0m\n\u001b[0;32m-> 1970\u001b[0;31m                                     printable_module_name='metric function')\n\u001b[0m\u001b[1;32m   1971\u001b[0m \u001b[0;34m\u001b[0m\u001b[0m\n\u001b[1;32m   1972\u001b[0m \u001b[0;34m\u001b[0m\u001b[0m\n",
            "\u001b[0;32m/usr/local/lib/python3.6/dist-packages/keras/utils/generic_utils.py\u001b[0m in \u001b[0;36mdeserialize_keras_object\u001b[0;34m(identifier, module_objects, custom_objects, printable_module_name)\u001b[0m\n\u001b[1;32m    165\u001b[0m             \u001b[0;32mif\u001b[0m \u001b[0mfn\u001b[0m \u001b[0;32mis\u001b[0m \u001b[0;32mNone\u001b[0m\u001b[0;34m:\u001b[0m\u001b[0;34m\u001b[0m\u001b[0;34m\u001b[0m\u001b[0m\n\u001b[1;32m    166\u001b[0m                 raise ValueError('Unknown ' + printable_module_name +\n\u001b[0;32m--> 167\u001b[0;31m                                  ':' + function_name)\n\u001b[0m\u001b[1;32m    168\u001b[0m         \u001b[0;32mreturn\u001b[0m \u001b[0mfn\u001b[0m\u001b[0;34m\u001b[0m\u001b[0;34m\u001b[0m\u001b[0m\n\u001b[1;32m    169\u001b[0m     \u001b[0;32melse\u001b[0m\u001b[0;34m:\u001b[0m\u001b[0;34m\u001b[0m\u001b[0;34m\u001b[0m\u001b[0m\n",
            "\u001b[0;31mValueError\u001b[0m: Unknown metric function:precision_score"
          ]
        }
      ]
    },
    {
      "cell_type": "code",
      "metadata": {
        "id": "9yRypxQrUlx_",
        "outputId": "15517771-b953-4141-f165-51142dd0639c",
        "colab": {
          "base_uri": "https://localhost:8080/",
          "height": 397
        }
      },
      "source": [
        "history = model.fit(X_train,\n",
        "                    y_train,\n",
        "                    epochs=10,\n",
        "                    batch_size=512,\n",
        "                    validation_data=(X_val, y_val))"
      ],
      "execution_count": null,
      "outputs": [
        {
          "output_type": "stream",
          "text": [
            "Train on 187511 samples, validate on 60000 samples\n",
            "Epoch 1/10\n",
            "187511/187511 [==============================] - 2s 10us/step - loss: 559.7027 - accuracy: 0.8442 - val_loss: 113.6433 - val_accuracy: 0.9167\n",
            "Epoch 2/10\n",
            "187511/187511 [==============================] - 2s 10us/step - loss: 51.3316 - accuracy: 0.8456 - val_loss: 19.3212 - val_accuracy: 0.9171\n",
            "Epoch 3/10\n",
            "187511/187511 [==============================] - 2s 10us/step - loss: 4.6338 - accuracy: 0.8782 - val_loss: 0.5236 - val_accuracy: 0.9172\n",
            "Epoch 4/10\n",
            "187511/187511 [==============================] - 2s 10us/step - loss: 0.3894 - accuracy: 0.9196 - val_loss: 0.3108 - val_accuracy: 0.9173\n",
            "Epoch 5/10\n",
            "187511/187511 [==============================] - 2s 10us/step - loss: 0.3014 - accuracy: 0.9197 - val_loss: 0.3318 - val_accuracy: 0.9156\n",
            "Epoch 6/10\n",
            "187511/187511 [==============================] - 2s 10us/step - loss: 0.2794 - accuracy: 0.9197 - val_loss: 0.3149 - val_accuracy: 0.9173\n",
            "Epoch 7/10\n",
            "187511/187511 [==============================] - 2s 10us/step - loss: 0.2794 - accuracy: 0.9197 - val_loss: 0.3160 - val_accuracy: 0.9173\n",
            "Epoch 8/10\n",
            "187511/187511 [==============================] - 2s 10us/step - loss: 0.2794 - accuracy: 0.9197 - val_loss: 0.3151 - val_accuracy: 0.9173\n",
            "Epoch 9/10\n",
            "187511/187511 [==============================] - 2s 10us/step - loss: 0.2794 - accuracy: 0.9197 - val_loss: 0.3149 - val_accuracy: 0.9173\n",
            "Epoch 10/10\n",
            "187511/187511 [==============================] - 2s 10us/step - loss: 0.2794 - accuracy: 0.9197 - val_loss: 0.3150 - val_accuracy: 0.9173\n"
          ],
          "name": "stdout"
        }
      ]
    },
    {
      "cell_type": "code",
      "metadata": {
        "id": "uwEypyT6V75_",
        "outputId": "0e6572a4-624a-44e8-d1d3-60060d0b036d",
        "colab": {
          "base_uri": "https://localhost:8080/",
          "height": 295
        }
      },
      "source": [
        "import matplotlib.pyplot as plt\n",
        "history_dict = history.history\n",
        "loss_values = history_dict['loss']\n",
        "val_loss_values = history_dict['val_loss']\n",
        "epochs = range(1, len(loss_values) + 1)\n",
        "plt.plot(epochs, loss_values, 'bo', label='Training loss')\n",
        "plt.plot(epochs, val_loss_values, 'b', label='Validation loss')\n",
        "plt.title('Training and validation loss')\n",
        "plt.xlabel('Epochs')\n",
        "plt.ylabel('Loss')\n",
        "plt.legend()\n",
        "plt.show()"
      ],
      "execution_count": null,
      "outputs": [
        {
          "output_type": "display_data",
          "data": {
            "image/png": "[encoded data removed]",
            "text/plain": [
              "<Figure size 432x288 with 1 Axes>"
            ]
          },
          "metadata": {
            "tags": [],
            "needs_background": "light"
          }
        }
      ]
    },
    {
      "cell_type": "code",
      "metadata": {
        "id": "Nis9HYvOWMun",
        "outputId": "3cb49d83-8b82-4c3b-8798-cf9920b40dba",
        "colab": {
          "base_uri": "https://localhost:8080/",
          "height": 51
        }
      },
      "source": [
        "results = model.evaluate(X_test, y_test)\n",
        "results"
      ],
      "execution_count": null,
      "outputs": [
        {
          "output_type": "stream",
          "text": [
            "60000/60000 [==============================] - 1s 18us/step\n"
          ],
          "name": "stdout"
        },
        {
          "output_type": "execute_result",
          "data": {
            "text/plain": [
              "[20.012977793872356, 0.919783353805542]"
            ]
          },
          "metadata": {
            "tags": []
          },
          "execution_count": 46
        }
      ]
    },
    {
      "cell_type": "code",
      "metadata": {
        "id": "wFJVZDIvWtcN"
      },
      "source": [
        "y_pred = model.predict(X_test)\n",
        "y_train_pred = model.predict(X_train)"
      ],
      "execution_count": null,
      "outputs": []
    },
    {
      "cell_type": "code",
      "metadata": {
        "id": "BqeSvJbUXIor",
        "outputId": "f0b0099d-6c98-409c-f909-8a0586c634d3",
        "colab": {
          "base_uri": "https://localhost:8080/",
          "height": 137
        }
      },
      "source": [
        "y_pred  # y_pred and y_train_pred contain continuous values. \n",
        "# Hence, we cannot use accuracy_score, precision_score, etc. directly to measure performance"
      ],
      "execution_count": null,
      "outputs": [
        {
          "output_type": "execute_result",
          "data": {
            "text/plain": [
              "array([[0.08014178],\n",
              "       [0.08014178],\n",
              "       [0.08014178],\n",
              "       ...,\n",
              "       [0.08014178],\n",
              "       [0.08014178],\n",
              "       [0.08014178]], dtype=float32)"
            ]
          },
          "metadata": {
            "tags": []
          },
          "execution_count": 52
        }
      ]
    },
    {
      "cell_type": "code",
      "metadata": {
        "id": "IqqFKpSdWtcX",
        "outputId": "1197eec8-c79a-44af-fd1b-c91caa5c3f23",
        "colab": {
          "base_uri": "https://localhost:8080/",
          "height": 68
        }
      },
      "source": [
        "df['TARGET'].value_counts()"
      ],
      "execution_count": null,
      "outputs": [
        {
          "output_type": "execute_result",
          "data": {
            "text/plain": [
              "0    282686\n",
              "1     24825\n",
              "Name: TARGET, dtype: int64"
            ]
          },
          "metadata": {
            "tags": []
          },
          "execution_count": 48
        }
      ]
    },
    {
      "cell_type": "code",
      "metadata": {
        "id": "VtyxXxtjW9LA"
      },
      "source": [
        "from sklearn.metrics import accuracy_score, precision_score, recall_score, confusion_matrix"
      ],
      "execution_count": null,
      "outputs": []
    },
    {
      "cell_type": "code",
      "metadata": {
        "id": "9Yc23YZdWtcf",
        "outputId": "ecd8af51-5476-4ae9-94ca-5da072179716",
        "colab": {
          "base_uri": "https://localhost:8080/",
          "height": 360
        }
      },
      "source": [
        "print(\"Training accuracy: \", accuracy_score(y_train, y_train_pred))\n",
        "print(\"Training recall: \", recall_score(y_train, y_train_pred))\n",
        "print(\"Training precision: \", precision_score(y_train, y_train_pred))\n",
        "confusion_matrix(y_train, y_train_pred)"
      ],
      "execution_count": null,
      "outputs": [
        {
          "output_type": "error",
          "ename": "ValueError",
          "evalue": "ignored",
          "traceback": [
            "\u001b[0;31m---------------------------------------------------------------------------\u001b[0m",
            "\u001b[0;31mValueError\u001b[0m                                Traceback (most recent call last)",
            "\u001b[0;32m<ipython-input-51-dfb7c9e232f8>\u001b[0m in \u001b[0;36m<module>\u001b[0;34m()\u001b[0m\n\u001b[0;32m----> 1\u001b[0;31m \u001b[0mprint\u001b[0m\u001b[0;34m(\u001b[0m\u001b[0;34m\"Training accuracy: \"\u001b[0m\u001b[0;34m,\u001b[0m \u001b[0maccuracy_score\u001b[0m\u001b[0;34m(\u001b[0m\u001b[0my_train\u001b[0m\u001b[0;34m,\u001b[0m \u001b[0my_train_pred\u001b[0m\u001b[0;34m)\u001b[0m\u001b[0;34m)\u001b[0m\u001b[0;34m\u001b[0m\u001b[0;34m\u001b[0m\u001b[0m\n\u001b[0m\u001b[1;32m      2\u001b[0m \u001b[0mprint\u001b[0m\u001b[0;34m(\u001b[0m\u001b[0;34m\"Training recall: \"\u001b[0m\u001b[0;34m,\u001b[0m \u001b[0mrecall_score\u001b[0m\u001b[0;34m(\u001b[0m\u001b[0my_train\u001b[0m\u001b[0;34m,\u001b[0m \u001b[0my_train_pred\u001b[0m\u001b[0;34m)\u001b[0m\u001b[0;34m)\u001b[0m\u001b[0;34m\u001b[0m\u001b[0;34m\u001b[0m\u001b[0m\n\u001b[1;32m      3\u001b[0m \u001b[0mprint\u001b[0m\u001b[0;34m(\u001b[0m\u001b[0;34m\"Training precision: \"\u001b[0m\u001b[0;34m,\u001b[0m \u001b[0mprecision_score\u001b[0m\u001b[0;34m(\u001b[0m\u001b[0my_train\u001b[0m\u001b[0;34m,\u001b[0m \u001b[0my_train_pred\u001b[0m\u001b[0;34m)\u001b[0m\u001b[0;34m)\u001b[0m\u001b[0;34m\u001b[0m\u001b[0;34m\u001b[0m\u001b[0m\n\u001b[1;32m      4\u001b[0m \u001b[0mconfusion_matrix\u001b[0m\u001b[0;34m(\u001b[0m\u001b[0my_train\u001b[0m\u001b[0;34m,\u001b[0m \u001b[0my_train_pred\u001b[0m\u001b[0;34m)\u001b[0m\u001b[0;34m\u001b[0m\u001b[0;34m\u001b[0m\u001b[0m\n",
            "\u001b[0;32m/usr/local/lib/python3.6/dist-packages/sklearn/metrics/_classification.py\u001b[0m in \u001b[0;36maccuracy_score\u001b[0;34m(y_true, y_pred, normalize, sample_weight)\u001b[0m\n\u001b[1;32m    183\u001b[0m \u001b[0;34m\u001b[0m\u001b[0m\n\u001b[1;32m    184\u001b[0m     \u001b[0;31m# Compute accuracy for each possible representation\u001b[0m\u001b[0;34m\u001b[0m\u001b[0;34m\u001b[0m\u001b[0;34m\u001b[0m\u001b[0m\n\u001b[0;32m--> 185\u001b[0;31m     \u001b[0my_type\u001b[0m\u001b[0;34m,\u001b[0m \u001b[0my_true\u001b[0m\u001b[0;34m,\u001b[0m \u001b[0my_pred\u001b[0m \u001b[0;34m=\u001b[0m \u001b[0m_check_targets\u001b[0m\u001b[0;34m(\u001b[0m\u001b[0my_true\u001b[0m\u001b[0;34m,\u001b[0m \u001b[0my_pred\u001b[0m\u001b[0;34m)\u001b[0m\u001b[0;34m\u001b[0m\u001b[0;34m\u001b[0m\u001b[0m\n\u001b[0m\u001b[1;32m    186\u001b[0m     \u001b[0mcheck_consistent_length\u001b[0m\u001b[0;34m(\u001b[0m\u001b[0my_true\u001b[0m\u001b[0;34m,\u001b[0m \u001b[0my_pred\u001b[0m\u001b[0;34m,\u001b[0m \u001b[0msample_weight\u001b[0m\u001b[0;34m)\u001b[0m\u001b[0;34m\u001b[0m\u001b[0;34m\u001b[0m\u001b[0m\n\u001b[1;32m    187\u001b[0m     \u001b[0;32mif\u001b[0m \u001b[0my_type\u001b[0m\u001b[0;34m.\u001b[0m\u001b[0mstartswith\u001b[0m\u001b[0;34m(\u001b[0m\u001b[0;34m'multilabel'\u001b[0m\u001b[0;34m)\u001b[0m\u001b[0;34m:\u001b[0m\u001b[0;34m\u001b[0m\u001b[0;34m\u001b[0m\u001b[0m\n",
            "\u001b[0;32m/usr/local/lib/python3.6/dist-packages/sklearn/metrics/_classification.py\u001b[0m in \u001b[0;36m_check_targets\u001b[0;34m(y_true, y_pred)\u001b[0m\n\u001b[1;32m     88\u001b[0m     \u001b[0;32mif\u001b[0m \u001b[0mlen\u001b[0m\u001b[0;34m(\u001b[0m\u001b[0my_type\u001b[0m\u001b[0;34m)\u001b[0m \u001b[0;34m>\u001b[0m \u001b[0;36m1\u001b[0m\u001b[0;34m:\u001b[0m\u001b[0;34m\u001b[0m\u001b[0;34m\u001b[0m\u001b[0m\n\u001b[1;32m     89\u001b[0m         raise ValueError(\"Classification metrics can't handle a mix of {0} \"\n\u001b[0;32m---> 90\u001b[0;31m                          \"and {1} targets\".format(type_true, type_pred))\n\u001b[0m\u001b[1;32m     91\u001b[0m \u001b[0;34m\u001b[0m\u001b[0m\n\u001b[1;32m     92\u001b[0m     \u001b[0;31m# We can't have more than one value on y_type => The set is no more needed\u001b[0m\u001b[0;34m\u001b[0m\u001b[0;34m\u001b[0m\u001b[0;34m\u001b[0m\u001b[0m\n",
            "\u001b[0;31mValueError\u001b[0m: Classification metrics can't handle a mix of binary and continuous targets"
          ]
        }
      ]
    },
    {
      "cell_type": "code",
      "metadata": {
        "id": "OngkBamGWtcn",
        "outputId": "9f2938f3-4dd2-4ca8-82b4-bb390c404ee6",
        "colab": {
          "base_uri": "https://localhost:8080/",
          "height": 108
        }
      },
      "source": [
        "print(\"Test accuracy: \", accuracy_score(y_test, y_pred))\n",
        "print(\"Test recall: \", recall_score(y_test, y_pred))\n",
        "print(\"Test precision: \", precision_score(y_test, y_pred))\n",
        "confusion_matrix(y_test, y_pred)"
      ],
      "execution_count": null,
      "outputs": [
        {
          "output_type": "stream",
          "text": [
            "Test accuracy:  0.9192226644813861\n",
            "Test recall:  0.010638297872340425\n",
            "Test precision:  0.4782608695652174\n"
          ],
          "name": "stdout"
        },
        {
          "output_type": "execute_result",
          "data": {
            "text/plain": [
              "array([[70602,    72],\n",
              "       [ 6138,    66]])"
            ]
          },
          "metadata": {
            "tags": []
          },
          "execution_count": 151
        }
      ]
    },
    {
      "cell_type": "code",
      "metadata": {
        "id": "1ZZ5fnZTWtcx",
        "outputId": "dcedd06e-baa5-482a-ce6c-aab48df02c76",
        "colab": {
          "base_uri": "https://localhost:8080/",
          "height": 54
        }
      },
      "source": [
        "confusion_matrix(y_train, y_train_pred)"
      ],
      "execution_count": null,
      "outputs": [
        {
          "output_type": "execute_result",
          "data": {
            "text/plain": [
              "array([[211744,    268],\n",
              "       [ 18343,    278]])"
            ]
          },
          "metadata": {
            "tags": []
          },
          "execution_count": 142
        }
      ]
    },
    {
      "cell_type": "code",
      "metadata": {
        "id": "Xi3H9FRBWtc3",
        "outputId": "f7ad352e-99ee-4450-a180-5fa29981cf34",
        "colab": {
          "base_uri": "https://localhost:8080/",
          "height": 35
        }
      },
      "source": [
        "precision_score(y_train, y_train_pred)"
      ],
      "execution_count": null,
      "outputs": [
        {
          "output_type": "execute_result",
          "data": {
            "text/plain": [
              "0.5091575091575091"
            ]
          },
          "metadata": {
            "tags": []
          },
          "execution_count": 143
        }
      ]
    },
    {
      "cell_type": "code",
      "metadata": {
        "id": "rIVJyfBrWtc9",
        "outputId": "314a8709-7172-4697-c1ba-0eea0e1da41c",
        "colab": {
          "base_uri": "https://localhost:8080/",
          "height": 54
        }
      },
      "source": [
        "confusion_matrix(y_test, y_pred)"
      ],
      "execution_count": null,
      "outputs": [
        {
          "output_type": "execute_result",
          "data": {
            "text/plain": [
              "array([[70577,    97],\n",
              "       [ 6123,    81]])"
            ]
          },
          "metadata": {
            "tags": []
          },
          "execution_count": 140
        }
      ]
    },
    {
      "cell_type": "code",
      "metadata": {
        "id": "rrG975pRU6Y9"
      },
      "source": [
        ""
      ],
      "execution_count": null,
      "outputs": []
    },
    {
      "cell_type": "markdown",
      "metadata": {
        "id": "GIXt5Aq1Qm-a"
      },
      "source": [
        ""
      ]
    }
  ]
}